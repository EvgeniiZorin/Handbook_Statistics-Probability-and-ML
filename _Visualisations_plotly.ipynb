{
 "cells": [
  {
   "cell_type": "markdown",
   "metadata": {},
   "source": [
    "```py\n",
    "fig1.update_traces(\n",
    "    ### Make a coloured outline around the bars (in the case of a barplot)\n",
    "    marker_line_color = 'red',\n",
    "    marker_line_width=3\n",
    ")\n",
    "```"
   ]
  },
  {
   "cell_type": "code",
   "execution_count": null,
   "metadata": {},
   "outputs": [],
   "source": []
  }
 ],
 "metadata": {
  "language_info": {
   "name": "python"
  }
 },
 "nbformat": 4,
 "nbformat_minor": 2
}
