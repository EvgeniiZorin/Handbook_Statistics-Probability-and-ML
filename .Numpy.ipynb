{
 "cells": [
  {
   "attachments": {},
   "cell_type": "markdown",
   "metadata": {},
   "source": [
    "# Introduction\n",
    "\n",
    "Numpy is based on C++, so it's faster than Python"
   ]
  },
  {
   "cell_type": "code",
   "execution_count": 1,
   "metadata": {},
   "outputs": [
    {
     "data": {
      "text/plain": [
       "array([137.45401188, 195.07143064, 173.19939418, 159.86584842,\n",
       "       115.60186404, 115.59945203, 105.80836122, 186.61761458,\n",
       "       160.11150117, 170.80725778])"
      ]
     },
     "execution_count": 1,
     "metadata": {},
     "output_type": "execute_result"
    }
   ],
   "source": [
    "# numpy seed makes sure that you get the same randomness every time\n",
    "import numpy as np\n",
    "\n",
    "np.random.seed(42)\n",
    "\n",
    "\"\"\"\n",
    "The function below will always generate an array of random numbers, \n",
    "which nevertheless are the following every time:\n",
    "array([137.45401188, 195.07143064, 173.19939418, 159.86584842,\n",
    "       115.60186404, 115.59945203, 105.80836122, 186.61761458,\n",
    "       160.11150117, 170.80725778])\n",
    "\"\"\"\n",
    "np.random.uniform(100, 200, 10)"
   ]
  },
  {
   "attachments": {},
   "cell_type": "markdown",
   "metadata": {},
   "source": [
    "# Array\n",
    "\n",
    "If you have an array, but you need a list, you can make a convertion: `y = x.tolist()`"
   ]
  },
  {
   "cell_type": "code",
   "execution_count": 8,
   "metadata": {},
   "outputs": [
    {
     "name": "stdout",
     "output_type": "stream",
     "text": [
      "(2, 2, 3)\n",
      "int32\n",
      "['a' 'b' 'c']\n"
     ]
    },
    {
     "data": {
      "text/plain": [
       "array([2])"
      ]
     },
     "execution_count": 8,
     "metadata": {},
     "output_type": "execute_result"
    }
   ],
   "source": [
    "import numpy as np\n",
    "\n",
    "# Create an array from a python list\n",
    "list1 = [1,2,3]\n",
    "array1 = np.array(list1)\n",
    "\n",
    "# Create arrays\n",
    "vector1 = np.array([1, 2, 3, 4], dtype=int)\n",
    "array2d_1 = np.array([[1, 2, 3], [3, 4, 5]])\n",
    "array2d_2 = np.array([[1, 2, 3], [3, 4, 5]])\n",
    "array3d = np.array([\n",
    "\t[\n",
    "\t\t[1, 2, 3],\n",
    "\t\t[4, 5, 6],\n",
    "\t], \n",
    "\t[\n",
    "\t\t[7, 8, 9],\n",
    "\t\t[10, 11, 12],\n",
    "\t]\n",
    "])\n",
    "\n",
    "# Get information\n",
    "print( array3d.shape )\n",
    "print( array3d.dtype )\n",
    "\n",
    "# Access one element\n",
    "array3d[1,1,2]\n",
    "# Range > subarray\n",
    "array3d[0, :, :2]\n",
    "\n",
    "# Multi-indexing > numpy array\n",
    "vector1[[0, 3, 2]]\n",
    "\n",
    "# Get only the zero-index elements from a nested array\n",
    "# You can only do it with the numpy array - with the nested list like this:\n",
    "# list1 = [['a',1], ['b',2], ['c',3]]\n",
    "# print(list1[:, 0])\n",
    "#  it is an invalid operation!\n",
    "list1 = np.array( [['a',1], ['b',2], ['c',3]] )\n",
    "print(list1[:, 0])\n",
    "\n",
    "# Compare numpy arrays, output = array of booleans\n",
    "array2d_1 == array2d_2\n",
    "# sum booleans (True=1, False=0)\n",
    "(array2d_1 == array2d_2).sum()\n",
    "\n",
    "\"\"\"\n",
    "Array manipulation functions: \n",
    "np.reshape, np.stack, np.concatenate, np.split\n",
    "\"\"\"\n",
    "\n",
    "# Boolean arrays (masks)\n",
    "a = np.arange(5)\n",
    "# Boolean arrays - a way of select multiindex items\n",
    "a[[True, False, False, True, False]]\n",
    "# Create a boolean mask\n",
    "mask = a < 0\n",
    "a[mask]\n",
    "# Get elements greater than 5\n",
    "a[a > a.mean()]\n",
    "\n",
    "# generate a boolean array from an array\n",
    "a >= 2\n",
    "# same but just choose items which match the criterion\n",
    "a[a >= 2]\n",
    "\n",
    "\n",
    "mask = a[(a == 0) | (a == 1)]\n",
    "a[mask]\n",
    "# or\n",
    "a[ (a==2) | (a==10) ]\n"
   ]
  },
  {
   "cell_type": "code",
   "execution_count": 9,
   "metadata": {},
   "outputs": [
    {
     "name": "stdout",
     "output_type": "stream",
     "text": [
      "[1. 2. 3. 4. 5. 6.]\n",
      "[[1 2 3]\n",
      " [4 5 6]]\n"
     ]
    }
   ],
   "source": [
    "# Appending to an array\n",
    "\n",
    "## 1. If you are working with a flat 1D array\n",
    "import numpy as np\n",
    "arr1 = np.array([])\n",
    "arr1 = np.append(arr1, [1,2,3])\n",
    "arr1 = np.append(arr1, [4,5,6])\n",
    "print(arr1)\n",
    "\n",
    "## 2. If you want to create an empty array and then append to it, \n",
    "## creating an N-dimensional array\n",
    "arr2 = np.empty((0,3), int)\n",
    "arr2 = np.append(arr2, [[1,2,3]], axis=0)\n",
    "arr2 = np.append(arr2, [[4,5,6]], axis=0)\n",
    "print(arr2)"
   ]
  },
  {
   "cell_type": "code",
   "execution_count": 15,
   "metadata": {},
   "outputs": [
    {
     "name": "stderr",
     "output_type": "stream",
     "text": [
      "C:\\Users\\evgen\\AppData\\Local\\Temp\\ipykernel_17512\\166412512.py:52: DeprecationWarning: `np.int` is a deprecated alias for the builtin `int`. To silence this warning, use `int` by itself. Doing this will not modify any behavior and is safe. When replacing `np.int`, you may wish to use e.g. `np.int64` or `np.int32` to specify the precision. If you wish to review your current use, check the release note link for additional information.\n",
      "Deprecated in NumPy 1.20; for more details and guidance: https://numpy.org/devdocs/release/1.20.0-notes.html#deprecations\n",
      "  np.zeros(5, dtype=np.int)\n",
      "C:\\Users\\evgen\\AppData\\Local\\Temp\\ipykernel_17512\\166412512.py:56: DeprecationWarning: `np.int` is a deprecated alias for the builtin `int`. To silence this warning, use `int` by itself. Doing this will not modify any behavior and is safe. When replacing `np.int`, you may wish to use e.g. `np.int64` or `np.int32` to specify the precision. If you wish to review your current use, check the release note link for additional information.\n",
      "Deprecated in NumPy 1.20; for more details and guidance: https://numpy.org/devdocs/release/1.20.0-notes.html#deprecations\n",
      "  np.zeros((3, 2), dtype=np.int)\n"
     ]
    },
    {
     "data": {
      "text/plain": [
       "array([[1, 0, 0],\n",
       "       [0, 1, 0],\n",
       "       [0, 0, 1]])"
      ]
     },
     "execution_count": 15,
     "metadata": {},
     "output_type": "execute_result"
    }
   ],
   "source": [
    "\"\"\"\n",
    "Useful Numpy functions for creating arrays: \n",
    "random, arange, empty, zeros, linspace, full, eye\n",
    "\"\"\"\n",
    "# Random 1D array, size = N items\n",
    "np.random.random(size=2)\n",
    "# Create 3x3x3 random array\n",
    "np.random.random(size=(3,3,3))\n",
    "\n",
    "# Random 1D array, normal distribution\n",
    "np.random.normal(size=2)\n",
    "\n",
    "# RANDOM floats from uniform distribution, range [0,1)\n",
    "# Random vector\n",
    "np.random.rand(5)\n",
    "# Random matrix with set dimensions\n",
    "np.random.rand(4, 4)\n",
    "\n",
    "# Random array with int values btw 1-10\n",
    "np.random.randint(10, size=3)\n",
    "# Random array with int values btw 10-29\n",
    "np.random.randint(10, 20, size=3)\n",
    "\n",
    "# RANDOM floats from normal distribution\n",
    "np.random.randn(4, 4)\n",
    "\n",
    "# RANDOM floats btw two values\n",
    "np.random.uniform(5, 10, 5)\n",
    "\n",
    "\n",
    "# Array from 0 to 9\n",
    "np.arange(10)\n",
    "# Array from 5 to 9\n",
    "np.arange(5, 10)\n",
    "# Array from 0 to 0.9, with step 0.1\n",
    "np.arange(0, 1, 0.1)\n",
    "# In descending order\n",
    "np.arange(1, 11)[::-1]\n",
    "\n",
    "# Reshape 1D array into set dimensions\n",
    "np.arange(10).reshape(2, 5)\n",
    "# Create a 3x3 numpy matrix filled with values 0-8\n",
    "np.arange(0, 9).reshape(3,3)\n",
    "\n",
    "# Empty\n",
    "np.empty(5)\n",
    "np.empty((2,2))\n",
    "\n",
    "# Zeros\n",
    "## 1D all zeros\n",
    "np.zeros(5)\n",
    "np.zeros(5, dtype=np.int)\n",
    "np\n",
    "## 2D all zeros\n",
    "np.zeros((3, 2))\n",
    "np.zeros((3, 2), dtype=np.int)\n",
    "## 3D all zeros\n",
    "np.zeros((2, 3, 4))\n",
    "\n",
    "# Ones\n",
    "## 2D all ones\n",
    "np.ones((3, 2))\n",
    "np.ones((3, 3), dtype=int)\n",
    "\n",
    "# Linspace\n",
    "# return N=100 evenly-spaced numbers from 0 to 30\n",
    "np.linspace(0, 30, 100)\n",
    "\n",
    "# Create a matrix of 2rows-3columns with value 42\n",
    "np.full([2, 3], 42)\n",
    "\n",
    "# Create an identity matrix\n",
    "np.eye(3)\n",
    "np.identity(3, dtype=int)"
   ]
  },
  {
   "attachments": {},
   "cell_type": "markdown",
   "metadata": {},
   "source": [
    "# Math and stats"
   ]
  },
  {
   "cell_type": "code",
   "execution_count": 2,
   "metadata": {},
   "outputs": [
    {
     "data": {
      "text/plain": [
       "False"
      ]
     },
     "execution_count": 2,
     "metadata": {},
     "output_type": "execute_result"
    }
   ],
   "source": [
    "import numpy as np\n",
    "\n",
    "np.sign(5) == np.sign(-5)"
   ]
  },
  {
   "cell_type": "code",
   "execution_count": 14,
   "metadata": {},
   "outputs": [],
   "source": [
    "\"\"\"\n",
    "Mathematics functions: \n",
    "np.sum, np.exp, np.round\n",
    "\"\"\"\n",
    "vector1 = np.array([1, 2, 3, 4], dtype=int)\n",
    "vector2 = np.array([1, 2, 3, 4], dtype=int)\n",
    "\n",
    "# Element-wise addition\n",
    "vector1 + vector2\n",
    "\n",
    "# Add a scalar\n",
    "vector1 + 10\n",
    "# Inplace\n",
    "vector1 += 10\n",
    "\n"
   ]
  },
  {
   "cell_type": "code",
   "execution_count": 12,
   "metadata": {},
   "outputs": [
    {
     "data": {
      "text/plain": [
       "array([ 4, 10, 18])"
      ]
     },
     "execution_count": 12,
     "metadata": {},
     "output_type": "execute_result"
    }
   ],
   "source": [
    "\"\"\"\n",
    "Linear algebra:\n",
    "np.matmul, np.dot, np.transpose, np.eigvals\n",
    "\"\"\"\n",
    "\n",
    "a = np.array([\n",
    "\t[1, 2, 3], \n",
    "\t[4, 5, 6], \n",
    "\t[7, 8, 9]\n",
    "])\n",
    "b = np.random.rand(3, 3)\n",
    "\n",
    "# Dot product\n",
    "a.dot(b)\n",
    "\n",
    "# Vector multiplication\n",
    "vector1 = np.array([1, 2, 3])\n",
    "vector2 = np.array([4, 5, 6])\n",
    "vector1 * vector2\n"
   ]
  },
  {
   "cell_type": "code",
   "execution_count": 13,
   "metadata": {},
   "outputs": [
    {
     "data": {
      "text/plain": [
       "12"
      ]
     },
     "execution_count": 13,
     "metadata": {},
     "output_type": "execute_result"
    }
   ],
   "source": [
    "\"\"\"\n",
    "Statistics functions:\n",
    "np.mean, np.median, np.std, np.max\n",
    "\"\"\"\n",
    "vector1 = np.array([1, 2, 3, 4], dtype=int)\n",
    "vector2 = np.array([1, 2, 3, 4], dtype=int)\n",
    "array2d = np.array([\n",
    "\t[1, 2, 3], \n",
    "\t[4, 5, 6]\n",
    "])\n",
    "array3d = np.array([\n",
    "\t[\n",
    "\t\t[1, 2, 3],\n",
    "\t\t[4, 5, 6],\n",
    "\t], \n",
    "\t[\n",
    "\t\t[7, 8, 9],\n",
    "\t\t[10, 11, 12],\n",
    "\t]\n",
    "])\n",
    "\n",
    "array3d[0, 0].sum()\n",
    "array3d[0, 0].mean()\n",
    "array3d[0, 0].std()\n",
    "\n",
    "array2d.sum() # sum of all elements\n",
    "array2d.sum(axis=0) # sum of columns\n",
    "array2d.sum(axis=1) # sum of rows\n",
    "\n",
    "\n",
    "array3d.max()"
   ]
  },
  {
   "cell_type": "code",
   "execution_count": 17,
   "metadata": {},
   "outputs": [
    {
     "data": {
      "image/png": "[encoded data removed]",
      "text/plain": [
       "<Figure size 432x288 with 1 Axes>"
      ]
     },
     "metadata": {
      "needs_background": "light"
     },
     "output_type": "display_data"
    }
   ],
   "source": [
    "import numpy as np\n",
    "import matplotlib.pyplot as plt\n",
    "import seaborn as sns\n",
    "\n",
    "sample = np.random.normal(\n",
    "\t150, # mean = 150\n",
    "\t10, # SD = 10\n",
    "\t30 # n=30\n",
    "\t)\n",
    "\n",
    "sns.kdeplot(sample);"
   ]
  },
  {
   "cell_type": "code",
   "execution_count": 18,
   "metadata": {},
   "outputs": [
    {
     "data": {
      "text/plain": [
       "[<matplotlib.lines.Line2D at 0x156bc7a20e0>]"
      ]
     },
     "execution_count": 18,
     "metadata": {},
     "output_type": "execute_result"
    },
    {
     "data": {
      "image/png": "[encoded data removed]",
      "text/plain": [
       "<Figure size 432x288 with 1 Axes>"
      ]
     },
     "metadata": {
      "needs_background": "light"
     },
     "output_type": "display_data"
    }
   ],
   "source": [
    "import numpy as np, matplotlib.pyplot as plt\n",
    "from scipy.special import factorial\n",
    "\n",
    "# When working with arrays, you need to use scipy to calculate factorial numbers\n",
    "\n",
    "# Plot a graph of combinations without repetitions \"n choose r\"\n",
    "# where in this case 'r' has a fixed value of 2 \n",
    "\n",
    "x = np.arange(3, 11, 1)\n",
    "y = factorial(x) / ( factorial(2) * factorial(x-2) )\n",
    "plt.plot( x, y )"
   ]
  },
  {
   "attachments": {},
   "cell_type": "markdown",
   "metadata": {},
   "source": [
    "# Change arrays"
   ]
  },
  {
   "cell_type": "code",
   "execution_count": 10,
   "metadata": {},
   "outputs": [
    {
     "data": {
      "text/plain": [
       "array([1, 2, 3, 5, 6, 8, 9])"
      ]
     },
     "execution_count": 10,
     "metadata": {},
     "output_type": "execute_result"
    }
   ],
   "source": [
    "X = np.array([5, 1, 2, 3, 6, 9, 8])\n",
    "X = np.sort(X)\n",
    "X"
   ]
  },
  {
   "cell_type": "code",
   "execution_count": 11,
   "metadata": {},
   "outputs": [
    {
     "data": {
      "text/plain": [
       "array([10, 15, 20, 25, 30, 35, 40, 45, 50])"
      ]
     },
     "execution_count": 11,
     "metadata": {},
     "output_type": "execute_result"
    }
   ],
   "source": [
    "# Flatten the matrix into an array\n",
    "a = np.array([[10,15,20], [25,30,35], [40,45,50]])\n",
    "a.reshape(-1)"
   ]
  },
  {
   "cell_type": "code",
   "execution_count": 19,
   "metadata": {},
   "outputs": [
    {
     "name": "stdout",
     "output_type": "stream",
     "text": [
      "1471398210768 1472041141616\n"
     ]
    },
    {
     "name": "stderr",
     "output_type": "stream",
     "text": [
      "C:\\Users\\evgen\\AppData\\Local\\Temp\\ipykernel_17512\\1783876320.py:21: DeprecationWarning: `np.float` is a deprecated alias for the builtin `float`. To silence this warning, use `float` by itself. Doing this will not modify any behavior and is safe. If you specifically wanted the numpy scalar type, use `np.float64` here.\n",
      "Deprecated in NumPy 1.20; for more details and guidance: https://numpy.org/devdocs/release/1.20.0-notes.html#deprecations\n",
      "  Y = np.array(X, np.float)\n"
     ]
    }
   ],
   "source": [
    "\"\"\"\n",
    "Copy matrices\n",
    "\"\"\"\n",
    "import numpy as np\n",
    "\n",
    "X = np.arange(4, dtype=int)\n",
    "\n",
    "# Create a copy with a different ID\n",
    "Y = np.copy(X); print(id(X), id(Y))\n",
    "\n",
    "# Create a copy array with the same dimensions, but filled with 1\n",
    "Y = np.ones_like(X)\n",
    "\n",
    "# Create a copy matrix with same dimensions, but filled with 0\n",
    "Y = np.zeros_like(X)\n",
    "\n",
    "# Create a copy matrix with same dimensions, but filled with fill_value\n",
    "Y = np.full_like(X, fill_value=7)\n",
    "\n",
    "# Convert all values into float\n",
    "Y = np.array(X, np.float)\n"
   ]
  },
  {
   "cell_type": "code",
   "execution_count": 7,
   "metadata": {},
   "outputs": [
    {
     "name": "stdout",
     "output_type": "stream",
     "text": [
      "(784,)\n",
      "(28, 28)\n"
     ]
    }
   ],
   "source": [
    "# Reshape\n",
    "import numpy as np\n",
    "\n",
    "a = np.zeros(784)\n",
    "print(a.shape)\n",
    "\n",
    "b = np.reshape( a, (28,28) )\n",
    "print(b.shape)"
   ]
  },
  {
   "cell_type": "code",
   "execution_count": 11,
   "metadata": {},
   "outputs": [
    {
     "name": "stdout",
     "output_type": "stream",
     "text": [
      "(10, 10)\n",
      "(100,)\n"
     ]
    }
   ],
   "source": [
    "a = np.zeros((10,10))\n",
    "print(a.shape)\n",
    "\n",
    "b = np.reshape(a, (100))\n",
    "print(b.shape)\n",
    "\n"
   ]
  },
  {
   "attachments": {},
   "cell_type": "markdown",
   "metadata": {},
   "source": [
    "# Sampling: permutation"
   ]
  },
  {
   "cell_type": "code",
   "execution_count": 21,
   "metadata": {},
   "outputs": [
    {
     "name": "stdout",
     "output_type": "stream",
     "text": [
      "[137 123 122 103 144 150 120 114 130 133 112 104 111 113 124 101 116 139\n",
      " 143 127 136 109 126 149 129 142 117 146 107 100 145 134 106 131 140 138\n",
      " 141 125 118 135 119 102 128 148 105 108 132 115 147 110 121]\n",
      "[36  9 18  8 25 31 38 14  4 46 48 44 26 22 12 21  5 29 11 27 30 16  2  6\n",
      " 47 49 43 33 20 13  0  3 50 15 40  1 45 17 28 41 42 24 34 19 39 37 35  7\n",
      " 10 23 32]\n"
     ]
    }
   ],
   "source": [
    "import numpy as np\n",
    "\n",
    "data = [i for i in range(100,151)]\n",
    "\n",
    "shuffled_data = np.random.permutation(data)\n",
    "print(shuffled_data)\n",
    "\n",
    "shuffled_indices = np.random.permutation(len(data))\n",
    "print(shuffled_indices)\n"
   ]
  },
  {
   "attachments": {},
   "cell_type": "markdown",
   "metadata": {},
   "source": [
    "# Size of objects in memory"
   ]
  },
  {
   "cell_type": "code",
   "execution_count": 20,
   "metadata": {},
   "outputs": [
    {
     "name": "stdout",
     "output_type": "stream",
     "text": [
      "CPU times: total: 46.9 ms\n",
      "Wall time: 41.7 ms\n",
      "CPU times: total: 0 ns\n",
      "Wall time: 1.02 ms\n"
     ]
    },
    {
     "data": {
      "text/plain": [
       "800"
      ]
     },
     "execution_count": 20,
     "metadata": {},
     "output_type": "execute_result"
    }
   ],
   "source": [
    "# Size of objects in memory\n",
    "\n",
    "# An integer 1 in Python is 28 bytes\n",
    "import sys\n",
    "sys.getsizeof(1)\n",
    "# Numpy size is much smaller\n",
    "np.dtype(int).itemsize\n",
    "\n",
    "# Lists are larger, e.g. list of one element 1 is 64 bytes\n",
    "sys.getsizeof([1])\n",
    "# An array of one element in numpy = 4 bytes\n",
    "np.array([1]).nbytes\n",
    "\n",
    "# Performance of Python\n",
    "l = list(range(100000))\n",
    "%time sum([x**2 for x in l])\n",
    "# Performance of Numpy\n",
    "a = np.arange(100000)\n",
    "%time np.sum(a**2)\n",
    "\n",
    "\n",
    "# Show memory size in bytes of a Numpy matrix\n",
    "np.zeros((10, 10)).nbytes\n"
   ]
  }
 ],
 "metadata": {
  "kernelspec": {
   "display_name": "Python 3",
   "language": "python",
   "name": "python3"
  },
  "language_info": {
   "codemirror_mode": {
    "name": "ipython",
    "version": 3
   },
   "file_extension": ".py",
   "mimetype": "text/x-python",
   "name": "python",
   "nbconvert_exporter": "python",
   "pygments_lexer": "ipython3",
   "version": "3.10.6"
  },
  "orig_nbformat": 4
 },
 "nbformat": 4,
 "nbformat_minor": 2
}
