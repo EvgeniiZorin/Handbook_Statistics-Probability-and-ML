{
 "cells": [
  {
   "attachments": {},
   "cell_type": "markdown",
   "metadata": {},
   "source": [
    "# Statistics\n",
    "\n",
    "**Statistics**: \n",
    "- a branch of science that analyses data that was collected from a sample. \n",
    "- Statistics cannot exist without data and uses it to discover probability and provides tools to describe data.\n",
    "- Statistics is the practice of collecting and analysing data to discover findings that are useful or predict what causes those findings to happen.\n",
    "\n",
    "**The Central Dogma of Statistics**: analysis of a small random sample enables drawing inferences about the entire population.\n",
    "\n",
    "<span style=\"background-color:darkred\">**There are two branches of statistics**</span>:\n",
    "- **Descriptive statistics** (deduction) - make conclusions about the sample based on the sample data. Includes terms such as mean, median, mode, variance, standard deviation, charts, bell curves, normal distribution, z-scores, PDF, CDF.\n",
    "- **Inferential statistics** (induction) (with probability) - inference about population from a sample.\n",
    "\n",
    "\n",
    "<img src=\"Media/Central_dogma_of_statistics.png\" width=\"400\"/>\n",
    "\n",
    "Moments of distribution:\n",
    "1. First moment: location (central tendency): evaluated by metrics\n",
    "2. Second moment: variability (dispersion): evaluated by metrics\n",
    "3. Third moment: skewness (inclination of the data towards smaller or larger values): evaluated visually; right-skewed - median is to the left of the mean (tail is on the right side, so the peak is to the left)\n",
    "4. Fourth moment: kurtosis (tendency of a dataset to have extreme values): evaluated visually\n",
    "\n",
    "Metrics can be:\n",
    "- Univariate (univariate analysis) - look at one variable: mean, variance\n",
    "- Bivariate: correlation\n",
    "- Multivariate: contingency table, hexagonal binning, contour plot, violin plot\n",
    "\n",
    "Some basic terms:\n",
    "| Term | Notation | Definition | Notes |\n",
    "| - | - | - | - |\n",
    "| Population | | A particular group of interest we want to study. | | \n",
    "| Sample | | A subset of the population that is (ideally) random and unbiased, which we use to infer attributes about the population. | |\n",
    "| Standard Deviation | | | the standard deviation will not tend to change as we increase the size of our sample. |\n",
    "| Standard Error | $S_{\\overline{x}} = SE = \\cfrac{S}{\\sqrt{n}}$ | SE of the sample mean indicates the uncertainty around the estimated mean from sampling distribution. | The standard error falls as the sample size increases, as the extent of chance variation is reduced. |\n",
    "| Independent variable | | a variable (often denoted by x ) whose variation does not depend on that of another. <u>Variable that is changed</u>, such as the amount of water | |\n",
    "| Dependent variable | | <u>variable affected by the change</u>, such as size of plant, number of leaves | |\n",
    "| Outlier | | values that are extremely large and small compared to the rest of the values. | |\n",
    "\n"
   ]
  },
  {
   "attachments": {},
   "cell_type": "markdown",
   "metadata": {},
   "source": [
    "# Data Types\n",
    "\n",
    "**Numerical (quantitative)** - numeric-scale data (/variables): \n",
    "- **Continuous**:  data that can take on any number within a range: height, weight; \n",
    "- **Discrete**: only integer values are possible: tablets in a bottle, rounded age; \n",
    "\n",
    "**Categorical (qualitative, factor)** - data (/variables) represented as specific values in categories. \n",
    "- **Nominal (unordered)**: categories with no meaningful order: sex, occupation; \n",
    "- **Ordinal (ordered)**: categories with a meaningful order: scale in a questionnaire, grades; \n",
    "\n",
    "\n"
   ]
  },
  {
   "attachments": {},
   "cell_type": "markdown",
   "metadata": {},
   "source": [
    "# Measures of center\n",
    "\n",
    "aka estimates of location, central tendency measures. \n",
    " \n",
    "\n",
    "| Measure | Description | Formula |\n",
    "| - | - | - |\n",
    "| **Arithmetic mean** | Average of a set of values. Shows where the \"center of gravity\" exists for a set of values.<br><br>Very susceptible to outliers. Used in unipeak normally distributed data. $\\mu$ (mu) - population mean, $\\overline{x}$ (x hat) - sample mean | $$ \\text{mean} = \\frac{ \\sum\\limits_{i=1}^{n}x_{i} }{n} \\\\~\\\\ \\text{Sample mean (x-bar): } \\overline{x} = \\cfrac{ \\sum\\limits_{i=1}^{n}x_{i} }{n} \\\\~\\\\ \\text{Population mean (mu): } \\mu = \\cfrac{ \\sum\\limits_{i=1}^{n}x_{i} }{N} $$ |\n",
    "| **Trimmed mean** | Dropping a fixed number $(p)$ of extreme values at both ends and then calculating mean. | $$\\text{trimmed mean} = \\frac{ \\sum\\limits_{i=p+1}^{n-p}x_{i} }{n-2p}$$ |\n",
    "| **Geometric mean** | $n-th$ root of the product of n values | $$x = \\sqrt[n]{a_{1}a_{2}...a_{n}}$$ | \n",
    "| **Weighted mean** | the sum of all values times their weights divided by the sum of weights. | $$ \\text{weighted mean} = \\frac{ \\sum\\limits_{i=1}^{n}w_{i}x_{i} }{ \\sum\\limits_{i=1}^{n}w_{i} }, \\\\~\\\\ \\text{where $w_{i}$ - weight of data point $x_{i}$}$$ |\n",
    "| **Harmonic mean** | Harmonic mean gives much more weight to the smaller values / observations; therefore, it is not very much affected by one or two big observations. However, it cannot be calculated if one of the values is zero. Harmonic mean is always smaller than or equal to the average. | $$ \\text{harmonic mean} = \\cfrac{ n }{ \\sum(\\cfrac{1}{x_{i}}) } $$ <br> Harmonic mean of two values $a$ and $b$ is $\\text{harmonic mean } = \\cfrac{2ab}{(a+b)}$ |\n",
    "| **Median** | Middle score (number at the center) for the sorted dataset. <br>Used in data with outliers or skewed data, as it is considered a robust estimate of location. Therefore, it is useful for outlier-heavy data, such as income data. <br>For example, if the median price of 100 items is $60, then it can be inferred that 50 items cost $60 or more. |  |\n",
    "| **Mode** | The most frequent score / value in a dataset. <br>Used in categorical data, data with clusters, or data with repeatitive values. When no value occurs more than once, there is no mode. When two values occur with an equal amount of frequency, the dataset is bimodal. |  |\n",
    "\n",
    "\n",
    "\n",
    "robust: not sensitive to extreme values. \n",
    "\n",
    "Outlier: a data value that is very different from most of the data. \n",
    "\n",
    "Expected value: mean value based on probabilities of occurrence of each category. \n",
    "- Calculated by multiplying each category (outcome) by its probability, and then sum the resulting values. \n",
    "\n",
    "\n",
    "\n"
   ]
  },
  {
   "cell_type": "code",
   "execution_count": 12,
   "metadata": {},
   "outputs": [],
   "source": [
    "import numpy as np"
   ]
  },
  {
   "cell_type": "code",
   "execution_count": 9,
   "metadata": {},
   "outputs": [
    {
     "data": {
      "text/plain": [
       "5.5"
      ]
     },
     "execution_count": 9,
     "metadata": {},
     "output_type": "execute_result"
    }
   ],
   "source": [
    "a = [5,4,6,39]\n",
    "\n",
    "np.mean(a)\n",
    "np.median(a)"
   ]
  },
  {
   "cell_type": "code",
   "execution_count": 3,
   "metadata": {},
   "outputs": [
    {
     "data": {
      "text/plain": [
       "81.4"
      ]
     },
     "execution_count": 3,
     "metadata": {},
     "output_type": "execute_result"
    }
   ],
   "source": [
    "\"\"\"\n",
    "weighted mean\n",
    "\"\"\"\n",
    "sample = [90, 80, 63, 87]\n",
    "weights = [0.2, 0.2, 0.2, 0.4]\n",
    "\n",
    "weighted_mean = sum( i*j for i, j in zip(sample, weights) ) / sum(weights)\n",
    "weighted_mean\n"
   ]
  },
  {
   "cell_type": "code",
   "execution_count": 1,
   "metadata": {},
   "outputs": [
    {
     "data": {
      "text/plain": [
       "300.0"
      ]
     },
     "execution_count": 1,
     "metadata": {},
     "output_type": "execute_result"
    }
   ],
   "source": [
    "\"\"\"\n",
    "Statistics with Pandas\n",
    "\"\"\"\n",
    "import pandas as pd\n",
    "from scipy import stats\n",
    "\n",
    "df = pd.DataFrame({\n",
    "\t'Name': ['John', 'Jake', 'Lea', 'Eugene', 'Dan', 'John', 'Jake', 'Lea', 'Eugene', 'Dan'], \n",
    "\t'Population': [100, 200, 300, 400, 500, 100, 200, 300, 400, 800]\n",
    "})\n",
    "\n",
    "len(df) # how many rows there are in a dataset\n",
    "df.describe() # describe basic stats of each column\n",
    "\n",
    "df['Population'].mean()\n",
    "df['Population'].median()\n",
    "df['body_mass_g'].sum()\n",
    "df['body_mass_g'].count() # total number of values other than NaN\n",
    "df['body_mass_g'].std()\n",
    "df['body_mass_g'].sem() # Standard Error of sampling measurement\n",
    "\n",
    "stats.trim_mean(df['Population'], 0.1) # Removes top and bottom 10%\n",
    "\n"
   ]
  },
  {
   "cell_type": "code",
   "execution_count": 3,
   "metadata": {},
   "outputs": [
    {
     "data": {
      "text/plain": [
       "3"
      ]
     },
     "execution_count": 3,
     "metadata": {},
     "output_type": "execute_result"
    }
   ],
   "source": [
    "import pandas as pd\n",
    "\n",
    "df = pd.DataFrame({\n",
    "    'name': ['John', 'John', 'Jake', 'Lenny', 'Lenny', 'Lenny'],\n",
    "    'book': ['book 1', 'book 2', 'book 3', 'book 1', 'book 2', 'book 3']\n",
    "})\n",
    "\n",
    "df['name'].value_counts().max()\n"
   ]
  },
  {
   "attachments": {},
   "cell_type": "markdown",
   "metadata": {},
   "source": [
    "# Measures of dispersion\n",
    "\n",
    "Measures of spread / variability. \n",
    "\n",
    "| Measure | Description | Formula |\n",
    "| - | - | - |\n",
    "| **Range** | Max - min value in a dataset. | $$range = max - min$$ |\n",
    "| **Midrange** | Range divided by two. | $$midrange = \\frac{max+min}{2}$$ |\n",
    "| **Quantile** | Quantiles cut points dividing the range of probability distribution into continuous interval with equal probabilities. <br>Can be: <ul><li>Median (50% quantile)</li><li>*Quartiles* (4 groups)</li><li>*Deciles* (10 groups)</li><li>*Percentiles* (100 groups)</li></ul> |  |\n",
    "| **Quartile** | Value cutting data into quarters. Contains 25%, 50%, and 75% quantiles. | <img src=\"Media/Quartile.png\" width=\"300\"/> |\n",
    "| **IQR (interquartile range)** | IQR is the difference between the 75th and the 25th percentiles; the range btw the lower (Q1) and upper (Q3) quartiles. <ul><li>Q1 (lower quartile) - median of the left half of the dataset;</li><li>Q3 (upper quartile) - median of the right half of the dataset.</li><li>Q1-Q3 = 50% of the data.</li><li>Outliers are data points that exceed the boundaries set by $Q1 - 1.5*IQR$ (lower whisker) and $Q3 + 1.5*IQR$ (upper whisker). Therefore, since the boundaries for outliers are set by whiskers, any data point outside of the whiskers is considered an outlier.</li></ul> Boxplot can be notched and include a 95%CI in the middle.<br><br>Boxplots give a five-number summary of the data: the smallest and the largest non-outlier data points, 1st quartile, 2nd quartile (median), and a 3rd quartile. | <img src=\"Media/IQR_2.png\" width=\"400\"/> |\n",
    "| **Percentile** | Percentile P is a value such that P percent of the data lies below. E.g. score of 50 is in the 90th percentile, which means that this score is better than 90% of people and that there are 10% of people that have an even better score. The 75th percentile is called 3rd quartile in the context of IQR. | $$rank = \\frac{\\# of values below x}{n} * 100$$ E.g. if there are $n=25$ observations and $24$ lie below your one, then the percentile rank is $rank = \\frac{24}{25}*100$ |\n",
    "| **Mean deviation from the mean** | BAD METRIC! The average difference of each value from the mean. Not good because positive and negative values cancel each other out, therefore we lose the measure of dispersion in this dataset. | $$ x = \\frac{ \\sum_{i=1}^{n} (x_{i}-\\overline{x}) }{n} $$ |\n",
    "| **Mean absolute deviation (MAD)** | The mean of the absolute (module) deviation from the mean. | $$MAD = \\frac{ \\sum_{i=1}^{n} \\|x_{i} - \\overline{x}\\| }{ n }$$ |\n",
    "| **Median absolute deviation from the median** | More robust. | $$MADM = median( \\|x_{1}-m\\|, \\|x_{2}-m\\|, ..., \\|x_{N}-m\\| )$$, where m - median |\n",
    "| **Variance** | Mean of squared deviations. Measures how far a set of numbers is spread out from the mean. Units = squared units, so not super intuitive. | $$variance = s^{2} = \\frac{ \\sum_{i=1}^{n} (x_{i} - \\overline{x})^{2} }{ n-1 }$$ <img src=\"Media/Variance.png\" width=\"400\"/> |\n",
    "| **SD (standard deviation)** | Square root of the variance. Shows how much, on average, the values differ from the mean. Measures sum of squared differences between each value and the mean. | $$s = \\sqrt{variance}$$ $$\\text{Population SD: } \\sigma = \\sqrt{ \\cfrac{1}{n} \\sum_{i=1}^{n} (x_{i} - \\mu)^{2} }$$ $$\\text{Sample SD: } s = \\sqrt{ \\cfrac{1}{n-1} \\sum_{i=1}^{n} (x_{i} - \\overline{x})^{2} }$$ |\n",
    "| **Coefficient of variation** | Used to compare multiple datasets. You can compare CV of two datasets. <br>It compares two distributions and quantifies how spread out each of them is. | $$CV = \\frac{\\sigma}{\\mu} = \\frac{SD}{\\overline{x}}$$ |\n",
    "| **Covariance** | Tells us if 2 values move in the same direction. 0 - independent, >0 - move together, <0 - move opposite | $$COV = \\frac{ \\sum( (x_{i}-\\overline{x})(y_{i}-\\overline{y}) ) }{ (n-1) }$$ |\n",
    "\n",
    "<br>\n",
    "\n",
    "> Note: in sample variance and SD, we use $n-1$ (and not $n$) because we want to decrease any bias in a sample and not underestimate the variance of the population based on our sample. \n",
    ">\n",
    "> By counting values short of one item in our divisor, we increase the variance and therefore capture greater uncertainty in our sample\n",
    ">\n",
    "> A larger variance / standard deviation shows less confidence with a larger range.\n",
    "\n",
    "Variance, SD are sensitive to outliers. More robust metrics - mean absolute deviation, median absolute deviation from the median, and quantiles. \n",
    "\n",
    ".\n",
    "\n",
    "> Example\n",
    "> \n",
    "> dataset = [2, 2, 3, 4, 5, 6, 7]\n",
    "> \n",
    "> Percentile rank of 4 = $3/7 * 100 = 43\\%$\n",
    "> \n",
    "> What's the index of X-th percentile? \n",
    "> \n",
    "> $index = \\frac{percentile}{100} * (n+1)$, then you take that index (rounded to the closest int) of the dataset\n",
    "> \n",
    "> E.g. at 25th percentile, the value is $= \\frac{25}{100} * (7+1) = 2$ -> 2nd value (which is 2)\n",
    "> "
   ]
  },
  {
   "cell_type": "code",
   "execution_count": 8,
   "metadata": {},
   "outputs": [
    {
     "name": "stdout",
     "output_type": "stream",
     "text": [
      "217.25\n",
      "289.6666666666667\n",
      "217.25\n",
      "289.6666666666667\n"
     ]
    }
   ],
   "source": [
    "\"\"\" Calculate variance \"\"\"\n",
    "import numpy as np\n",
    "\n",
    "a = [5,4,6,39]\n",
    "\n",
    "### Manually\n",
    "def variance(data:list, is_sample: bool):\n",
    "    mean = sum(data) / len(data)\n",
    "    squared_diff = [ (i-mean)**2 for i in data ]\n",
    "    sum_squared_diff = sum(squared_diff)\n",
    "    return sum_squared_diff / len(data) if is_sample == False else sum_squared_diff / (len(data)-1)\n",
    "\n",
    "var_population = variance(a, False)\n",
    "print(var_population)\n",
    "var_sample = variance(a, True)\n",
    "print(var_sample)\n",
    "\n",
    "### Numpy\n",
    "var_population = np.var(a) # by default - population SD\n",
    "print(var_population)\n",
    "var_sample = np.var(a, ddof=1) # sample SD\n",
    "print(var_sample)"
   ]
  },
  {
   "cell_type": "code",
   "execution_count": 3,
   "metadata": {},
   "outputs": [
    {
     "name": "stdout",
     "output_type": "stream",
     "text": [
      "Manually\n",
      "  Sample SD:     5.366563145999495\n",
      "  Population SD: 4.800000000000001\n",
      "Pandas\n",
      "  Sample SD:     5.366563145999495\n",
      "  Population SD: 4.800000000000001\n",
      "Numpy\n",
      "  Sample SD:     5.366563145999495\n",
      "  Population SD: 4.800000000000001\n"
     ]
    },
    {
     "data": {
      "text/plain": [
       "4.800000000000001"
      ]
     },
     "execution_count": 3,
     "metadata": {},
     "output_type": "execute_result"
    }
   ],
   "source": [
    "\"\"\" Calculate SD \"\"\"\n",
    "import pandas as pd, numpy as np\n",
    "\n",
    "df = pd.DataFrame({\n",
    "\t'Population': [8,11,17,7,19]\n",
    "})\n",
    "a = [8,11,17,7,19]\n",
    "\n",
    "### Manually\n",
    "\n",
    "print(\"Manually\")\n",
    "mean = sum(a)/len(a)\n",
    "SD_sample_manually = ( ( sum([ (i-mean)**2 for i in a ]) )/ (len(a)-1) )**(0.5)\n",
    "SD_pop_manually = ( ( sum([ (i-mean)**2 for i in a ]) )/len(a) )**(0.5)\n",
    "print(f\"  Sample SD:     {SD_sample_manually}\")\n",
    "print(f\"  Population SD: {SD_pop_manually}\")\n",
    "\n",
    "### Pandas\n",
    "print(\"Pandas\")\n",
    "print(f\"  Sample SD:     {df['Population'].std()}\") # By default - sample SD\n",
    "print(f\"  Population SD: {df['Population'].std(ddof=0)}\") # Population SD\n",
    "\n",
    "### Numpy\n",
    "print(\"Numpy\")\n",
    "print(f\"  Sample SD:     {np.std(a, ddof=1)}\")\n",
    "print(f\"  Population SD: {np.std(a)}\") # by default - population SD\n",
    "# or if it's a Numpy object:\n",
    "a = np.array([8,11,17,7,19])\n",
    "a.std()"
   ]
  },
  {
   "cell_type": "code",
   "execution_count": 12,
   "metadata": {},
   "outputs": [
    {
     "name": "stdout",
     "output_type": "stream",
     "text": [
      "~~~ Pandas:\n",
      "0.05    100.0\n",
      "0.25    200.0\n",
      "0.50    300.0\n",
      "0.75    400.0\n",
      "0.95    665.0\n",
      "Name: Population, dtype: float64\n",
      "\n",
      "~~~ NumPy:\n",
      "[100 200 300 400 500 100 200 300 400 800]\n"
     ]
    },
    {
     "data": {
      "text/plain": [
       "array([100., 200., 300., 400., 665.])"
      ]
     },
     "execution_count": 12,
     "metadata": {},
     "output_type": "execute_result"
    }
   ],
   "source": [
    "\"\"\" Quantiles \"\"\"\n",
    "\n",
    "import pandas as pd\n",
    "import numpy as np\n",
    "\n",
    "df = pd.DataFrame({\n",
    "\t'Name': ['John', 'Jake', 'Lea', 'Eugene', 'Dan', 'John', 'Jake', 'Lea', 'Eugene', 'Dan'], \n",
    "\t'Population': [100, 200, 300, 400, 500, 100, 200, 300, 400, 800]\n",
    "})\n",
    "\n",
    "print('~~~ Pandas:')\n",
    "print( df['Population'].quantile([0.05, 0.25, 0.5, 0.75, 0.95]) )\n",
    "\n",
    "arr1 = np.array([100, 200, 300, 400, 500, 100, 200, 300, 400, 800])\n",
    "print('\\n~~~ NumPy:')\n",
    "print(arr1)\n",
    "np.quantile( arr1, [0.05, 0.25, 0.5, 0.75, 0.95] )"
   ]
  },
  {
   "cell_type": "code",
   "execution_count": 9,
   "metadata": {},
   "outputs": [
    {
     "name": "stdout",
     "output_type": "stream",
     "text": [
      "Method 1.1: IQR = 200.0\n",
      "Method 1.2: IQR = 200.0\n",
      "Method 2.1: IQR = 200.0\n"
     ]
    }
   ],
   "source": [
    "\"\"\" Calculate IQR by different methods \"\"\"\n",
    "\n",
    "\"\"\" Method 1: Pandas \"\"\"\n",
    "import pandas as pd, numpy as np\n",
    "df = pd.DataFrame({\n",
    "\t'Name': ['John', 'Jake', 'Lea', 'Eugene', 'Dan', 'John', 'Jake', 'Lea', 'Eugene', 'Dan'], \n",
    "\t'Population': [100, 200, 300, 400, 500, 100, 200, 300, 400, 800]\n",
    "})\n",
    "## 1.1\n",
    "IQR1_1 = df['Population'].quantile(0.75) - df['Population'].quantile(0.25)\n",
    "print(f\"Method 1.1: IQR = {IQR1_1}\")\n",
    "\n",
    "## 1.2\n",
    "q25, q75 = np.percentile( df['Population'], [25,75] )\n",
    "IQR1_2 = q75 - q25\n",
    "print(f\"Method 1.2: IQR = {IQR1_2}\")\n",
    "\n",
    "\"\"\" Method 2: pure Numpy \"\"\"\n",
    "data = np.array([100, 200, 300, 400, 500, 100, 200, 300, 400, 800])\n",
    "q3, q1 = np.percentile(data, [75 ,25])\n",
    "IQR2_1 = q3 - q1\n",
    "print(f\"Method 2.1: IQR = {IQR2_1}\")"
   ]
  },
  {
   "cell_type": "code",
   "execution_count": 2,
   "metadata": {},
   "outputs": [
    {
     "data": {
      "text/plain": [
       "3.5"
      ]
     },
     "execution_count": 2,
     "metadata": {},
     "output_type": "execute_result"
    }
   ],
   "source": [
    "import numpy as np\n",
    "\n",
    "# !!!!!!!!!!!!!!!!!!!!!\n",
    "\n",
    "a = [1,2,3,4,5,5]\n",
    "\n",
    "np.percentile(a, 50)"
   ]
  },
  {
   "cell_type": "code",
   "execution_count": 41,
   "metadata": {},
   "outputs": [
    {
     "data": {
      "text/plain": [
       "1.5"
      ]
     },
     "execution_count": 41,
     "metadata": {},
     "output_type": "execute_result"
    }
   ],
   "source": [
    "a = [0,0,0,1,2,2,2,2,2,3,4]\n",
    "\n",
    "import scipy\n",
    "\n",
    "scipy.stats.iqr(a)"
   ]
  },
  {
   "cell_type": "code",
   "execution_count": 1,
   "metadata": {},
   "outputs": [
    {
     "name": "stdout",
     "output_type": "stream",
     "text": [
      "Extreme values pre-processing:  min = 1 | max = 700\n",
      "Outliers are less than 85.0 or more than 125.0\n",
      "Extreme values post-processing: min = 100 | max = 110\n"
     ]
    },
    {
     "data": {
      "text/html": [
       "<div>\n",
       "<style scoped>\n",
       "    .dataframe tbody tr th:only-of-type {\n",
       "        vertical-align: middle;\n",
       "    }\n",
       "\n",
       "    .dataframe tbody tr th {\n",
       "        vertical-align: top;\n",
       "    }\n",
       "\n",
       "    .dataframe thead th {\n",
       "        text-align: right;\n",
       "    }\n",
       "</style>\n",
       "<table border=\"1\" class=\"dataframe\">\n",
       "  <thead>\n",
       "    <tr style=\"text-align: right;\">\n",
       "      <th></th>\n",
       "      <th>Length</th>\n",
       "      <th>Width</th>\n",
       "    </tr>\n",
       "  </thead>\n",
       "  <tbody>\n",
       "    <tr>\n",
       "      <th>0</th>\n",
       "      <td>100</td>\n",
       "      <td>0</td>\n",
       "    </tr>\n",
       "    <tr>\n",
       "      <th>1</th>\n",
       "      <td>110</td>\n",
       "      <td>1</td>\n",
       "    </tr>\n",
       "    <tr>\n",
       "      <th>2</th>\n",
       "      <td>105</td>\n",
       "      <td>2</td>\n",
       "    </tr>\n",
       "    <tr>\n",
       "      <th>3</th>\n",
       "      <td>102</td>\n",
       "      <td>3</td>\n",
       "    </tr>\n",
       "    <tr>\n",
       "      <th>4</th>\n",
       "      <td>107</td>\n",
       "      <td>4</td>\n",
       "    </tr>\n",
       "  </tbody>\n",
       "</table>\n",
       "</div>"
      ],
      "text/plain": [
       "   Length  Width\n",
       "0     100      0\n",
       "1     110      1\n",
       "2     105      2\n",
       "3     102      3\n",
       "4     107      4"
      ]
     },
     "execution_count": 1,
     "metadata": {},
     "output_type": "execute_result"
    }
   ],
   "source": [
    "\"\"\" Remove outliers by IQR method \n",
    "outliers: exceed the boundaries set by top bound (Q3 + 1.5*IQR) \n",
    "and lower bound (Q1 - 1.5*IQR)\"\"\"\n",
    "\n",
    "import pandas as pd\n",
    "\n",
    "# Only one group\n",
    "df = pd.DataFrame({\n",
    "\t'Length': [100,110,105,102,107,1,2,500,700],\n",
    "\t'Width': list(range(9))\n",
    "})\n",
    "\n",
    "Q1 = df['Length'].quantile(0.25)\n",
    "Q3 = df['Length'].quantile(0.75)\n",
    "IQR = Q3 - Q1\n",
    "print(f\"Extreme values pre-processing:  min = {df['Length'].min()} | max = {df['Length'].max()}\")\n",
    "print(f\"Outliers are less than {Q1 - 1.5*IQR} or more than {Q3 + 1.5*IQR}\")\n",
    "\n",
    "# Remove outliers that exceed the outlier limits\n",
    "df1 = df.copy()\n",
    "df1 = df1[df1['Length'].between( left=(Q1-1.5*IQR), right=(Q3+1.5*IQR) )]\n",
    "print(f\"Extreme values post-processing: min = {df1['Length'].min()} | max = {df1['Length'].max()}\")\n",
    "df1\n",
    "\n"
   ]
  },
  {
   "cell_type": "code",
   "execution_count": 3,
   "metadata": {},
   "outputs": [
    {
     "name": "stdout",
     "output_type": "stream",
     "text": [
      "PRE-PROCESSING:\n",
      "Extreme values, group A:  min = 1 | max = 700\n",
      "Outliers are less than 85.0 or more than 125.0\n",
      "Extreme values, group B:  min = 5 | max = 850\n",
      "Outliers are less than 492.5 or more than 512.5\n",
      "--------------------------------------------------\n",
      "POST-PROCESSING:\n",
      "Extreme values, group A:  min = 100 | max = 110\n",
      "Outliers are less than 94.5 or more than 114.5\n",
      "Extreme values, group B:  min = 500 | max = 510\n",
      "Outliers are less than 496.375 or more than 509.375\n"
     ]
    },
    {
     "data": {
      "text/html": [
       "<div>\n",
       "<style scoped>\n",
       "    .dataframe tbody tr th:only-of-type {\n",
       "        vertical-align: middle;\n",
       "    }\n",
       "\n",
       "    .dataframe tbody tr th {\n",
       "        vertical-align: top;\n",
       "    }\n",
       "\n",
       "    .dataframe thead th {\n",
       "        text-align: right;\n",
       "    }\n",
       "</style>\n",
       "<table border=\"1\" class=\"dataframe\">\n",
       "  <thead>\n",
       "    <tr style=\"text-align: right;\">\n",
       "      <th></th>\n",
       "      <th>Type</th>\n",
       "      <th>Length</th>\n",
       "    </tr>\n",
       "  </thead>\n",
       "  <tbody>\n",
       "    <tr>\n",
       "      <th>0</th>\n",
       "      <td>A</td>\n",
       "      <td>100</td>\n",
       "    </tr>\n",
       "    <tr>\n",
       "      <th>1</th>\n",
       "      <td>A</td>\n",
       "      <td>110</td>\n",
       "    </tr>\n",
       "    <tr>\n",
       "      <th>2</th>\n",
       "      <td>A</td>\n",
       "      <td>105</td>\n",
       "    </tr>\n",
       "    <tr>\n",
       "      <th>3</th>\n",
       "      <td>A</td>\n",
       "      <td>102</td>\n",
       "    </tr>\n",
       "    <tr>\n",
       "      <th>4</th>\n",
       "      <td>A</td>\n",
       "      <td>107</td>\n",
       "    </tr>\n",
       "    <tr>\n",
       "      <th>9</th>\n",
       "      <td>B</td>\n",
       "      <td>500</td>\n",
       "    </tr>\n",
       "    <tr>\n",
       "      <th>10</th>\n",
       "      <td>B</td>\n",
       "      <td>501</td>\n",
       "    </tr>\n",
       "    <tr>\n",
       "      <th>11</th>\n",
       "      <td>B</td>\n",
       "      <td>502</td>\n",
       "    </tr>\n",
       "    <tr>\n",
       "      <th>12</th>\n",
       "      <td>B</td>\n",
       "      <td>503</td>\n",
       "    </tr>\n",
       "    <tr>\n",
       "      <th>13</th>\n",
       "      <td>B</td>\n",
       "      <td>505</td>\n",
       "    </tr>\n",
       "    <tr>\n",
       "      <th>14</th>\n",
       "      <td>B</td>\n",
       "      <td>510</td>\n",
       "    </tr>\n",
       "  </tbody>\n",
       "</table>\n",
       "</div>"
      ],
      "text/plain": [
       "   Type  Length\n",
       "0     A     100\n",
       "1     A     110\n",
       "2     A     105\n",
       "3     A     102\n",
       "4     A     107\n",
       "9     B     500\n",
       "10    B     501\n",
       "11    B     502\n",
       "12    B     503\n",
       "13    B     505\n",
       "14    B     510"
      ]
     },
     "execution_count": 3,
     "metadata": {},
     "output_type": "execute_result"
    }
   ],
   "source": [
    "# Two groups - remove outliers\n",
    "\n",
    "import pandas as pd\n",
    "df = pd.DataFrame({\n",
    "\t'Type': ['A' for i in range(9)] + ['B' for i in range(9)],\n",
    "\t'Length': [100,110,105,102,107,1,2,500,700,   500,501,502,503,505,510,100,5,850]\n",
    "})\n",
    "df\n",
    "\n",
    "df1 = df.copy()\n",
    "\n",
    "def check_outliers(dataframe):\n",
    "\tfor i in list(dataframe['Type'].unique()):\n",
    "\t\tdf_slice = dataframe[dataframe['Type'] == i]\n",
    "\t\tQ1 = df_slice.quantile(0.25)\n",
    "\t\tQ3 = df_slice.quantile(0.75)\n",
    "\t\tIQR = Q3 - Q1\n",
    "\t\tprint(f\"Extreme values, group {i}:  min = {df_slice.min()[1]} | max = {df_slice.max()[1]}\")\n",
    "\t\tprint(f\"Outliers are less than {(Q1 - 1.5*IQR)[0]} or more than {(Q3 + 1.5*IQR)[0]}\")\n",
    "\n",
    "print('PRE-PROCESSING:')\n",
    "check_outliers(df1)\n",
    "print('-'*50)\n",
    "\n",
    "def is_outlier(s):\n",
    "\t# lower_limit = s.mean() - (s.std() * 3)\n",
    "\t# upper_limit = s.mean() + (s.std() * 3)\n",
    "\tIQR = s.quantile(0.75) - s.quantile(0.25)\n",
    "\tlower_limit = s.quantile(0.25) - 1.5*IQR\n",
    "\tupper_limit = s.quantile(0.75) + 1.5*IQR\n",
    "\treturn s.between(lower_limit, upper_limit)\n",
    "\n",
    "df2 = df1[df1.groupby('Type')['Length'].apply( is_outlier )]\n",
    "print('POST-PROCESSING:')\n",
    "check_outliers(df2)\n",
    "\n",
    "df2\n"
   ]
  },
  {
   "cell_type": "code",
   "execution_count": 10,
   "metadata": {},
   "outputs": [
    {
     "name": "stdout",
     "output_type": "stream",
     "text": [
      "Extreme values pre-processing:  min = 1 | max = 700\n",
      "Outliers are less than 85.0 or more than 125.0\n",
      "Extreme values post-processing: min = 1 | max = 700\n"
     ]
    },
    {
     "data": {
      "text/html": [
       "<div>\n",
       "<style scoped>\n",
       "    .dataframe tbody tr th:only-of-type {\n",
       "        vertical-align: middle;\n",
       "    }\n",
       "\n",
       "    .dataframe tbody tr th {\n",
       "        vertical-align: top;\n",
       "    }\n",
       "\n",
       "    .dataframe thead th {\n",
       "        text-align: right;\n",
       "    }\n",
       "</style>\n",
       "<table border=\"1\" class=\"dataframe\">\n",
       "  <thead>\n",
       "    <tr style=\"text-align: right;\">\n",
       "      <th></th>\n",
       "      <th>Length</th>\n",
       "      <th>Width</th>\n",
       "      <th>Length_proc</th>\n",
       "    </tr>\n",
       "  </thead>\n",
       "  <tbody>\n",
       "    <tr>\n",
       "      <th>0</th>\n",
       "      <td>100</td>\n",
       "      <td>0</td>\n",
       "      <td>100.0</td>\n",
       "    </tr>\n",
       "    <tr>\n",
       "      <th>1</th>\n",
       "      <td>110</td>\n",
       "      <td>1</td>\n",
       "      <td>110.0</td>\n",
       "    </tr>\n",
       "    <tr>\n",
       "      <th>2</th>\n",
       "      <td>105</td>\n",
       "      <td>2</td>\n",
       "      <td>105.0</td>\n",
       "    </tr>\n",
       "    <tr>\n",
       "      <th>3</th>\n",
       "      <td>102</td>\n",
       "      <td>3</td>\n",
       "      <td>102.0</td>\n",
       "    </tr>\n",
       "    <tr>\n",
       "      <th>4</th>\n",
       "      <td>107</td>\n",
       "      <td>4</td>\n",
       "      <td>107.0</td>\n",
       "    </tr>\n",
       "    <tr>\n",
       "      <th>5</th>\n",
       "      <td>1</td>\n",
       "      <td>5</td>\n",
       "      <td>85.0</td>\n",
       "    </tr>\n",
       "    <tr>\n",
       "      <th>6</th>\n",
       "      <td>2</td>\n",
       "      <td>6</td>\n",
       "      <td>85.0</td>\n",
       "    </tr>\n",
       "    <tr>\n",
       "      <th>7</th>\n",
       "      <td>500</td>\n",
       "      <td>7</td>\n",
       "      <td>125.0</td>\n",
       "    </tr>\n",
       "    <tr>\n",
       "      <th>8</th>\n",
       "      <td>700</td>\n",
       "      <td>8</td>\n",
       "      <td>125.0</td>\n",
       "    </tr>\n",
       "  </tbody>\n",
       "</table>\n",
       "</div>"
      ],
      "text/plain": [
       "   Length  Width  Length_proc\n",
       "0     100      0        100.0\n",
       "1     110      1        110.0\n",
       "2     105      2        105.0\n",
       "3     102      3        102.0\n",
       "4     107      4        107.0\n",
       "5       1      5         85.0\n",
       "6       2      6         85.0\n",
       "7     500      7        125.0\n",
       "8     700      8        125.0"
      ]
     },
     "execution_count": 10,
     "metadata": {},
     "output_type": "execute_result"
    }
   ],
   "source": [
    "\"\"\" Substitute outliers \"\"\"\n",
    "\n",
    "# Only one group\n",
    "df = pd.DataFrame({\n",
    "\t'Length': [100,110,105,102,107,1,2,500,700],\n",
    "\t'Width': list(range(9))\n",
    "})\n",
    "\n",
    "Q1 = df['Length'].quantile(0.25)\n",
    "Q3 = df['Length'].quantile(0.75)\n",
    "IQR = Q3 - Q1\n",
    "print(f\"Extreme values pre-processing:  min = {df['Length'].min()} | max = {df['Length'].max()}\")\n",
    "print(f\"Outliers are less than {Q1 - 1.5*IQR} or more than {Q3 + 1.5*IQR}\")\n",
    "\n",
    "df1 = df.copy()\n",
    "lower_limit, upper_limit = Q1-1.5*IQR, Q3+1.5*IQR\n",
    "df1['Length_proc'] = df1['Length'].apply( lambda x: upper_limit if x > upper_limit else lower_limit if x < lower_limit else x )\n",
    "\n",
    "print(f\"Extreme values post-processing: min = {df1['Length'].min()} | max = {df1['Length'].max()}\")\n",
    "df1\n"
   ]
  },
  {
   "cell_type": "markdown",
   "metadata": {},
   "source": [
    "## Outliers"
   ]
  },
  {
   "cell_type": "code",
   "execution_count": null,
   "metadata": {},
   "outputs": [],
   "source": [
    "# Remove outliers for group, \n",
    "# substituting them for a max value that is not an outlier\n",
    "\n",
    "import pandas as pd\n",
    "\n",
    "df1 = pd.DataFrame({\n",
    "\t'C1': [-21.57, 1.24, -0.84, 32.25, 0.82, -3.11, 0.46, -18.68, 0.04, 30.87]\n",
    "})\n",
    "\n",
    "IQR = df1['C1'].quantile(0.75) - df1['C1'].quantile(0.25)\n",
    "lower_limit = df1['C1'].quantile(0.25) - 1.5*IQR\n",
    "upper_limit = df1['C1'].quantile(0.75) + 1.5*IQR\n",
    "print(f\"IQR: {IQR}\")\n",
    "print(f\"Upper limit: {upper_limit}\")\n",
    "print(f\"Lower limit: {lower_limit}\")\n",
    "\n",
    "a = list(df1['C1'])\n",
    "a.sort(reverse=True)\n",
    "print(a)\n",
    "\n",
    "max_non_outlier = 0\n",
    "for i in a:\n",
    "\tif i < upper_limit:\n",
    "\t\tmax_non_outlier = i\n",
    "\t\tbreak\n",
    "\n",
    "min_non_outlier = 0\n",
    "for i in a[::-1]:\n",
    "\tif i > lower_limit:\n",
    "\t\tmin_non_outlier = i\n",
    "\t\tbreak\n",
    "\n",
    "print(f\"{min_non_outlier}, {max_non_outlier}\")\n",
    "\n",
    "# Now let's substitute in the pandas\n",
    "print(df1)\n",
    "\n",
    "df1['C1'] = df1['C1'].apply( lambda x: max_non_outlier if x > upper_limit else x )\n",
    "df1['C1'] = df1['C1'].apply( lambda x: min_non_outlier if x < lower_limit else x )\n",
    "df1"
   ]
  },
  {
   "cell_type": "code",
   "execution_count": null,
   "metadata": {},
   "outputs": [],
   "source": [
    "# Remove outliers for group, \n",
    "# substituting them for a max value that is not an outlier\n",
    "\n",
    "import pandas as pd\n",
    "\n",
    "df1 = pd.DataFrame({\n",
    "\t'C1': [-21.57, 1.24, -0.84, 32.25, 0.82, -3.11, 0.46, -18.68, 0.04, 30.87],\n",
    "\t'C2': [-10, 1, 2, 3, 4, 4.5, 4.7, 5, 5.1, 10]\n",
    "})\n",
    "\n",
    "def return_updated_column(df_column, df1):\n",
    "\tprint(df_column)\n",
    "\tIQR = df1[df_column].quantile(0.75) - df1[df_column].quantile(0.25)\n",
    "\tlower_limit = df1[df_column].quantile(0.25) - 1.5*IQR\n",
    "\tupper_limit = df1[df_column].quantile(0.75) + 1.5*IQR\n",
    "\tprint(f\"IQR: {IQR}\")\n",
    "\tprint(f\"Upper limit: {upper_limit}\")\n",
    "\tprint(f\"Lower limit: {lower_limit}\")\n",
    "\n",
    "\ta = list(df1[df_column])\n",
    "\ta.sort(reverse=True)\n",
    "\tprint(a)\n",
    "\n",
    "\tmax_non_outlier = 0\n",
    "\tfor j in a:\n",
    "\t\tif j < upper_limit:\n",
    "\t\t\tmax_non_outlier = j\n",
    "\t\t\tbreak\n",
    "\n",
    "\tmin_non_outlier = 0\n",
    "\tfor j in a[::-1]:\n",
    "\t\tif j > lower_limit:\n",
    "\t\t\tmin_non_outlier = j\n",
    "\t\t\tbreak\n",
    "\n",
    "\tprint(f\"{min_non_outlier}, {max_non_outlier}\")\n",
    "\n",
    "\t# Now let's substitute in the pandas\n",
    "\t# print(df1)\n",
    "\tdf1[df_column] = df1[df_column].apply( lambda x: max_non_outlier if x > upper_limit else x )\n",
    "\tdf1[df_column] = df1[df_column].apply( lambda x: min_non_outlier if x < lower_limit else x )\n",
    "\tprint('sucess')\n",
    "\treturn df1[df_column]\n",
    "\n",
    "for i in list(df1.columns):\n",
    "\tdf1[i] = return_updated_column(i, df1)\n",
    "\n",
    "df1"
   ]
  },
  {
   "attachments": {},
   "cell_type": "markdown",
   "metadata": {},
   "source": [
    "# Research design\n",
    "\n",
    "Some important terms below:\n",
    "| Term | Description |\n",
    "| - | - | \n",
    "| Reliability | Repeating experiment with different people will lead to exactly the same result. |\n",
    "| Confounding | When the association between two variables can be explained by a confounding third variable exerting this association. |\n",
    "| Validity | How close your findings are to truly represent the phenomenon you are claiming to measure |\n",
    "| Internal validity | Extend to which the observed effect is caused by experimental treatment conditions, and not by the confounders. |\n",
    "| External validity | Generalisability. Experiments are high IV, low EV; observations are low IV, high EV |\n",
    "| Accuracy | How close the obtained value is to the real one. |\n",
    "| Precision | How close the repeated measures' values are to each other. |\n",
    "| Heterogeneity | Level of variation in studies due to systematic differences. |\n",
    "| Sensitivity analysis | Explores whether effect appears to be different in particular subgroups. |\n",
    "| External control | Known positive or negative samples that are used to validate the reliability of the system. |\n",
    "| Internal control | Inside, like housekeeping gene. |\n",
    "| Systematic error (bias) | Trend in data processing and collection that can lead to conclusions that are systematically different from the truth. These errors have poor accuracy and are usually reproducible. |\n",
    "| Random error (chance) | Poor precision, not reproducible; the bigger the sample size, the less chance there is of random error. |\n",
    "\n",
    ".\n",
    "\n",
    "| Type | Description | Example |\n",
    "| - | - | - |\n",
    "| Sample Study | Estimating a population parameter from a sample | Mean daily time on computer from a sample |\n",
    "| Observational Study | Trying to understand the relationship between two variables / parameters. Can establish correlation, however, this study design type is prone to confounding variables; | Relationship between computer time and blood pressure |\n",
    "| Experiment | Trying to establish causality | E.g. take 100 people, randomly assign people into two groups (control and treatment) |\n",
    "\n",
    "Types of observational studies:\n",
    "- Cohort;\n",
    "- Case-control;\n",
    "- Cross-sectional;\n",
    "\n",
    "Types of experimental studies:\n",
    "- RCT\n",
    "- Non-randomized controlled trials;\n",
    "\n",
    "Experiment design:\n",
    "- Variables can be **explanatory** (e.g. treatment) and **response** (some kind of outcome, e.g. blood pressure). \n",
    "- *Completely randomized* - each subject is randomly assigned to one of the treatment groups without extra consideration to other variables.\n",
    "- *Matched pairs* - The subjects were first put into pairs with another similar student, and it was randomly determined which member of each pair used the new study tool and which one didn't. \n",
    "- *Randomized block design*: In a randomized block design, random assignment is carried out within each block. E.g., pets can be first divided by type (cats vs dogs) and then random assignment occurred within each type, so the types are the blocks. IOW, subjects are divided into groups based on a variable before random assignment.\n",
    "\n",
    "\n"
   ]
  },
  {
   "attachments": {},
   "cell_type": "markdown",
   "metadata": {},
   "source": [
    "## Bias and fallacies\n",
    "\n",
    "Two major routes of irrational and suboptimal cognition: \n",
    "- Fallacy: mistakes of reasoning; \n",
    "- Biases: \n",
    "  - persistent and widespread psychological tendencies that can be detrimental to objectivity and rationality; \n",
    "  - In sampling, having bias means it skews our findings by overrepresenting a certain group at the expense of the other groups.\n",
    "\n",
    "| Term | Description | Example | Type | \n",
    "| - | - | - | - |\n",
    "| Acquiescence bias | When a respondent agrees with everything researcher presents, often due to fatigue | People agree to everything just for the interview to be complete | Bias |\n",
    "| Attrition bias | Unequal loss of participants from the RCT |\n",
    "| Dogmatism | The unwillingness to even consider the opponent's argument | | Bias |\n",
    "| Halo effect | Tendency to see something in a certain light because of a single attribute (positive or not) | | Bias | \n",
    "| Hawthorne effect | Alteration of behaviour by study subjects due to their awareness of being observed. | | Bias |\n",
    "| Interviewer bias | Partiality towards a preconceived response based on the structure, phrasing, tenor of questions asked in the interview. | | Bias |\n",
    "| Mud-slinging | Use of unjust accusations, aiming at damaging the opponent's reputation. | | Bias |\n",
    "| Publication bias | Outcome of an experiment influences decision to publish or not; funnel plot asymmetry, Egger's, Begg's, Maxumdar rank correlation tests | | Bias |\n",
    "| Selection bias | Patients selected for one group are fundamentally different from the other, thus lacking randomisation and representation. | | Bias |\n",
    "| Tu quoque (who are you to talk) | Intent to discredit the opponent by showing his failure to act consistently in accordance with his conclusions. | | Bias |\n",
    "| Allocation bias | Bias that arises from a systematic difference in how participants are assigned to treatment and comparison groups in a clinical trial. | | Bias |\n",
    "| Non-response bias | The people who are most likely to complete a survey are systematically different from those who don't | E.g. during the day on Monday, stay at home people or unemployed are more likely to answer a phone call for a survey; e.g. emailing customers to fill out a 10 minute survey and say that every respondent will receive a $100 gift card. | Bias |\n",
    "| Ad hominem | Attacking the person rather than the argument | | Fallacy | \n",
    "| Appeal to authority | A is an authority on a given topic, therefore, whatever he says on this topic is right. Being an expert in one field does not automatically make that expert an authority in another, unrelated field. | | Fallacy |\n",
    "| Appeal to ignorance | Conclusion based on lack of evidence to the contrary. | You cannot prove it false, therefore it is true | Fallacy |\n",
    "| Appeal to nature | Thing A is good because it is natural or thing B is bad because it is unnatural. | | Fallacy |\n",
    "| Appeal to tradition | X must be right because people have been doing X for thousands of years. | | Fallacy | \n",
    "| Argumentum ad populum | Arguing that something is valid because a lot of people believe in it. || Fallacy | \n",
    "| Burden of proof | The burden of proof always lies on the person making the claim! | Person making a claim says it's your responsibility to prove it wrong rather than for him to provide evidence. | Fallacy | \n",
    "| Circular argument (begging the question) | Repeating the same argument over and over again and not providing support for the claim (claim X assumes X is true, therefore X is true). | Everyone buys the new toys because it is the hottest toy of the season. | Fallacy |\n",
    "| Correlation proves causation | Correlation does not imply causation | Someone thinks that he got rid of acne by starting using soap, but is it really due to use of soap or, perhaps, due to some other change that he implemented in his lifestyle? | Fallacy |\n",
    "| Fallacy of composition | It it's true of parts, then it's true of the whole. | | Fallacy |\n",
    "| Fallacy of division | If it's true of the whole, then it's true of the parts. | | Fallacy | \n",
    "| False dichotomy | Black or white, nothing in between . | | Fallacy |\n",
    "| Genetic fallacy | Assuming that the argument is wrong only based on its source. | | Fallacy |\n",
    "| Hasty generalisations (anecdotal evidence) | Conclusion is not logically justified by sufficient or unbiased evidence, or not enough of it. | | Fallacy | \n",
    "| Loaded question | Asking a question containing a presumption, so that it's impossible to answer without accepting the presumption and appearing guilty | Why does China make such junk? Do dogs still run away from you on the streets? | Fallacy |\n",
    "| Moving the goalposts | | You say you can read minds, you fail the test, so you say you can only read minds that are on the right wavelength. | Fallacy | \n",
    "| Occam's razor | Given several possible explanations, the simplest one is probably right; least complicated explanation is probably right; choose explanations that have observed factors, rather than lots of unknown or unobserved variables | | Fallacy |\n",
    "| Red herring | Presented argument is not relevant to the issue being discussed and serves as a distraction | when your mom gets your phone bill and you have gone over the limit, you begin talking to her about how hard your math class is and how well you did on a test today | Fallacy |\n",
    "| Reverse appeal to authority | | Bad person did thing A, therefore, this thing A is bad. | Fallacy |\n",
    "| Slippery slope | Assumption that one step will inevitably lead to another, and so on. | | Fallacy |\n",
    "| Strawman fallacy | Opponent is attacking a twisted version of the original argument to make it easier to critique. | We need to cut down on fossil fuel - oh, so you want to ban all cars? | Fallacy |\n",
    "| Survivorship bias |  | | Fallacy | \n",
    "| The bias fallacy | | They are biased, so they are wrong. | Fallacy |\n",
    "| The Kafka trap | If someone is denying being X, then this denial is proof that the person is X, because all X's would deny being X's. | | Fallacy |\n",
    "\n",
    "Bias related to sampling:\n",
    "- **Self-selection bias**: a specific group is more likely to include themselves in a sample; e.g. sampling through social media might bias the sample as people using social media might also be systematically different on a variable of interest. \n",
    "- **Survival / survivorship / survivor bias**: Logical error of not taking into account the failed cases (usually due to their lack of publicity), focusing only on those that have succeeded in achieving a certain goal. E.g. WW2 Abraham Wald airplane armouring; management consulting companies and book publishers like to identify traits of successful companies and individuals and use them as predictors for future successes, not accounting for companies/individuals that failed in obscurity (https://xkcd.com/1827/)\n",
    "\n",
    "Bias related to hypothesis testing:\n",
    "- **Confirmation bias**: gathering only data that supports your belief, which can even be done unknowingly. Researcher forms a hypothesis and then uses information to confirm their hypothesis, dismissing the evidence that doesn't support their hypothesis.\n",
    "\n"
   ]
  },
  {
   "attachments": {},
   "cell_type": "markdown",
   "metadata": {},
   "source": [
    "## Sampling\n",
    "\n",
    "**Simple random sampling**: randomly select 250 numbers from all the vehicle registration numbers that are issued for a car model and survey them about it. \n",
    "\n",
    "**Stratified sampling**: the population is divided into homogeneous subgroups called strata,\n",
    "and the right number of instances is sampled from each stratum to guarantee that the\n",
    "test set is representative of the overall population. \n",
    "\n",
    "E.g. When a survey\n",
    "company decides to call 1,000 people to ask them a few questions, they don’t just pick\n",
    "1,000 people randomly in a phone book. They try to ensure that these 1,000 people\n",
    "are representative of the whole population. For example, the US population is com‐\n",
    "posed of 51.3% female and 48.7% male, so a well-conducted survey in the US would\n",
    "try to maintain this ratio in the sample: 513 female and 487 male.\n"
   ]
  },
  {
   "attachments": {},
   "cell_type": "markdown",
   "metadata": {},
   "source": [
    "# Distributions\n",
    "\n",
    "**Uniform distribution** - a flat distribution where any number is equally likely. \n",
    "\n",
    "**Sample** - a small subset of size $n$ from a larger dataset (**population**) of size $N$. \n",
    "\n",
    "\n",
    "**Random sampling** - a process where each datapoint in the population dataset has the same probability of being chosen; to reduce sample bias. \n",
    "\n",
    "\n",
    "Errors could be due to random chance (random, no tendency) and due to bias (when there is a tendency). \n",
    "\n",
    "Stratified sampling - splitting the population by group (e.g. age) and randomly obtaining samples from a certain stratum. \n",
    "\n",
    "**Bias** - (in statistics) a systematic error in measurement or sampling.\n",
    "\n",
    "| Bias | Explanation | Example |\n",
    "| - | - | - |\n",
    "| Sample bias | The sample is meaningfully and non-randomly different from the underlying population from which it was drawn. | > 1936, *Literary Digest* poll vs George Gallup for predicting Alf Landon vs Franklin Roosevelt. |\n",
    "| Selection bias | The sample is selectively chosen, which results in a misleading conclusion. | **Data snooping** - sorting through the data until some interesting pattern is found. \"If you tortute the data long enough, sooner or later it will confess.\" **Vast Search Effect** - if different models and hypotheses are repeatedly run on a large dataset, sooner or later something will be found. **Regression to the Mean** - extreme observations, which very often are due to luck, tend to be followed by more central ones; example - \"rookie of the year, sophomore slump\" phenomenon in sports. |\n",
    "\n",
    "\n",
    "\n",
    "**Data (population) distribution** - the frequency distribution of individual data points in the population (original) dataset. \n",
    "\n",
    "After we sample, we get **sampling distribution** - the frequency distribution of sample's statistic (e.g. mean) over many samples. \n",
    "\n"
   ]
  },
  {
   "attachments": {},
   "cell_type": "markdown",
   "metadata": {},
   "source": [
    "## Confidence Intervals\n",
    "\n",
    "**Confidence intervals**: a more accurate alternative to point estimates. CI are used to show variation in the sample distribution. As per the CLT, the more data you have the narrower the distribution and (presumably) the narrower the CI. A *correct interpretation* of the CI is that if we repeat the sampling process and for each one construct intervals, about 90% (or 95%, or whatever level you choose) will contain the true proportion / mean. \n",
    "\n",
    "Terms:\n",
    "- **level of confidence (LOC)**, e.g. 90%, 95%\n",
    "\n",
    "Conditions for constructing confidence intervals:\n",
    "- **The data is randomly sampled** (Random Sample) from the population of interest;\n",
    "- **The Normal condition** - data is approximately normally distributed:\n",
    "  - For *Proportions*, the observed counts of successes and failures <u>within the sample</U> are both sufficiently large, where there are at least 10 of each group. IOW, $n\\hat{p} \\ge 10 \\text{ and } n(1-\\hat{p}) \\ge 10$;\n",
    "  - For *Means*, data is approximately normally distributed, meaning that either $n \\ge 30$ or distribution of one sample is approximately normal;\n",
    "- **Individual observations can be considered independent** (Independence Condition). This condition can be met if 1) the sample size is less than 10% of the population or 2) can also consider independent if we sample with replacement. \n",
    "\n",
    "CI = proportion (or mean) plus/minus margin of error.\n",
    "\n",
    "Sample size must be at least 30 to (as per the central limit theorem) use z-table. If you want to apply a confidence interval to a smaller sample, we need to use a distribution with higher variance (fatter tails reflecting higher uncertainty), i.e. t-distribution. \n",
    "\n",
    "Formulae:\n",
    "\n",
    "| Action | Formula | Notes |\n",
    "| - | - | - |\n",
    "| Estimating population proportion (z-interval) | $$CI = \\hat{p} \\pm Z^{*}S$$ $$CI = \\hat{p} \\pm Z^{*} \\sqrt{\\frac{\\hat{p}(1-\\hat{p})}{n}}$$, $S$ - standard error | Check critical value in the **Z-table** |\n",
    "| Estimating population mean (t-interval) | $$CI = \\text{ sample mean +/- E}$$ $$CI = \\overline{x} \\pm t^{*} \\sigma_{\\text{statistic}}$$ $$CI = \\overline{x} \\pm t^{*} \\frac{S}{\\sqrt{n}}$$, $S$ - standard error | Check critical value in the **t-table**. Conditions for valid t-interval: random sample from population of interest, individual observations are independent (sample < 10% of population), normal sampling distribution (distribution of 1 sample that we take can be not normal, however, t-interval presumes taking samples over and over again, so if n >= 30, then CLT applies; or original distribution is normal). Another thing is that we are using *t-table* because we don't know population SD and we work with sample SD; however, if we do know population SD, then we can use *z-statistic* instead.|\n",
    "\n",
    "90% CI: 9/10 of intervals contain mean. \n",
    "\n",
    "For different confidence interval levels, we use the correspondent critical $Z^{*}$ or $t^{*}$ values. For example, for a 80% confidence interval, we use a $Z^{*}=1.282$. \n",
    "\n",
    "*Margin of Error, E* - the number that we can subtract or add to the sample mean to be within the indicated $Z^{*}$ confidence level from the sample mean. \n",
    "- $E = \\pm Z \\cfrac{S}{\\sqrt{n}}$\n",
    "\n",
    "We can calculate confidence intervals without the Z-table or t-table. \n",
    "\n",
    "For example, if we have a bootstrap sampling distribution, for an $x%$ CI you can trim $\\frac{(100-x)}{2}$ from each end of the distribution, and the trim points define the bounds of the CI. \n",
    "\n",
    "---\n",
    "\n",
    "**Examples for CI for population proportion**:\n",
    "\n",
    "<u>Example</u>: \n",
    "\n",
    "You have 500 songs on your phone, and you want to estimate proportion of songs that are rock. You take a random sample of 50 songs, and 20 songs in this sample are rock. Construct 90% confidence interval for the proportion of songs. \n",
    "\n",
    "First, check that conditions are, indeed, met: random, normal, independent. \n",
    "\n",
    "$$CI = 0.4 \\pm 1.645 \\sqrt{\\frac{0.4*0.6}{50}}$$\n",
    "\n",
    "<u>Example - margin of error for population proportion</u>:\n",
    "\n",
    "We want to make a one-sample z interval to estimate proprtion of community that does X. What is the small sample size needed to obtain a margin of error no more than 2% at 95% confidence level.\n",
    "\n",
    "Margin of error is $\\pm 95%$\n",
    "\n",
    "95% confidence level, $Z^{*} = 1.96$, proportions unknown, therefore, we take the proportion maximizing the SE - 0.5 and 0.5. Subsequently, we have an equation: $1.96* \\sqrt{\\cfrac{0.5*0.5}{n}} \\le 0.02$ \n",
    "\n",
    "Solving for $n$, we get $n \\ge 2401$. Therefore, for a margin of error of 2% at 95% confidence level, we have to sample at least 2401 people.\n",
    "\n",
    "<u>Example</u>:\n",
    "\n",
    "From a population of 6250 teachers, 250 were randomly selected. Of those, 142 answered \"Yes\" to a question and the rest - \"No\". What is the 99% CI for the proportion of teachers who answered \"Yes\"?\n",
    "\n",
    "First, let's start off, judging from the z-table, that there is a 99% chance that a random $\\overline{x}$ is within 2.58*sigma (of sample) of the mean of sampling distribution.\n",
    "\n",
    "$p_{yes} = \\cfrac{142}{250} = 0.568; \\text{ } p_{no} = 0.432$\n",
    "\n",
    "$SE = \\sqrt{\\cfrac{p(1-p)}{n}} = \\sqrt{\\cfrac{0.432*0.568}{250}} = 0.03133$\n",
    "\n",
    "$CI = \\overline{x} \\pm 2.58*0.03133 = \\overline{x} \\pm 0.08$\n",
    "\n",
    "Therefore, we can say that we are 99% confident that $P$ (population proportion) is within $0.08$ of the $0.568$ estimate ($0.568 \\pm 0.08$), or within the range of $(0.488, 0.648)$\n",
    "\n",
    "---\n",
    "\n",
    "**Examples for CI for population mean**:\n",
    "\n",
    "<u>Example</u>:\n",
    "\n",
    "> Rex wanted to estimate the mean finishing time for the approximately 50,000 finishers at the New York City Marathon. \n",
    "> \n",
    "> He took a random sample of 10 finishers' times, which were skewed to the right with a sample mean of 271.5 minutes. He's considering using his data to make a confidence interval for the mean finishing time. \n",
    "> \n",
    "> Which conditions for constructing a t-interval have been met?\n",
    "\n",
    "- Data is a random sample - met;\n",
    "- Sampling distribution is **not** approximately normal, since sample size is less than 10 and the population distributions appears to be skewed right;\n",
    "- Individual observations can be considered independent, since sample is less than 10% of population.\n",
    "\n",
    "<u>Example</u>:\n",
    "\n",
    "> Zachary wondered how many text messages he sent on a daily basis over the past four years. \n",
    "> \n",
    "> He took an SRS (simple random sample) of 50 days from that time period and found that he sent a daily average of 22.5 text messages. The daily number of texts in the sample were strongly skewed to the right with many outliers. He's considering using his data to make a confidence interval for his mean number of daily texts over that entire time period.\n",
    "> \n",
    "> Which conditions for constructing a t-interval have been met?\n",
    "\n",
    "- Data is a random sample - met;\n",
    "- Sampling distribution is approximately normal, as sample size is greater than 30. Therefore, even though distribution of this one sample is not normal, the sampling distribution of many samples will be roughly normal;\n",
    "- Individual observations can be considered independent, as sampled is less than 10% of population.\n",
    "\n",
    "<u>Example</u>:\n",
    "\n",
    "> A nutritionist wants to estimate the average caloric content of the burritos at a popular restaurant. \n",
    "> \n",
    "> They obtain a random sample of 14 burritos and measure their caloric content. The sample data are roughly symmetric with a mean of 700 calories and a standard deviation of 50 calories. \n",
    "> \n",
    "> Construct a 95% confidence interval for the mean caloric content of these burritos.\n",
    "\n",
    "First, check that conditions are, indeed, met:\n",
    "- Random sample;\n",
    "- Independent - the sample is less than 10% of all burritos served in the restaurant;\n",
    "- Normal distribution - n < 30, however, the distribution of 1 sample is roughly normal.\n",
    "\n",
    "$CI = 700 \\pm 2.160*\\frac{50}{\\sqrt{14}} = 700 \\pm 28.9$\n",
    "\n",
    "Therefore, the final CI interval is $(728.9, 671.1)$\n",
    "\n",
    "<u>Example - smallest sample size for a given margin of error</u>\n",
    "\n",
    "> Nadia wants to create a CI to estimate the mean driving range for her company's new electric vehicle. \n",
    ">\n",
    "> She wants margin of error to be no more than 10 kilometers at 90% level of confidence. A pilot study suggests that the driving ranges for this type of vehicle have a SD of 15 kilometers. \n",
    ">\n",
    "> What is the smallest approximate sample size to obtain the required margin of error? \n",
    "\n",
    "We can use z-statistic, because we know the population SD. \n",
    "\n",
    "$Z^{*}_{90\\%} = 1.645$. \n",
    "\n",
    "$\\cfrac{1.645*15}{\\sqrt{n}} \\le 10$, which after simplification looks like this: $n \\ge 6.09$. \n",
    "\n",
    "Therefore, the minimum sample size for a margin of error of 10 at 90% confidence level is **6** people.\n",
    "\n",
    "> Based on a sample of 31 golden retrievers with a sample mean of 64.408 and a sample standard deviation of 2.05, what is the 95% confidence interval for the population mean? \n",
    "\n",
    "I think that for this case, we are ok with using a z-table and a z-value. \n",
    "\n",
    "For 95% confidence level, Z = +/- 1.95996. \n",
    "\n",
    "$\\text{Margin of Error E }= \\pm 1.95996 \\cfrac{2.05}{\\sqrt{31}} = \\pm 0.72164$\n",
    "\n",
    "$\\text{95\\% confidence interval } = 64.408 \\pm 0.72164$\n",
    "\n",
    "Interpretation of the result: based on my sample of 31 golden retriever weights with sample mean 64.408 and sample standard deviation of 2.05, I am 95% confident that the population mean lies between 63.686 and 65.1296. \n",
    "\n",
    "---\n",
    "\n",
    "**Examples for CI for difference of two means**\n",
    "\n",
    "<u>Example</u>:\n",
    "\n",
    "Two groups of 100 people. Group 1 $\\mu = 9.31$  ($S = 4.67$), group 2 $\\mu = 7.40$ ($S = 4.04$). \n",
    "\n",
    "$\\overline{x}_{1} - \\overline{x}_{2} = 9.31 - 7.40 = 1.91$\n",
    "\n",
    "$\\alpha = 0.05$, two-tail, so $0.025$ from each end. Look up in the Z-table -> $Z = 1.96$. Interpretation - there is a 95% chance that the true mean of the difference of the sample lies within 1.96 SD within the x1 - x2. \n",
    "\n",
    "Calculate SD for the difference of sample means:\n",
    "\n",
    "$ \\sigma_{\\overline{x}_{1} - \\overline{x}_{2}}^{2} = \\sigma_{\\overline{x}_{1}}^{2} + \\sigma_{\\overline{x}_{2}}^{2} = \\sigma_{x_{1}}^{2}/100 + \\sigma_{x_{2}}^{2}/100 $\n",
    "\n",
    "$ \\sigma_{\\overline{x}_{1} - \\overline{x}_{2}} = \\sqrt{ S_{1}^{2}/100 + S_{2}^{2}/100 } = 0.617$\n",
    "\n",
    "$CI = 1.91 \\pm 1.21$ - We are confident that there is a 95% chance that the true difference of the two samples lies between 0.7 and 3.12.  \n",
    "\n",
    "---\n",
    "\n",
    "\n"
   ]
  },
  {
   "cell_type": "code",
   "execution_count": 3,
   "metadata": {},
   "outputs": [
    {
     "name": "stdout",
     "output_type": "stream",
     "text": [
      "      nflId height  weight   birthDate          collegeName Position  \\\n",
      "0     42901    6-1     208  1992-07-25        James Madison       SS   \n",
      "1     43501    6-0     220  1994-08-11     Central Michigan       FS   \n",
      "2     43534    6-0     205  1993-06-02             Illinois       SS   \n",
      "3     43535    6-1     235  1992-12-22               Temple      MLB   \n",
      "4     44174    6-1     236  1993-02-22           Texas Tech      ILB   \n",
      "...     ...    ...     ...         ...                  ...      ...   \n",
      "2727  33216    6-3     320  06/16/1986      Central Florida        G   \n",
      "2728  33184    6-3     265  05/02/1985  Winston-Salem State       DE   \n",
      "2729  45651    5-9     198  06/16/1993                 Iowa       WR   \n",
      "2730  41284     73     230  1992-10-20                  LSU       RB   \n",
      "2731  42849   5-10     205  12/14/1992           Texas Tech       WR   \n",
      "\n",
      "            displayName  \n",
      "0          Dean Marlowe  \n",
      "1         Kavon Frazier  \n",
      "2     Clayton Fejedelem  \n",
      "3      Tyler Matakevich  \n",
      "4          Sam Eguavoen  \n",
      "...                 ...  \n",
      "2727        Josh Sitton  \n",
      "2728      William Hayes  \n",
      "2729     Riley McCarron  \n",
      "2730        Jeremy Hill  \n",
      "2731    Bradley Marquez  \n",
      "\n",
      "[2732 rows x 7 columns]\n",
      "(73.15635474266416, 75.34364525733584)\n",
      "(73.89067399716308, 74.20932600283692)\n"
     ]
    },
    {
     "name": "stderr",
     "output_type": "stream",
     "text": [
      "C:\\Users\\evgen\\AppData\\Local\\Temp\\ipykernel_23356\\3668113417.py:20: DeprecationWarning: Use of keyword argument `alpha` for method `interval` is deprecated. Use first positional argument or keyword argument `confidence` instead.\n",
      "  a = st.t.interval(alpha=0.95, df=len(data)-1, loc=np.mean(data), scale=st.sem(data))\n",
      "C:\\Users\\evgen\\AppData\\Local\\Temp\\ipykernel_23356\\3668113417.py:24: DeprecationWarning: Use of keyword argument `alpha` for method `interval` is deprecated. Use first positional argument or keyword argument `confidence` instead.\n",
      "  b = st.norm.interval(alpha=0.95, loc=np.mean(data), scale=st.sem(data))\n"
     ]
    }
   ],
   "source": [
    "\"\"\"Confidence Intervals\"\"\"\n",
    "\n",
    "import numpy as np, scipy.stats as st, pandas as pd\n",
    "\n",
    "player_data_import = pd.read_csv('example_datasets/players.csv')\n",
    "player_data_import\n",
    "print(player_data_import)\n",
    "\n",
    "# Data cleaning\n",
    "## Convert inches and feet to inches only\n",
    "player_data_import['height_inches'] = player_data_import['height'].apply(\n",
    "\tlambda x: int(x.split('-')[0]) *12 + int(x.split('-')[1]) if len(x.split('-')) ==2 \n",
    "\telse int(x) )\n",
    "player_data_import\n",
    "\n",
    "\n",
    "# create 95% CI for population mean weight\n",
    "# sample_size < 30 -> t-distribution\n",
    "data = player_data_import['height_inches'].sample(20)\n",
    "a = st.t.interval(alpha=0.95, df=len(data)-1, loc=np.mean(data), scale=st.sem(data))\n",
    "print(a)\n",
    "# the same but > 30 observations -> normal distribution\n",
    "data = player_data_import['height_inches'].sample(1000)\n",
    "b = st.norm.interval(alpha=0.95, loc=np.mean(data), scale=st.sem(data))\n",
    "print(b)\n"
   ]
  },
  {
   "attachments": {},
   "cell_type": "markdown",
   "metadata": {},
   "source": [
    "## Transforming data"
   ]
  },
  {
   "cell_type": "code",
   "execution_count": 33,
   "metadata": {},
   "outputs": [
    {
     "name": "stdout",
     "output_type": "stream",
     "text": [
      "Parameters:\n",
      " - Original dataset:             {'mean': 6.166666666666667, 'median': 5.5, 'std': 2.9953667926019047, 'iqr': 2.75}\n",
      " - Added '5' to each value:      {'mean': 11.166666666666666, 'median': 10.5, 'std': 2.9953667926019047, 'iqr': 2.75}\n",
      " - Multiplied by '5' each value: {'mean': 30.833333333333332, 'median': 27.5, 'std': 14.976833963009524, 'iqr': 13.75}\n"
     ]
    }
   ],
   "source": [
    "\"\"\" Effects of changing data (shifting and scaling the data) on the statistical parameters \"\"\"\n",
    "\n",
    "data = [7,7,5,8,10,13,5,3,2,3,5,6]\n",
    "\n",
    "def parameters(data):\n",
    "\t\"\"\"\n",
    "\tReturns the following dictionary:\n",
    "\t{'mean':0, 'std':0, 'median':0, 'iqr':0}\n",
    "\t\"\"\"\n",
    "\tIQR = np.percentile(np.array(data), 75) - np.percentile(np.array(data), 25)\n",
    "\toutput = {\n",
    "\t\t'mean': np.mean(data),\n",
    "\t\t'median': np.median(data),\n",
    "\t\t'std': np.std(data),\n",
    "\t\t'iqr': IQR\n",
    "\t}\n",
    "\treturn output\n",
    "\n",
    "print(\"Parameters:\")\n",
    "print( f\" - Original dataset:             {parameters(data)}\" )\n",
    "# Adding a number (shifting): mean +5, median +5, SD and IQR stay the same\n",
    "print( f\" - Added '5' to each value:      {parameters([i+5 for i in data])}\")\n",
    "# Multiply (scaling) by a number: mean *5, median *5, SD *5, IQR *5\n",
    "print( f\" - Multiplied by '5' each value: {parameters([i*5 for i in data])}\")\n",
    "# In conclusion, mean and median change in shifting and scaling the data, while SD and IQR change only in scaling the data."
   ]
  },
  {
   "attachments": {},
   "cell_type": "markdown",
   "metadata": {},
   "source": [
    "## Probability distribution\n",
    "\n",
    "Some example of probability distributions:\n",
    "- density curves. \n",
    "- Binomial distribution\n",
    "- Beta distribution\n",
    "- Normal distribution\n",
    "- chi-square distribution\n",
    "- t-distribution\n",
    "- poisson\n",
    "- exponential\n",
    "- gamma \n",
    "\n",
    "Probability model is valid if:\n",
    "- All options add up to 100%; "
   ]
  },
  {
   "cell_type": "code",
   "execution_count": 1,
   "metadata": {},
   "outputs": [
    {
     "data": {
      "text/plain": [
       "Text(0.5, 1.0, 'Relative frequency histogram (percentage for each x-axis value')"
      ]
     },
     "execution_count": 1,
     "metadata": {},
     "output_type": "execute_result"
    },
    {
     "data": {
      "image/png": "[encoded data removed]",
      "text/plain": [
       "<Figure size 360x216 with 1 Axes>"
      ]
     },
     "metadata": {
      "needs_background": "light"
     },
     "output_type": "display_data"
    },
    {
     "data": {
      "image/png": "[encoded data removed]",
      "text/plain": [
       "<Figure size 360x216 with 1 Axes>"
      ]
     },
     "metadata": {
      "needs_background": "light"
     },
     "output_type": "display_data"
    }
   ],
   "source": [
    "## Density curves\n",
    "import numpy as np, pandas as pd, matplotlib.pyplot as plt, seaborn as sns\n",
    "\n",
    "a = [0.5, 0.7, 2.1, 2.2, 2.9, 3.2, 3.2, 3.3, 3.7, 4.5, 4.6, 4.8, 5.2, 5.3, 6.7, 8.1]\n",
    "\n",
    "plt.figure(figsize=(5,3))\n",
    "plt.title('Histogram (bins for categories)')\n",
    "plt.hist(\n",
    "\ta, \n",
    "\t# bins=10,\n",
    "\tbins=np.arange(0, 10, 1) \n",
    "\t# bins=[1, 3, 4, 4.5]\n",
    ");\n",
    "\n",
    "plt.figure(figsize=(5,3))\n",
    "plt.title('Relative frequency histogram (percentage for each x-axis value')\n"
   ]
  },
  {
   "cell_type": "markdown",
   "metadata": {},
   "source": [
    "## Binomial distribution\n",
    "\n",
    "Binomial distribution measures how likely $k$ successes can happen out of $n$ trials given $p$ probability.\n",
    "\n",
    "Distribution of a binomial random variable.\n",
    "\n",
    "- Two independent trials with outcomes P1 and P2, with probabilities p and q=(1-p)\n",
    "- Binomial distribution reports the probability of getting exactly $x$ P1 events in the course of $n$ independent (probability of event does does not depend on how many times it has previously been used) Bernoulli trials. Binomial experiment = repeat Bernoulli event N times. Distribution of successes in n trials. \n",
    "- The binomial distribution is defined by only two parameters - p and n. Binomial distribution for coin flip - bell-shaped; but this is not necessarily always the case. \n",
    "- By using a binomial distribution, we assume that an underlying probability equals to a certain value.\n",
    "\n",
    "Formula for probability:\n",
    "\n",
    "$$ P(x) = {n \\choose x} * p^{x} * q^{n-x} = \\frac{n!}{(n-x)!x!} p^{x} q^{n-x} $$\n",
    ", where $p$ - probability of success, $q=1-p$ - probability of failure, $n$ - total number of trials, $x$ - number of successes, $n-x$ - number of failures. \n",
    "\n",
    "For example:\n",
    "- $p(score)=0.7$, $p(miss)=0.3$, p(exactly 2 scores in 6 attempts) = $p(2/6) = {6\\choose 2} * 0.7^{2} * 0.3^{4}$\n",
    "\n",
    "A random variable is binomial if:\n",
    "- The outcome of each trial has only two options (e.g. success or failure)\n",
    "- Each trial is identical and independent of the others (result of one trial doesn’t affect the results of the other subsequent trials)\n",
    "- There is a fixed, clearly-defined number of trials\n",
    "- The probability p of success on each trial remains constant\n",
    "\n",
    "\n",
    "<img src=\"Media/Binomial-distribution.png\" width=\"800\"/>\n",
    "\n",
    "x-axis, number of heads in 200 coin flips. \n",
    "\n",
    "\n",
    "> Example:\n",
    ">  \n",
    "> 1) 80% of business startups generate a profit in their first year. Find the probability that in a sample of 10 startups, 7 will generate a profit in their first year. \n",
    "> $$P(x=7) = {10 \\choose 7} * 0.8^{7} * 0.2^{10-7} = 0.2013$$ \n",
    "> 2) A cereal company states that 1 in 4 boxes has a prize. $X$ - number of prizes in 6 randomly-selected cereal boxes. What's the probability of getting exactly 2 prizes from 6 boxes?\n",
    "> $$ P(X-4) = {6 \\choose 2} * (0.25)^{2} * (0.75)^{4} = 0.2966 $$\n",
    "> 3) I plan to guess 6 questions, with each having 4 possible choices and only 1 correct choice. $X$ - the number of correct guesses in 6 questions. What is the probability of correctly guessing fewer than 2 questions correctly in those 6 guestions?\n",
    "> $$ P(X < 2) = P(X=0) + P(X=1) = {6 \\choose 0} * (0.25)^{0} * (0.75)^{6} = 0.53$$"
   ]
  },
  {
   "cell_type": "code",
   "execution_count": null,
   "metadata": {},
   "outputs": [
    {
     "data": {
      "text/plain": [
       "0.99144"
      ]
     },
     "metadata": {},
     "output_type": "display_data"
    }
   ],
   "source": [
    "import scipy.stats as stats\n",
    "# The Probability Mass Function (PMF) - probability that an event will happen a certain number of times, given a certain number of samples and probability for success; \n",
    "# Cumulative Density Function  - probability that an event will happen a certain number or fewer times\n",
    "stats.binom.pmf(2, n=5, p=0.1) \n",
    "stats.binom.cdf(2, n=5, p=0.1)\n",
    "# 2 = number of successes\n",
    "# 5 = number of trials\n",
    "# probability of clicking once (in each trial) = 0.1\n"
   ]
  },
  {
   "cell_type": "code",
   "execution_count": null,
   "metadata": {},
   "outputs": [
    {
     "name": "stdout",
     "output_type": "stream",
     "text": [
      "0 - 9.999999999999977e-11\n",
      "1 - 8.999999999999976e-09\n",
      "2 - 3.6449999999999933e-07\n",
      "3 - 8.747999999999988e-06\n",
      "4 - 0.00013778099999999974\n",
      "5 - 0.0014880347999999982\n",
      "6 - 0.011160260999999989\n",
      "7 - 0.05739562799999997\n",
      "8 - 0.1937102444999998\n",
      "9 - 0.38742048899999976\n",
      "10 - 0.34867844010000015\n",
      "\n",
      "Probability of 8 or fewer successes: 0.26390107089999976 (26.4%)\n"
     ]
    }
   ],
   "source": [
    "\"\"\"\n",
    "Baseline probability: P(success test) = 90%\n",
    "upon test (10 samples), you obtained 80% success rate (8 succeeded, 2 failed)\n",
    "How likely is this?\n",
    "\"\"\"\n",
    "\n",
    "from scipy.stats import binom\n",
    "\n",
    "### number of samples\n",
    "n = 10\n",
    "### baseline probability\n",
    "p = 0.9\n",
    "\n",
    "p_8_fewer = 0\n",
    "### print all 11 probabilities for our binomial distribution from 0 to 10 successes\n",
    "for k in range(n+1):\n",
    "    probability = binom.pmf(k, n, p)\n",
    "    print(f\"{k} - {probability}\")\n",
    "    if k <= 8:\n",
    "        p_8_fewer += probability\n",
    "\n",
    "### probability of getting 8 or fewer successes, given that the underlying success rate is 90%\n",
    "print(f\"\\nProbability of 8 or fewer successes: {p_8_fewer} ({p_8_fewer*100:.1f}%)\")"
   ]
  },
  {
   "cell_type": "code",
   "execution_count": null,
   "metadata": {},
   "outputs": [
    {
     "name": "stdout",
     "output_type": "stream",
     "text": [
      "0 - 4.043163486926896e-31\n",
      "1 - 3.692755984726626e-29\n",
      "2 - 1.6740493797427355e-27\n",
      "3 - 5.022148139228163e-26\n",
      "4 - 1.121613084427623e-24\n",
      "5 - 1.9889938697183208e-23\n",
      "6 - 2.9171910089201424e-22\n",
      "7 - 3.6395430682718354e-21\n",
      "8 - 3.942838323961154e-20\n",
      "9 - 3.767601065118432e-19\n",
      "10 - 3.2150195755677274e-18\n",
      "11 - 2.4745908248309494e-17\n",
      "12 - 1.732213577381644e-16\n",
      "13 - 1.1103933188343833e-15\n",
      "14 - 6.5566081683555045e-15\n",
      "15 - 3.58427913203432e-14\n",
      "16 - 1.822008558784117e-13\n",
      "17 - 8.645609239720628e-13\n",
      "18 - 3.842492995431461e-12\n",
      "19 - 1.6044093559871418e-11\n",
      "20 - 6.310676800216076e-11\n",
      "21 - 2.343965668651709e-10\n",
      "22 - 8.239394471624206e-10\n",
      "23 - 2.7464648238747175e-09\n",
      "24 - 8.697138608936561e-09\n",
      "25 - 2.6207377674928825e-08\n",
      "26 - 7.52622128100528e-08\n",
      "27 - 2.062742128868101e-07\n",
      "28 - 5.402419861321192e-07\n",
      "29 - 1.3537098043310809e-06\n",
      "30 - 3.2489035303945677e-06\n",
      "31 - 7.475971564563857e-06\n",
      "32 - 1.650943720507859e-05\n",
      "33 - 3.5020018313803016e-05\n",
      "34 - 7.141337067912665e-05\n",
      "35 - 0.0001401062319990506\n",
      "36 - 0.0002646451048870915\n",
      "37 - 0.0004816064070918292\n",
      "38 - 0.0008449235212137206\n",
      "39 - 0.0014298705743617094\n",
      "40 - 0.002335455271457453\n",
      "41 - 0.0036835635988841323\n",
      "42 - 0.005613049293537684\n",
      "43 - 0.008267281905210469\n",
      "44 - 0.011774613622572634\n",
      "45 - 0.016222800991100007\n",
      "46 - 0.021630401321466833\n",
      "47 - 0.027920092485864613\n",
      "48 - 0.034900115607331084\n",
      "49 - 0.04226000393268663\n",
      "50 - 0.04958507128101913\n",
      "51 - 0.056390865378413806\n",
      "52 - 0.06217454387876345\n",
      "53 - 0.0664759274175462\n",
      "54 - 0.06893799880338129\n",
      "55 - 0.06935580485673559\n",
      "56 - 0.06770447616966996\n",
      "57 - 0.06414108268705533\n",
      "58 - 0.05898030591913176\n",
      "59 - 0.052649086639676934\n",
      "60 - 0.04562920842105364\n",
      "61 - 0.038398350255968314\n",
      "62 - 0.0313792969833719\n",
      "63 - 0.024904203955057144\n",
      "64 - 0.019196990548689848\n",
      "65 - 0.014373131385173038\n",
      "66 - 0.01045318646194394\n",
      "67 - 0.007384838196995254\n",
      "68 - 0.00506802621362416\n",
      "69 - 0.0033786841424161265\n",
      "70 - 0.0021881002065171277\n",
      "71 - 0.0013765513036304792\n",
      "72 - 0.0008412257966630649\n",
      "73 - 0.0004993577788410887\n",
      "74 - 0.0002879179986110789\n",
      "75 - 0.0001612340792222038\n",
      "76 - 8.768870975242787e-05\n",
      "77 - 4.6311786103013925e-05\n",
      "78 - 2.374963389898141e-05\n",
      "79 - 1.1824712236623606e-05\n",
      "80 - 5.715277581034712e-06\n",
      "81 - 2.6812413343126166e-06\n",
      "82 - 1.2207277619634532e-06\n",
      "83 - 5.392773245621703e-07\n",
      "84 - 2.3111885338378747e-07\n",
      "85 - 9.60729351320831e-08\n",
      "86 - 3.872707462688663e-08\n",
      "87 - 1.513471881970299e-08\n",
      "88 - 5.732848037766257e-09\n",
      "89 - 2.104191414610803e-09\n",
      "90 - 7.481569474171837e-10\n",
      "91 - 2.5760715405573243e-10\n",
      "92 - 8.586905135191081e-11\n",
      "93 - 2.769969398448727e-11\n",
      "94 - 8.643876137003075e-12\n",
      "95 - 2.6083275360781204e-12\n",
      "96 - 7.607621980227966e-13\n",
      "97 - 2.1437285305109664e-13\n",
      "98 - 5.83327491295495e-14\n",
      "99 - 1.5319711892609234e-14\n",
      "100 - 3.880993679460964e-15\n",
      "101 - 9.478334398683545e-16\n",
      "102 - 2.2301963291020283e-16\n",
      "103 - 5.05222469375865e-17\n",
      "104 - 1.1011258947935343e-17\n",
      "105 - 2.3071209224245657e-18\n",
      "106 - 4.643262233810472e-19\n",
      "107 - 8.968294657203862e-20\n",
      "108 - 1.660795306889622e-20\n",
      "109 - 2.9457531437186113e-21\n",
      "110 - 4.998853819643664e-22\n",
      "111 - 8.106249437259998e-23\n",
      "112 - 1.2545386033854774e-23\n",
      "113 - 1.8503519223974575e-24\n",
      "114 - 2.596985154242067e-25\n",
      "115 - 3.462646872322747e-26\n",
      "116 - 4.3780592638563685e-27\n",
      "117 - 5.2387033926485815e-28\n",
      "118 - 5.919438861749832e-29\n",
      "119 - 6.300803270209905e-30\n",
      "120 - 6.300803270209928e-31\n",
      "121 - 5.901578820582318e-32\n",
      "122 - 5.159850334935388e-33\n",
      "123 - 4.195000272305127e-34\n",
      "124 - 3.1575270866812724e-35\n",
      "125 - 2.1892187800990318e-36\n",
      "126 - 1.3899801778406696e-37\n",
      "127 - 8.026132260497224e-39\n",
      "128 - 4.18027721900896e-40\n",
      "129 - 1.9443149855855766e-41\n",
      "130 - 7.976676863940733e-43\n",
      "131 - 2.841564277230821e-44\n",
      "132 - 8.61080084009333e-46\n",
      "133 - 2.158095448644949e-47\n",
      "134 - 4.294717310736208e-49\n",
      "135 - 6.362544164053635e-51\n",
      "136 - 6.237788396131099e-53\n",
      "137 - 3.035420144102746e-55\n",
      "\n",
      "Probability of 8 or fewer successes: 0.8220955881474251 (82.2%)\n"
     ]
    }
   ],
   "source": [
    "\"\"\"\n",
    "You have 137 passengers booked on a flight from Las Vegas to Dallas. However, it is Las Vegas on a Sunday \n",
    "morning and you estimate each passenger is 40% likely to now show up. \n",
    "You are trying to figure out how many seats to overbook so the plane does not fly empty. \n",
    "How likely is it at least 50 passengers will not show up?\n",
    "\"\"\"\n",
    "from scipy.stats import binom\n",
    "\n",
    "n = 137\n",
    "p = 0.4\n",
    "\n",
    "p_50_more = 0\n",
    "for k in range(n+1):\n",
    "    probability = binom.pmf(k, n, p)\n",
    "    print(f\"{k} - {probability}\")\n",
    "    if k >= 50:\n",
    "        p_50_more += probability\n",
    "\n",
    "### probability of getting 8 or fewer successes, given that the underlying success rate is 90%\n",
    "print(f\"\\nProbability of 8 or fewer successes: {p_50_more} ({p_50_more*100:.1f}%)\")"
   ]
  },
  {
   "cell_type": "code",
   "execution_count": null,
   "metadata": {},
   "outputs": [
    {
     "name": "stdout",
     "output_type": "stream",
     "text": [
      "0 - 1.907348632812499e-06\n",
      "1 - 3.623962402343759e-05\n",
      "2 - 0.0003261566162109379\n",
      "3 - 0.0018482208251953086\n",
      "4 - 0.007392883300781246\n",
      "5 - 0.022178649902343753\n",
      "6 - 0.05175018310546873\n",
      "7 - 0.09610748291015628\n",
      "8 - 0.14416122436523446\n",
      "9 - 0.17619705200195315\n",
      "10 - 0.17619705200195315\n",
      "11 - 0.14416122436523449\n",
      "12 - 0.09610748291015628\n",
      "13 - 0.05175018310546873\n",
      "14 - 0.022178649902343757\n",
      "15 - 0.007392883300781246\n",
      "16 - 0.0018482208251953086\n",
      "17 - 0.0003261566162109379\n",
      "18 - 3.623962402343759e-05\n",
      "19 - 1.9073486328125e-06\n",
      "\n",
      "Probability of 8 or fewer successes: 0.009605407714843743 (1.0%)\n"
     ]
    }
   ],
   "source": [
    "\n",
    "from scipy.stats import binom\n",
    "\n",
    "n = 19\n",
    "p = 0.5\n",
    "\n",
    "p_4_fewer = 0\n",
    "for k in range(n+1):\n",
    "    probability = binom.pmf(k, n, p)\n",
    "    print(f\"{k} - {probability}\")\n",
    "    if k <= 4:\n",
    "        p_4_fewer += probability\n",
    "\n",
    "### probability of getting 8 or fewer successes, given that the underlying success rate is 90%\n",
    "print(f\"\\nProbability of 8 or fewer successes: {p_4_fewer} ({p_4_fewer*100:.1f}%)\")"
   ]
  },
  {
   "cell_type": "markdown",
   "metadata": {},
   "source": [
    "### Beta distribution\n",
    "\n",
    "Meta-probability based on binomial distribution.\n"
   ]
  },
  {
   "attachments": {},
   "cell_type": "markdown",
   "metadata": {},
   "source": [
    "## Sampling distributions\n",
    "\n",
    "**10% rule** - if a sample taken is less than 10% of the population, then each item in that sample is independent. \n",
    "\n",
    "Sampling distribution - distribution of means of samples that are continuously taken from a population. \n",
    "\n",
    "*Sampling distributions formulae:*\n",
    "\n",
    "| Sampling distribution of... | Mean | Variance | Standard Deviation of sample mean |\n",
    "| - | - | - | - |\n",
    "| ... sample proportion | $$\\mu_{\\hat{p}} = \\frac{\\mu_{x}}{n} = \\frac{np}{n} = p$$ | | $$\\sigma_{\\hat{p}} = \\frac{\\sigma_{x}}{n} = \\sqrt{ \\frac{p(1-p)}{n} } $$ |\n",
    "| ... sample mean | Sample mean is just the mean of sample datapoints: $$\\overline{x} = \\frac{ \\sum_{i=1}^{n} x_{i} }{ n }$$ | $$ \\sigma^{2}_{\\overline{x}} = \\frac{\\sigma^{2}}{n} $$ | $$ \\sigma_{\\overline{x}} = \\frac{\\sigma}{\\sqrt{n}} $$ |\n",
    "\n",
    "\n",
    "**The Law of Large Numbers** - as sample size grows, its mean gets closer to the population mean. For example, if you have a biased coin that has 51% chance of heads and 49% - tails, after 1000 tosses you'll get 510 heads and 490 tails; even more so, with increasing number of tosses the probability of getting that theoretical distribution gets higher. \n",
    "\n",
    "\n",
    "**SE (standard error)**: the same as standard deviation of sample mean. Represents variability in the sampling distribution, hence accuracy of the estimate. \n",
    "\n",
    "$$StandardError = SE = \\frac{s}{\\sqrt{n}}$$\n",
    ", where $s$ - standard deviation of the samples, $n$ - sample size. \n",
    "\n",
    "With increasing sample size, SE decreases. \n",
    "\n",
    "**Bootstrap** - method to estimate sampling distribution. This is a way to get sample statistics from your data. First, we have a sample from a population (e.g. n=100). Then, from this sample, :\n",
    "1. From the original sample, perform sampling with replacement: draw a subsample of size m (where after drawing each individual observation it is returned to the pool, so the same value / observation can be subsampled multiple times), record the mean, then return the subsample to the original sample ; here, m can be 100% of the original sample (e.g. m = n = 100), but if the sample is enormous, it can be 80% or 50%;  \n",
    "2. Repeat step 1 R times; \n",
    "3. From the results from step 2, you can calculate SD / SE, find confidence interval. \n",
    "\n",
    "**Confidence intervals**:\n",
    "- 90% CI is the interval within the central 90% of the boostrap sampling distribution; iow, an x% CI around a sample estimation should contain similar estimates x% of the time, on average; \n",
    "- Can be generated with bootstrapping. \n",
    "\n"
   ]
  },
  {
   "cell_type": "code",
   "execution_count": 2,
   "metadata": {},
   "outputs": [
    {
     "name": "stdout",
     "output_type": "stream",
     "text": [
      "874     73\n",
      "901     75\n",
      "2593    72\n",
      "2218    76\n",
      "491     71\n",
      "        ..\n",
      "2291    75\n",
      "2059    72\n",
      "1739    76\n",
      "2025    70\n",
      "876     71\n",
      "Name: height_inches, Length: 2732, dtype: int64\n",
      "Bootstrap statistics:\n",
      " - original: 74.0106149341142\n",
      " - bias: 0.0012880673499182649\n",
      " - std. error: 0.05017297461500799\n"
     ]
    }
   ],
   "source": [
    "# Bootstrapping\n",
    "\n",
    "from sklearn.utils import resample\n",
    "\n",
    "results = []\n",
    "for nrepeat in range(1000):\n",
    "\t# In this case, we resample 100% of the dataset = the same size as the original, but with possible repetitions\n",
    "\tsample = resample(player_data_import['height_inches'])\n",
    "\tif nrepeat == 1: print(sample) # Just to show one of the samples\n",
    "\tresults.append(sample.mean())\n",
    "results = pd.Series(results)\n",
    "print(\"Bootstrap statistics:\")\n",
    "print(f\" - original: {player_data_import['height_inches'].mean()}\")\n",
    "print(f\" - bias: {results.mean() - player_data_import['height_inches'].mean()}\")\n",
    "print(f\" - std. error: {results.std()}\")"
   ]
  },
  {
   "cell_type": "markdown",
   "metadata": {},
   "source": [
    "### Central Limit Theorem\n",
    "\n",
    "**Central Limit Theorem**: When an infinite number of successive random samples are taken from a population, the sampling distribution of the means of those samples will become approximately normally distributed. \n",
    "- With increasing sample size we get closer to the mean. Sample sizes equal to or greater than 30 are often considered sufficient for the CLT to hold. However, when the sample size is small ($n < 30$), the sampling distribution is not normal and instead will have a similar shape to the population\n",
    "- If the population is normal, then the sample means will be normally distributed regardless of the sample sizes; \n",
    "- if the population is not normal, but the sample size is greater than 30, the sample means will still roughly form a normal distribution\n",
    "- the standard deviation of the sample means equals the population standard deviation divided by the square root of $n$: $\\text{sample standard deviation} = \\cfrac{\\text{population standard deviation}}{\\sqrt{\\text{sample size}}}$\n",
    "\n",
    "Galton board (bean machine): machines by Sir Francis Galton that demonstrates the CLT. \n",
    "\n",
    "**De Moivre-Laplace theorem** - a special case of the CLT. With big sample size, the binomial distribution approximates a normal distribution.\n",
    "\n",
    "---\n",
    "\n",
    "SAMPLING DISTRIBUTION\n",
    "\n",
    "the underlying population distribution is right-skewed, however, the sampling distribution is more normally distributed and bell-shaped. \n",
    "\n",
    "As per the Central Limit Theorem, the sampling distribution is bell-shaped. \n"
   ]
  },
  {
   "cell_type": "code",
   "execution_count": 16,
   "metadata": {},
   "outputs": [
    {
     "name": "stdout",
     "output_type": "stream",
     "text": [
      "Mean: 100.79390539498006\n",
      "[101.61260085 100.59522384 100.55043692 101.12583976 100.84612345]\n"
     ]
    },
    {
     "data": {
      "text/plain": [
       "<matplotlib.lines.Line2D at 0x170e96f6d30>"
      ]
     },
     "execution_count": 16,
     "metadata": {},
     "output_type": "execute_result"
    },
    {
     "data": {
      "image/png": "[encoded data removed]",
      "text/plain": [
       "<Figure size 640x480 with 1 Axes>"
      ]
     },
     "metadata": {},
     "output_type": "display_data"
    }
   ],
   "source": [
    "import numpy as np\n",
    "import pandas as pd\n",
    "import matplotlib.pyplot as plt\n",
    "import seaborn as sns\n",
    "from scipy.stats import skewnorm\n",
    "import random\n",
    "\n",
    "num_data_points = 10000\n",
    "max_value = 100\n",
    "skewness = 15   # Positive values are right-skewed; negative values are left skewed\n",
    "\n",
    "skewed_random_data = skewnorm.rvs(a = skewness,loc=max_value, size=num_data_points, random_state=1)  \n",
    "skewed_random_data = np.array(skewed_random_data)\n",
    "print(f\"Mean: {skewed_random_data.mean()}\")\n",
    "print(skewed_random_data[:5])\n",
    "sns.histplot(skewed_random_data)\n",
    "plt.title('Population distribution')\n",
    "MU = np.mean(skewed_random_data)\n",
    "plt.axvline(MU, color='red')\n"
   ]
  },
  {
   "cell_type": "code",
   "execution_count": 17,
   "metadata": {},
   "outputs": [
    {
     "data": {
      "text/plain": [
       "Text(0.5, 1.0, 'One sample of N = 10; mean indicated with red line')"
      ]
     },
     "execution_count": 17,
     "metadata": {},
     "output_type": "execute_result"
    },
    {
     "data": {
      "image/png": "[encoded data removed]",
      "text/plain": [
       "<Figure size 640x480 with 1 Axes>"
      ]
     },
     "metadata": {},
     "output_type": "display_data"
    }
   ],
   "source": [
    "### Example of one sample\n",
    "\n",
    "N = 10\n",
    "sample = np.random.choice(skewed_random_data, size=N, replace=False)\n",
    "MEAN = np.mean(sample)\n",
    "\n",
    "sns.histplot(sample)\n",
    "plt.axvline(MEAN, color='red')\n",
    "plt.title(f'One sample of N = {N}; mean indicated with red line')"
   ]
  },
  {
   "cell_type": "code",
   "execution_count": 18,
   "metadata": {},
   "outputs": [
    {
     "data": {
      "text/plain": [
       "<matplotlib.lines.Line2D at 0x170ea9540a0>"
      ]
     },
     "execution_count": 18,
     "metadata": {},
     "output_type": "execute_result"
    },
    {
     "data": {
      "image/png": "[encoded data removed]",
      "text/plain": [
       "<Figure size 1000x600 with 1 Axes>"
      ]
     },
     "metadata": {},
     "output_type": "display_data"
    }
   ],
   "source": [
    "\n",
    "\n",
    "samples_mean = []\n",
    "for i in range(10000): # 100 samples\n",
    "\t# pick k random items from a list\n",
    "\tsample = np.random.choice(skewed_random_data, size=N, replace=False)\n",
    "\tsamples_mean.append(np.mean(sample))\n",
    "\n",
    "# Plot the data (population) distribution\n",
    "fig, ax = plt.subplots(figsize=(10, 6))\n",
    "ax.set_title(\"Sampling Distribution\", fontsize=24, fontweight=\"bold\")\n",
    "num_bins = 20\n",
    "sns.histplot(\n",
    "\tsamples_mean, \n",
    "\t# bins=30, \n",
    "\t# stat=\"density\", \n",
    "\t# kde=True, \n",
    "\t# legend=False, \n",
    "\t# ax=ax\n",
    "\t)\n",
    "MEAN = np.mean(samples_mean)\n",
    "plt.axvline(MEAN, color='red')\n"
   ]
  },
  {
   "cell_type": "code",
   "execution_count": 19,
   "metadata": {},
   "outputs": [
    {
     "name": "stdout",
     "output_type": "stream",
     "text": [
      "      nflId height  weight   birthDate          collegeName Position  \\\n",
      "0     42901    6-1     208  1992-07-25        James Madison       SS   \n",
      "1     43501    6-0     220  1994-08-11     Central Michigan       FS   \n",
      "2     43534    6-0     205  1993-06-02             Illinois       SS   \n",
      "3     43535    6-1     235  1992-12-22               Temple      MLB   \n",
      "4     44174    6-1     236  1993-02-22           Texas Tech      ILB   \n",
      "...     ...    ...     ...         ...                  ...      ...   \n",
      "2727  33216    6-3     320  06/16/1986      Central Florida        G   \n",
      "2728  33184    6-3     265  05/02/1985  Winston-Salem State       DE   \n",
      "2729  45651    5-9     198  06/16/1993                 Iowa       WR   \n",
      "2730  41284     73     230  1992-10-20                  LSU       RB   \n",
      "2731  42849   5-10     205  12/14/1992           Texas Tech       WR   \n",
      "\n",
      "            displayName  \n",
      "0          Dean Marlowe  \n",
      "1         Kavon Frazier  \n",
      "2     Clayton Fejedelem  \n",
      "3      Tyler Matakevich  \n",
      "4          Sam Eguavoen  \n",
      "...                 ...  \n",
      "2727        Josh Sitton  \n",
      "2728      William Hayes  \n",
      "2729     Riley McCarron  \n",
      "2730        Jeremy Hill  \n",
      "2731    Bradley Marquez  \n",
      "\n",
      "[2732 rows x 7 columns]\n"
     ]
    },
    {
     "data": {
      "text/plain": [
       "Text(0.5, 1.0, 'Central Limit Theorem')"
      ]
     },
     "execution_count": 19,
     "metadata": {},
     "output_type": "execute_result"
    },
    {
     "data": {
      "image/png": "[encoded data removed]",
      "text/plain": [
       "<Figure size 640x480 with 1 Axes>"
      ]
     },
     "metadata": {},
     "output_type": "display_data"
    }
   ],
   "source": [
    "import pandas as pd, matplotlib.pyplot as plt\n",
    "import random\n",
    "\n",
    "player_data_import = pd.read_csv('example_datasets/players.csv')\n",
    "player_data_import\n",
    "print(player_data_import)\n",
    "\n",
    "\"\"\"Central Limit Theorem\"\"\"\n",
    "# Data cleaning\n",
    "## Convert inches and feet to inches only\n",
    "player_data_import['height_inches'] = player_data_import['height'].apply(\n",
    "\tlambda x: int(x.split('-')[0]) *12 + int(x.split('-')[1]) if len(x.split('-')) ==2 \n",
    "\telse int(x) )\n",
    "player_data_import\n",
    "\n",
    "# Different sample sizes - 10, 30, 50, etc.\n",
    "sample_amounts = range(10, 100, 20)\n",
    "#\n",
    "for x in sample_amounts:\n",
    "\tsamples = []\n",
    "\t# For each sample size, resample 1000 times and plot a distribution\n",
    "\tfor i in range(1000):\n",
    "\t\tsamples.append( player_data_import['height_inches'].sample(x).mean() )\n",
    "\t\t# samples.append(player_data_import['height_inches'].sample(x).mean()[0])\n",
    "\tplt.hist(samples)\n",
    "plt.legend([str(z) + ' samples' for z in sample_amounts])\n",
    "plt.title('Central Limit Theorem')"
   ]
  },
  {
   "attachments": {},
   "cell_type": "markdown",
   "metadata": {},
   "source": [
    "## Normal distribution\n",
    "\n",
    "Gaussian / normal distribution: symmetrical bell-shaped distribution that has most mass around the mean, and its spread is defined as a standard deviation. The tails on either side become thinner as you move away from the mean.\n",
    "\n",
    "**Normal (Gaussian) distribution** has some key properties: \n",
    "- A continuous, unimodal, symmetrically-distributed bell-shaped distribution, with mean = median = mode; \n",
    "- It is completely parameterised by its mean (mu, $\\mu$) and SD (sigma, $\\sigma$); \n",
    "- <u>The empirical rule (68-95-99.7)</u>: normal distribution implies tight bounds on the probability lying far from the mean; 68% of the values must lie within 1SD of the mean, 95% within 2SD, 99.7% within 3SD. Mu and sigma can be any as long as the 68-95-99.7 rule holds; \n",
    "\n",
    "**Standard normal distribution** (Z-distribution): \n",
    "- special case of normal distribution where $\\mu$ = 0, $\\sigma$ = 1.\n",
    "- It expresses all x-values in terms of standard deviation (z-scores)\n",
    "- Is useful to compare data points from different populations. \n",
    "\n",
    "\n",
    "| Normal distribution | Standard normal (Z-distribution) |\n",
    "| - | - |\n",
    "| <img src=\"Media/normal-distribution.png\" width=\"430\"/> | <img src=\"Media/z-distribution.png\" width=\"430\"> |\n",
    "\n",
    "\n",
    "Six sigma - term used to connote quality standards so high that defects are incredibly rare events (e.g. plane crashes). Probability of 6σ event on the normal distribution is 2 parts per billion. \n",
    "\n",
    "Normality assessment: \n",
    "- Visual: \n",
    "  - QQ-Plot: plot that visualises closeness of sample distribution to a specified one. \n",
    "  - Histograms; \n",
    "- Statistical ($H_{0}$ (null): (in case of p > 0.05) the values are sampled from a population that follows a normal distribution; $H_{A}$: (in case of p <= 0.05) reject null hypothesis - assume non-normal distribution):\n",
    "  - D'Agostino-Pearson\n",
    "  - Kolmogorov-Smirnov\n",
    "  - Anderson-Darling\n",
    "  - Shapiro-Wilk\n",
    "\n",
    "\n",
    "**Z-score** measures how many SD away from the mean a given score is. Z-table - standard normal table; what proportion is less than that amount (that SD) in a normal distribution. \n",
    "- Below, $x$ - score, $\\mu$ - mean, $\\sigma$ - SD. If we are figuring out Z-score of a sample, <u>use SE (standard error) instead of SD</u>\n",
    "\n",
    "$$ Population: Z = \\frac{x - \\mu}{\\sigma}; $$\n",
    "$$ Sample: Z = \\frac{x- \\overline{x}}{SE} $$"
   ]
  },
  {
   "cell_type": "code",
   "execution_count": 11,
   "metadata": {},
   "outputs": [
    {
     "data": {
      "text/plain": [
       "Text(0.5, 1.0, 'Probability (QQ) plot for normally-distributed data')"
      ]
     },
     "execution_count": 11,
     "metadata": {},
     "output_type": "execute_result"
    },
    {
     "data": {
      "image/png": "[encoded data removed]",
      "text/plain": [
       "<Figure size 288x288 with 1 Axes>"
      ]
     },
     "metadata": {
      "needs_background": "light"
     },
     "output_type": "display_data"
    }
   ],
   "source": [
    "from scipy import stats\n",
    "import matplotlib.pyplot as plt\n",
    "\n",
    "fig, ax = plt.subplots(figsize=(4, 4))\n",
    "norm_sample = stats.norm.rvs(size=100)\n",
    "stats.probplot(norm_sample, plot=ax)\n",
    "plt.title('Probability (QQ) plot for normally-distributed data')\n"
   ]
  },
  {
   "cell_type": "code",
   "execution_count": 7,
   "metadata": {},
   "outputs": [
    {
     "data": {
      "image/png": "[encoded data removed]",
      "text/plain": [
       "<Figure size 432x288 with 1 Axes>"
      ]
     },
     "metadata": {
      "needs_background": "light"
     },
     "output_type": "display_data"
    }
   ],
   "source": [
    "\n",
    "import numpy as np\n",
    "import statsmodels.api as sm\n",
    "import pylab as py\n",
    "  \n",
    "# np.random generates different random numbers\n",
    "# whenever the code is executed\n",
    "# Note: When you execute the same code \n",
    "# the graph look different than shown below.\n",
    "  \n",
    "# Random data points generated\n",
    "data_points = np.random.normal(0, 1, 100)    \n",
    "  \n",
    "sm.qqplot(data_points, line ='45')\n",
    "py.show()"
   ]
  },
  {
   "cell_type": "code",
   "execution_count": 3,
   "metadata": {},
   "outputs": [
    {
     "ename": "NameError",
     "evalue": "name 'player_data_import' is not defined",
     "output_type": "error",
     "traceback": [
      "\u001b[1;31m---------------------------------------------------------------------------\u001b[0m",
      "\u001b[1;31mNameError\u001b[0m                                 Traceback (most recent call last)",
      "\u001b[1;32mc:\\Users\\evgen\\Desktop\\Statistics_manual\\statistics.ipynb Cell 18\u001b[0m in \u001b[0;36m<cell line: 6>\u001b[1;34m()\u001b[0m\n\u001b[0;32m      <a href='vscode-notebook-cell:/c%3A/Users/evgen/Desktop/Statistics_manual/statistics.ipynb#X23sZmlsZQ%3D%3D?line=2'>3</a>\u001b[0m \u001b[39mfrom\u001b[39;00m \u001b[39mscipy\u001b[39;00m \u001b[39mimport\u001b[39;00m stats\n\u001b[0;32m      <a href='vscode-notebook-cell:/c%3A/Users/evgen/Desktop/Statistics_manual/statistics.ipynb#X23sZmlsZQ%3D%3D?line=4'>5</a>\u001b[0m fig, ax \u001b[39m=\u001b[39m plt\u001b[39m.\u001b[39msubplots(figsize\u001b[39m=\u001b[39m(\u001b[39m4\u001b[39m, \u001b[39m4\u001b[39m))\n\u001b[1;32m----> <a href='vscode-notebook-cell:/c%3A/Users/evgen/Desktop/Statistics_manual/statistics.ipynb#X23sZmlsZQ%3D%3D?line=5'>6</a>\u001b[0m norm_sample \u001b[39m=\u001b[39m player_data_import[\u001b[39m'\u001b[39m\u001b[39mheight_inches\u001b[39m\u001b[39m'\u001b[39m]\u001b[39m.\u001b[39msample(\u001b[39m1000\u001b[39m)\n\u001b[0;32m      <a href='vscode-notebook-cell:/c%3A/Users/evgen/Desktop/Statistics_manual/statistics.ipynb#X23sZmlsZQ%3D%3D?line=6'>7</a>\u001b[0m stats\u001b[39m.\u001b[39mprobplot(norm_sample, plot\u001b[39m=\u001b[39max)\n",
      "\u001b[1;31mNameError\u001b[0m: name 'player_data_import' is not defined"
     ]
    },
    {
     "data": {
      "image/png": "[encoded data removed]",
      "text/plain": [
       "<Figure size 288x288 with 1 Axes>"
      ]
     },
     "metadata": {
      "needs_background": "light"
     },
     "output_type": "display_data"
    }
   ],
   "source": [
    "# still roughly normal\n",
    "\n",
    "from scipy import stats\n",
    "\n",
    "fig, ax = plt.subplots(figsize=(4, 4))\n",
    "norm_sample = player_data_import['height_inches'].sample(1000)\n",
    "stats.probplot(norm_sample, plot=ax)"
   ]
  },
  {
   "cell_type": "code",
   "execution_count": 1,
   "metadata": {},
   "outputs": [
    {
     "data": {
      "text/plain": [
       "<AxesSubplot:ylabel='Density'>"
      ]
     },
     "execution_count": 1,
     "metadata": {},
     "output_type": "execute_result"
    },
    {
     "data": {
      "image/png": "[encoded data removed]",
      "text/plain": [
       "<Figure size 432x288 with 1 Axes>"
      ]
     },
     "metadata": {
      "needs_background": "light"
     },
     "output_type": "display_data"
    }
   ],
   "source": [
    "# Standard normal distribution\n",
    "# (continuous)\n",
    "\n",
    "import numpy as np, pandas as pd, matplotlib.pyplot as plt, seaborn as sns\n",
    "\n",
    "mu, sigma = 0, 1 # Mean and SD\n",
    "s = np.random.normal(mu, sigma, size=10000)\n",
    "s\n",
    "\n",
    "sns.kdeplot(\n",
    "\tx=s, \n",
    "\tlw=7, \n",
    ")"
   ]
  },
  {
   "cell_type": "code",
   "execution_count": 10,
   "metadata": {},
   "outputs": [
    {
     "data": {
      "text/plain": [
       "<Axes: ylabel='Count'>"
      ]
     },
     "execution_count": 10,
     "metadata": {},
     "output_type": "execute_result"
    },
    {
     "data": {
      "image/png": "[encoded data removed]",
      "text/plain": [
       "<Figure size 640x480 with 1 Axes>"
      ]
     },
     "metadata": {},
     "output_type": "display_data"
    }
   ],
   "source": [
    "# Standard normal distribution\n",
    "# (as a histogram)\n",
    "\n",
    "import numpy as np, pandas as pd, matplotlib.pyplot as plt, seaborn as sns\n",
    "\n",
    "mu, sigma = 0, 1 # Mean and SD\n",
    "s = np.random.normal(mu, sigma, size=10000)\n",
    "s\n",
    "\n",
    "sns.histplot(\n",
    "    x=s\n",
    ")"
   ]
  },
  {
   "cell_type": "markdown",
   "metadata": {},
   "source": [
    "### PDF\n",
    "\n",
    "Normal distribution (or probability density function / PDF) equation:\n",
    "\n",
    "$$ \\huge f(x) = p(x) = \\cfrac{1}{\\sigma \\sqrt{2 \\pi}} \\times e^{-\\frac{1}{2} (\\frac{x-\\mu}{\\sigma})^{2}} $$\n",
    "\n",
    "\n",
    "The vertical axis is not the probability but rather the likelihood for the data. To find the probability, we need to look at a given range, and then find the area under the curve for that range. \n"
   ]
  },
  {
   "cell_type": "code",
   "execution_count": 68,
   "metadata": {},
   "outputs": [
    {
     "data": {
      "image/png": "[encoded data removed]",
      "text/plain": [
       "<Figure size 640x480 with 1 Axes>"
      ]
     },
     "metadata": {},
     "output_type": "display_data"
    }
   ],
   "source": [
    "import numpy as np, matplotlib.pyplot as plt, seaborn as sns\n",
    "\n",
    "limit = 3\n",
    "a = np.linspace(-limit, limit, 100)\n",
    "# print(a)\n",
    "\n",
    "def equation(x: list):\n",
    "\t# Mean\n",
    "\tmean = np.mean(x)\n",
    "\t# SD\n",
    "\tsum = 0\n",
    "\tfor i in x:\n",
    "\t\tsum += (i - mean)**2\n",
    "\tSD = ( sum / (len(x)-1) )**0.5\n",
    "\t# return SD\n",
    "\tleftPart = 1 / ( SD * (2*np.pi)**0.5 )\n",
    "\trightPart = np.e**( -((x-mean)**2) / 2*(SD**2) )\n",
    "\treturn leftPart*rightPart\n",
    "\n",
    "f_x = equation(a)\n",
    "\n",
    "sns.lineplot( x=a, y=f_x )\n",
    "plt.text(\n",
    "\tx=0, \n",
    "\ty=max(f_x)*1.15, \n",
    "\ts=r'$ f(x) = p(x) = \\frac{1}{\\sigma \\sqrt{2 \\pi}} \\times e^{-\\frac{1}{2} (\\frac{x-\\mu}{\\sigma})^{2}} $',\n",
    "\tfontsize=15,\n",
    "\thorizontalalignment='center'\n",
    "\t)\n",
    "# $ f(x) = p(x) = \\cfrac{1}{\\sigma \\sqrt{2 \\pi}} \\times e^{-\\frac{1}{2} (\\frac{x-\\mu}{\\sigma})^{2}} = \\cfrac{1}{\\sigma \\sqrt{2 \\pi}} \\times e^{-\\cfrac{1}{2} (\\cfrac{x-\\mu}{\\sigma})^{2}} $\n",
    "# equation(a)\n",
    "plt.xlabel('x')\n",
    "plt.ylabel('p(x)')\n",
    "plt.title(r'Probability of $x$ is determined by a Gaussian with mean $\\mu$, variance $\\sigma^{2}$', y=1.3)\n",
    "plt.text(0, 0, r'$\\mu$', horizontalalignment='center', color='red', fontsize=15)\n",
    "sns.set_style('whitegrid')\n"
   ]
  },
  {
   "cell_type": "markdown",
   "metadata": {},
   "source": [
    "### CDF\n",
    "\n",
    "Cumulative Distribution Function (CDF): \n",
    "\n",
    "The Cumulative Distribution Function (CDF) of standard normal distribution:\n",
    "\n",
    "$$ \\phi(x) = \\cfrac{1}{ \\sqrt{2 \\pi}} \\times \\int^{x}_{- \\inf} e^{-t^{2} / 2} dt $$\n",
    "\n",
    "---\n",
    "\n",
    "Some examples: \n",
    "\n",
    "<img src=\"Media/cdf.png\" width=650>\n",
    "\n",
    "<img src=\"Media/cdf1.png\" width=650>\n",
    "\n",
    "<img src=\"Media/cdf2.png\" width=650>"
   ]
  },
  {
   "cell_type": "code",
   "execution_count": 13,
   "metadata": {},
   "outputs": [
    {
     "name": "stdout",
     "output_type": "stream",
     "text": [
      "0.8049764007442921\n"
     ]
    }
   ],
   "source": [
    "\"\"\"\n",
    "Calculate area up to a certain point\n",
    "\"\"\"\n",
    "from scipy.stats import norm\n",
    "\n",
    "mean = 64.43\n",
    "std_dev = 2.99\n",
    "\n",
    "# upToWhichPoint = 64.43\n",
    "upToWhichPoint = 67\n",
    "x = norm.cdf(upToWhichPoint, mean, std_dev)\n",
    "print(x)\n"
   ]
  },
  {
   "cell_type": "code",
   "execution_count": 14,
   "metadata": {},
   "outputs": [
    {
     "name": "stdout",
     "output_type": "stream",
     "text": [
      "0.4920450147062894\n"
     ]
    }
   ],
   "source": [
    "\"\"\"\n",
    "Find probability between two points\n",
    "\"\"\"\n",
    "from scipy.stats import norm\n",
    "\n",
    "mean = 64.43\n",
    "std_dev = 2.99\n",
    "\n",
    "point1, point2 = 62, 66\n",
    "x = norm.cdf(point2, mean, std_dev) - norm.cdf(point1, mean, std_dev)\n",
    "print(x)"
   ]
  },
  {
   "attachments": {},
   "cell_type": "markdown",
   "metadata": {},
   "source": [
    "### Kolmogorov-Smirnov\n",
    "\n"
   ]
  },
  {
   "cell_type": "code",
   "execution_count": 25,
   "metadata": {},
   "outputs": [],
   "source": [
    "import scipy as sp\n",
    "import numpy as np\n"
   ]
  },
  {
   "cell_type": "code",
   "execution_count": 23,
   "metadata": {},
   "outputs": [
    {
     "name": "stdout",
     "output_type": "stream",
     "text": [
      "0.09678074748539989 0.28725395592709113\n"
     ]
    }
   ],
   "source": [
    "# By default, Kolmogorov-Smirnov tests against \n",
    "# !!! standard normal distribution !!! (mean=0, SD=1)\n",
    "\n",
    "sample = sp.stats.norm.rvs(size=100)\n",
    "ks_statistic, p_value = sp.stats.kstest(sample, 'norm')\n",
    "print(ks_statistic, p_value)"
   ]
  },
  {
   "cell_type": "code",
   "execution_count": 36,
   "metadata": {},
   "outputs": [
    {
     "name": "stdout",
     "output_type": "stream",
     "text": [
      "0.0\n",
      "0.9791279019017987\n",
      "0.9791279019017987\n"
     ]
    }
   ],
   "source": [
    "# therefore, any normal distribution that is not standard \n",
    "# (i.e. normal distribution but with a mean and SD different from 0 and 1, respectively) \n",
    "# will produce p-value small enough to reject H0 of normal distribution\n",
    "sample = np.random.normal(150,10,100)\n",
    "ks_statistic, p_value = sp.stats.kstest(sample, 'norm')\n",
    "print(p_value)\n",
    "\n",
    "# However, you want to test the shape of your distribution\n",
    "# Solution 1: standardise my data (convert to Z-score)\n",
    "sample_standardized = [ (i-np.mean(sample))/np.std(sample) for i in sample ]\n",
    "ks_statistic, p_value = sp.stats.kstest(sample_standardized, 'norm')\n",
    "print(p_value)\n",
    "\n",
    "# Solution 2: add arguments in the call to KS test\n",
    "mean, SD = np.mean(sample), np.std(sample)\n",
    "ks_statistic, p_value = sp.stats.kstest( sample, 'norm', args=(mean, SD) )\n",
    "print(p_value)\n"
   ]
  },
  {
   "cell_type": "code",
   "execution_count": null,
   "metadata": {},
   "outputs": [],
   "source": [
    "from scipy.stats import kstest, norm\n",
    "import scipy\n",
    "import numpy as np\n",
    "\n",
    "# my_data = norm.rvs(size=100)\n",
    "my_data = np.random.normal(150,10,100)\n",
    "# my_data = np.random.normal(size=100)\n",
    "ks_statistic, p_value = kstest(\n",
    "\tmy_data, \n",
    "\t# 'norm'\n",
    "\tscipy.stats.norm.cdf\n",
    "\t)\n",
    "print(ks_statistic, p_value)"
   ]
  },
  {
   "attachments": {},
   "cell_type": "markdown",
   "metadata": {},
   "source": [
    "## Long-tailed\n",
    "\n",
    "E.g. distribution of household incomes = right-skewed graph, as the tail is on the right. \n",
    "\n"
   ]
  },
  {
   "cell_type": "code",
   "execution_count": 10,
   "metadata": {},
   "outputs": [
    {
     "data": {
      "text/plain": [
       "<Axes: ylabel='Count'>"
      ]
     },
     "execution_count": 10,
     "metadata": {},
     "output_type": "execute_result"
    },
    {
     "data": {
      "image/png": "[encoded data removed]",
      "text/plain": [
       "<Figure size 640x480 with 1 Axes>"
      ]
     },
     "metadata": {},
     "output_type": "display_data"
    }
   ],
   "source": [
    "\"\"\"\n",
    "Data (population) distribution - right-skewed\n",
    "\"\"\"\n",
    "\n",
    "import seaborn as sns\n",
    "# Generate Right-Skewed data set\n",
    "from scipy.stats import skewnorm\n",
    "from sklearn.preprocessing import MinMaxScaler\n",
    "import matplotlib.pyplot as plt\n",
    "import numpy as np\n",
    "\n",
    "num_data_points = 10000\n",
    "max_value = 100\n",
    "skewness = 15   # Positive values are right-skewed; negative values are left skewed\n",
    "\n",
    "skewed_random_data = skewnorm.rvs(a = skewness,loc=max_value, size=num_data_points, random_state=1)  \n",
    "sns.histplot(skewed_random_data)\n"
   ]
  },
  {
   "cell_type": "code",
   "execution_count": 76,
   "metadata": {},
   "outputs": [
    {
     "name": "stdout",
     "output_type": "stream",
     "text": [
      "[[0.42547755]\n",
      " [0.18620422]\n",
      " [0.17567094]\n",
      " ...\n",
      " [0.24652183]\n",
      " [0.04711763]\n",
      " [0.38519232]]\n"
     ]
    },
    {
     "data": {
      "image/png": "[encoded data removed]",
      "text/plain": [
       "<Figure size 1000x600 with 1 Axes>"
      ]
     },
     "metadata": {},
     "output_type": "display_data"
    }
   ],
   "source": [
    "skewed_data_scaled = MinMaxScaler().fit_transform(skewed_random_data.reshape(-1, 1))\n",
    "\n",
    "# Plot the data (population) distribution\n",
    "fig, ax = plt.subplots(figsize=(10, 6))\n",
    "ax.set_title(\"Data Distribution\", fontsize=24, fontweight=\"bold\")\n",
    "\n",
    "sns.histplot(skewed_data_scaled, bins=30, stat=\"density\", kde=True, legend=False, ax=ax)\n",
    "print(skewed_data_scaled)"
   ]
  },
  {
   "cell_type": "code",
   "execution_count": 97,
   "metadata": {},
   "outputs": [
    {
     "name": "stderr",
     "output_type": "stream",
     "text": [
      "C:\\Users\\evgen\\AppData\\Local\\Temp\\ipykernel_65524\\2398141073.py:20: RuntimeWarning: divide by zero encountered in log\n",
      "  skewed_random_data_logTrans = np.log(skewed_random_data)\n"
     ]
    },
    {
     "data": {
      "text/plain": [
       "Text(0.5, 1.0, 'Custom power')"
      ]
     },
     "execution_count": 97,
     "metadata": {},
     "output_type": "execute_result"
    },
    {
     "data": {
      "image/png": "[encoded data removed]",
      "text/plain": [
       "<Figure size 1000x1000 with 4 Axes>"
      ]
     },
     "metadata": {},
     "output_type": "display_data"
    }
   ],
   "source": [
    "\"\"\"\n",
    "Transforming data\n",
    "\"\"\";\n",
    "\n",
    "num_data_points = 10000\n",
    "max_value = 100\n",
    "skewness = 15   # Positive values are right-skewed; negative values are left skewed\n",
    "skewed_random_data = skewnorm.rvs(a = skewness,loc=max_value, size=num_data_points, random_state=1)  \n",
    "skewed_random_data -= min(skewed_random_data) # shift the set so the minimum value is equal to zero\n",
    "skewed_random_data /= max(skewed_random_data) # standardise all values between 0 and 1\n",
    "skewed_random_data *= max_value # multiply the standardised values by the maximum value\n",
    "\n",
    "plt.figure(figsize=(10,10))\n",
    "\n",
    "ax = plt.subplot(2, 2, 1)\n",
    "sns.histplot(skewed_random_data)\n",
    "plt.title('Original data')\n",
    "\n",
    "### log-transform\n",
    "skewed_random_data_logTrans = np.log(skewed_random_data)\n",
    "ax = plt.subplot(2, 2, 2)\n",
    "sns.histplot(skewed_random_data_logTrans)\n",
    "plt.title('Log transformed data')\n",
    "\n",
    "### square root\n",
    "ax = plt.subplot(2, 2, 3)\n",
    "sns.histplot(skewed_random_data**0.5)\n",
    "plt.title('Square root')\n",
    "\n",
    "### some power\n",
    "ax = plt.subplot(2, 2, 4)\n",
    "sns.histplot(skewed_random_data**0.3)\n",
    "plt.title('Custom power')"
   ]
  },
  {
   "attachments": {},
   "cell_type": "markdown",
   "metadata": {},
   "source": [
    "## Student's t-distribution \n",
    "\n",
    "A normally shaped distribution that is thicker and has longer tails.  \n",
    "\n",
    "We can use t-distribution if our sample size <u>is less than 30</u>, otherwise we can assume normal distribution as per the CLT. \n",
    "\n",
    "Also called Student's t distribution (1908, *Biometrica*, W.S.Gosset aka Student).\n",
    "\n",
    "<img src=\"Media/z-t-distributions.png\" width=\"430\"/>\n",
    "\n",
    "90% CI around the sample mean: \n",
    "\n",
    "$ \\overline{x} \\pm t_{n-1}(0.05) \\frac{s}{\\sqrt{n}} $\n",
    "\n",
    ", where $n$ - sample size, $t_{n-1}(0.05)$ is the t-statistic value with n-1 degrees of freedom, \"excluding\" 5% distribution at the two ends. "
   ]
  },
  {
   "cell_type": "code",
   "execution_count": 2,
   "metadata": {},
   "outputs": [
    {
     "name": "stdout",
     "output_type": "stream",
     "text": [
      "-2.262157162740992 2.2621571627409915\n"
     ]
    }
   ],
   "source": [
    "\"\"\"\n",
    "Calculate the critical value from a t-distribution\n",
    "\"\"\"\n",
    "\n",
    "from scipy.stats import t\n",
    "\n",
    "n = 10\n",
    "lower_cv = t(n-1).ppf(0.025)\n",
    "upper_cv = t(n-1).ppf(0.975)\n",
    "\n",
    "print(lower_cv, upper_cv)"
   ]
  },
  {
   "cell_type": "code",
   "execution_count": 7,
   "metadata": {},
   "outputs": [
    {
     "name": "stdout",
     "output_type": "stream",
     "text": [
      "99\n",
      "0.924210062867716 2.4452525699307488e-42\n",
      "23.835515323677328\n"
     ]
    },
    {
     "data": {
      "text/plain": [
       "1.0"
      ]
     },
     "execution_count": 7,
     "metadata": {},
     "output_type": "execute_result"
    }
   ],
   "source": [
    "# cdf\n",
    "from scipy.stats import t\n",
    "from math import sqrt\n",
    "import pandas as pd\n",
    "import scipy as sp\n",
    "\n",
    "data = pd.read_csv('https://bit.ly/3C8JzrM', delimiter=',')\n",
    "n = len(data)\n",
    "print(n)\n",
    "\n",
    "r, pval = sp.stats.pearsonr(data['x'], data['y'])\n",
    "print(r, pval)\n",
    "\n",
    "test_value = r / sqrt((1-r**2) / (n-2))\n",
    "print(test_value)\n",
    "t(n-1).cdf(test_value) # it says 1 because it's super small\n"
   ]
  },
  {
   "attachments": {},
   "cell_type": "markdown",
   "metadata": {},
   "source": [
    "## Bernoulli distribution\n",
    "\n",
    "- Bernoulli event (trial, experiment): even with only two outcomes - success (X=1) and failure (X=0). \n",
    "- Bernoulli distribution is the simplest case of binomial distribution.\n",
    "- The Bernoulli distribution represents the success or failure of a single Bernoulli trial. \n",
    "- A discrete distribution.\n",
    "\n",
    "$P(X=1) = p$\n",
    "\n",
    "$P(X=0) = q = 1-p$\n",
    "\n",
    "<img src=\"Media/Bernoulli_distribution.png\" width=\"300\"/>\n",
    "\n",
    "*Example*\n",
    "\n",
    "<img src=\"Media/Bernoulli_distribution_2.png\" width=\"300\"/>\n",
    "\n",
    "> For this distribution, :\n",
    "> - Mean (expected value) = 0.4*0 + 0.6*1 = 0.6\n",
    "> \n",
    "> no individual will take on a value of 0.6, but over many trials, on average you would get a 0.6\n",
    "> - Variance:\n",
    "> $$ \\sigma^{2} = 0.4 (0-0.6)^{2} + 0.6 (1-0.6)^{2} = 0.24 $$\n",
    "> - Standard Deviation:\n",
    "> $$ \\sigma = \\sqrt{\\sigma^{2}} = 0.49 $$\n"
   ]
  },
  {
   "cell_type": "code",
   "execution_count": 9,
   "metadata": {},
   "outputs": [
    {
     "data": {
      "text/plain": [
       "Text(0.5, 1.0, 'Bernoulli distribution')"
      ]
     },
     "execution_count": 9,
     "metadata": {},
     "output_type": "execute_result"
    },
    {
     "data": {
      "image/png": "[encoded data removed]",
      "text/plain": [
       "<Figure size 288x216 with 1 Axes>"
      ]
     },
     "metadata": {
      "needs_background": "light"
     },
     "output_type": "display_data"
    }
   ],
   "source": [
    "# Bernoulli distribution\n",
    "\n",
    "import matplotlib.pyplot as plt, seaborn as sns\n",
    "\n",
    "values = {\n",
    "\t'x': ['Unfavourable (0)', 'Favourable (1)'],\n",
    "\t'y': [40, 60]\n",
    "}\n",
    "\n",
    "plt.figure(figsize=(4,3))\n",
    "sns.barplot( x=values['x'], y=values['y'] )\n",
    "plt.ylabel('% of respondents')\n",
    "plt.title('Bernoulli distribution')\n"
   ]
  },
  {
   "attachments": {},
   "cell_type": "markdown",
   "metadata": {},
   "source": [
    "## Chi-square\n",
    "\n",
    "If you take a standard normal distribution, you sample from it a value, square it, and then repeat N times. What results is the chi-square distribution:\n",
    "\n",
    "$$ \\chi^2_k = Z^2_1 + Z^2_2 + ... + Z^2_k $$\n",
    ", where $k$ - number of degrees of freedom / number of parameters.\n",
    "\n",
    "For example, \n",
    "\n",
    "- if $k=1$, we sample from one variable that adopts a standard normal distribution: $ \\chi^2_1 = Z^2_1$.\n",
    "- if $k=2$, we sample from two independent variables that adopt standard normal distribution, then summing the squares of those values: $ \\chi^2_2 = Z^2_1 + Z^2_2 $\n",
    "- so forth...\n",
    "\n",
    "<img src=\"Media/chi_square_distributions.png\" width=\"500px\">"
   ]
  },
  {
   "cell_type": "code",
   "execution_count": 66,
   "metadata": {},
   "outputs": [
    {
     "data": {
      "text/plain": [
       "(0.0, 8.0)"
      ]
     },
     "execution_count": 66,
     "metadata": {},
     "output_type": "execute_result"
    },
    {
     "data": {
      "image/png": "[encoded data removed]",
      "text/plain": [
       "<Figure size 432x288 with 1 Axes>"
      ]
     },
     "metadata": {},
     "output_type": "display_data"
    }
   ],
   "source": [
    "import random, numpy as np, pandas as pd, matplotlib.pyplot as plt, seaborn as sns\n",
    "\n",
    "mu, sigma = 0, 1 # Mean and SD\n",
    "s1, s2, s3, s4, s5 = np.random.normal(mu, sigma, 10000), np.random.normal(mu, sigma, 10000), np.random.normal(mu, sigma, 10000), np.random.normal(mu, sigma, 10000), np.random.normal(mu, sigma, 10000)\n",
    "\n",
    "results = {\n",
    "\t'k=1': [],\n",
    "\t'k=2': [],\n",
    "\t'k=3': [], \n",
    "\t'k=4': [],\n",
    "\t'k=5': []\n",
    "}\n",
    "\n",
    "for i in range(10000):\n",
    "\tchoice1 = random.choice(s1)\n",
    "\tchoice2 = random.choice(s2)\n",
    "\tchoice3 = random.choice(s3)\n",
    "\tchoice4 = random.choice(s4)\n",
    "\tchoice5 = random.choice(s5)\n",
    "\tresults['k=1'].append( choice1**2  )\n",
    "\tresults['k=2'].append( choice1**2 + choice2**2 )\n",
    "\tresults['k=3'].append( choice1**2 + choice2**2 + choice3**2 )\n",
    "\tresults['k=4'].append( choice1**2 + choice2**2 + choice3**2 + choice4**2 )\n",
    "\n",
    "results\n",
    "\n",
    "sns.kdeplot(\n",
    "\tx=results['k=1'], \n",
    "\tlw=7, \n",
    ")\n",
    "\n",
    "sns.kdeplot(x=results['k=2'])\n",
    "sns.kdeplot(x=results['k=3'])\n",
    "sns.kdeplot(x=results['k=4'])\n",
    "\n",
    "# plt.xticks([0,2,4,6,8])\n",
    "plt.xlim([0, 8])"
   ]
  },
  {
   "attachments": {},
   "cell_type": "markdown",
   "metadata": {},
   "source": [
    "## Poisson\n",
    "\n",
    "Poisson process - a random variable. \n",
    "\n",
    "Assumptions:\n",
    "- All hours are possible;\n",
    "- Occurrences happening in one hour don't affect the occurrences in the other; "
   ]
  },
  {
   "attachments": {},
   "cell_type": "markdown",
   "metadata": {},
   "source": [
    "## Other distributions\n",
    "\n",
    "- Chi-Square distribution\n",
    "- Poisson\n",
    "- Power law: $y = x^{constant}$\n",
    "- Exponential distribution: $y = (constant)^{x}$\n",
    "- F-distribution\n",
    "- Weibull distribution\n",
    "\n",
    "<img src=\"Media/Exponential-vs-powerlaw.jpg\" width=\"500\"/>\n"
   ]
  },
  {
   "attachments": {},
   "cell_type": "markdown",
   "metadata": {},
   "source": [
    "# Hypothesis testing\n",
    "\n",
    "- Null hypothesis: no difference, and any difference between the groups is random; \n",
    "- Alternative hypothesis. \n",
    "\n",
    "In many parametric tests, we need to get a p-value - probability of obtaining the Z-score for a specific result from your sample, assuming that sampling distribution of H0 (t-distribution, z-distribution, whatever) is true. IOW, given that H0 is true, what's the probability of obtaining the observed result? \n",
    "\n",
    "Statistical significance of an experiment (or of a difference between two groups) is assessed with a p-value. P-value, in turn, can be obtained, by two methods: \n",
    "1. t-test etc.; check the theoretical distribution to find out how extreme your obtained value is; \n",
    "2. randomization inference: take the results from the two groups, re-randomize (mix them and randomly distribute) into two groups, measure the difference, repeat re-randomization many times, check how extreme your value is; \n",
    "\n",
    "Resampling (*to obtain p-values*): \n",
    "- **Bootstrap**: for estimating CI; estimates the variability of the sampling process. *Bootstrapping can also generate p-value*.\n",
    "  - In a bootstrap permutation test, the draws outlined in steps 2 and 3 of the random permutation test are made with replacement instead of without replacement.\n",
    "- **Permutation**: aims to quantiy the null distribution; iow, check if the observed difference can be explained by only a random sampling; *Permutation test can generate p-value*. \n",
    "  - Exhaustive permutation test: consider every possible permutation of the data;  \n",
    "  - Random permutation (randomization): take a sample - perform randomisation R times; \n",
    "  - Bootstrap permutation test. \n",
    "\n",
    "\n",
    "Statistical significance:\n",
    "- p-value: probability of obtaining results more or as extreme as the observed results by chance. E.g. in permutation test, it is the proportion of times permutation test produced a resulting difference that was equal or greater than the experimental difference. P value really is conditional probability: $\\text{p-value} = p(\\overline{x} \\ge \\text{ obtained result | H0 is true})$\n",
    "- alpha: a threshold of the result being considered extreme. Significance level. Typically, 0.10, 0.05, 0.01. \n",
    "  - If p-value < alpha, reject H0 (suggests Ha; there is convincing evidence for Ha); \n",
    "  - if p-value >= alpha, do not reject (fail to reject) H0; \n",
    "- Type 1 error (false positive): rejecting H0 when it's true; saying effect is real (when really it's due to chance); P(rejecting H0 | H0 true)\n",
    "- Type 2 error (false negative): not rejecting H0 when it's false; saying effect is due to chance (when really it's real); P(not rejecting H0 | H0 false)\n",
    "- (statistical) power: $\\text{power} = P(\\text{rejecting }H_{0} | H_{0}\\text{ is false}) = 1 - T2E$\n",
    "- As we decrease $\\alpha$, we increase $P(T2E)$, subsequently decreasing power. \n",
    "- Also, as we decrease $\\alpha$, we decrease $P(T1E)$\n",
    "\n",
    "\n",
    "<img src=\"Media/False_positive_etc.png\" width=\"500\">\n",
    "\n",
    "Multiple testing:\n",
    "- Alpha inflation: alpha (probability of commiting a type 1 error) increases with increasing number of tests. \n",
    "- Adjustment of p-values: adjustment for multiple tests. E.g. Bonferonni adjustment/correction, Tukey's HSD (honest significance test)\n",
    "- **Bonferroni correction**: when testing n different hypotheses simultaneously, the resulting p-value must rise to a level of $\\alpha/n$, in order to be considered as significant at the $\\alpha$ level. Essentially, <u>divide the alpha by the number of comparisons</u>\n",
    "\n",
    "ANOVA:\n",
    "- Performs a single overall test showing whether there is a difference between multiple variables, with a single p-value; \n",
    "1. Combine all data; \n",
    "2. Shuffle, draw out resamples (the same amount of resamples as the original number of groups); \n",
    "3. Calculate mean of each of the resample and then calculate variance btw the groups, record the variance;  \n",
    "4. Repeat steps 2-4 lots of times (1000x); \n",
    "5. p-value = proportion of times when the variance of resamples exceed or equals to the observed variance; \n",
    "\n"
   ]
  },
  {
   "attachments": {},
   "cell_type": "markdown",
   "metadata": {},
   "source": [
    "## Statistical tests\n",
    "\n",
    "**Independent samples** – subjects in one group do not provide info about subjects in the other group. They can’t be paired. E.g. medication trial has a control and a treatment group consisting of different individuals. **Dependent samples** – e.g. training program taking pretest and posttest scores from the same group of people. \n",
    "\n",
    "\n",
    "| Compare / measure what? | Example | Parametric test | Non-parametric test |\n",
    "| - | - | - | - |\n",
    "| Compare population proportion (%) with a sample proportion (%) | | z-test about a proportion | |\n",
    "| Compare sample mean to a known population mean | Collected birth weights of people with SIDS, want to know whether the obtained average birth-weight of SIDS subjects is different from the national average of 3300g. | One-sample t-test | Wilcoxon test, sign test |\n",
    "| Measure one group at two different times; dependent groups - 1 variable, 2 categories, within-subjects | Examine students' diagnostic test results before and after studying. E.g. insulin rate in 30 patients before and after the medical treatment. Every patient is associated with two measurements. | Paired t-test | Wilcoxon signed-rank test, Wilcoxon Rank sum test |\n",
    "| Compare means between 2 independent groups (1 variable, 2 categories, between subjects) | Do male managers have higher average salaries than the female managers? | Unpaired t-test (independent samples t-test) | Mann-Whitney U test |\n",
    "| Compare means between 3+ independent groups (1 variable, 3+ categories, between subjects) | Is there a difference in crop yield if a farmer uses fertiliser A, B, or C? | One-way ANOVA | Kruskal-Wallis test (Kruskal-Wallis H test) |\n",
    "| 1 variable, 3+ categories, within-subjects || repeated measures ANOVA | Friedman test, ANOVA on ranked data |\n",
    "| Estimate the degree of association between two variables | Does the number of hours a person spends on social media affects the number of hours they sleep at night? | Pearson correlation coefficient | Spearman's rank correlation |\n",
    "| One categorical variable | You want to test a hypothesis about distribution of one categorical variable. E.g. we have an expected distribution of sales of food items; we then measure it one day, and want to check if the measured distribution coincides with the expected one. Another example - Decide if bags of candy have the same number of pieces of each flavor or not | ? | Chi-Square Goodness of fit test |\n",
    "| Two categorical variables | We have hair color (blonde and brunette) variable - marginal distribution (overall) and the conditional distribution by sex. Is the difference between the conditional and marginal distribution of hair color significant, or can be expected by random chance? Another example - Decide if movie goers' decision to buy snacks is related to the type of movie they plan to watch | Poisson regression? | Pearson's $\\chi^2$ test of independence |\n",
    "\n"
   ]
  },
  {
   "attachments": {},
   "cell_type": "markdown",
   "metadata": {},
   "source": [
    "## z-test (proportion)\n",
    "\n",
    "Conditions for this test:\n",
    "- Random sample condition;\n",
    "- Normal: there are at least 10 counts in each sample group;\n",
    "- Independence: testing less than 10% of the population size;\n",
    "\n",
    "Formula: \n",
    "\n",
    "$$Z = \\cfrac{\\hat{p} - p_{0}}{\\sqrt{\\cfrac{p_{0}(1-p_{0})}{n}}}$$\n",
    ", where $\\hat{p}$ - proportion obtained from a sample, $n$ - sample size, $p_{0}$ - population proportion. \n",
    "\n",
    "---\n",
    "\n",
    "**Example**\n",
    "\n",
    "> There is a statistic saying that 26% of people speak more than one language. \n",
    ">\n",
    "> We are curious if this statistic is higher in our town. We took a sample of people in my town, and we found that 40 of 120 sampled people (0.33, or roughly 33%) speak more than one language.\n",
    ">\n",
    "> Let's test it?\n",
    "\n",
    "- First, the necessary conditions (random, normal, independent) are met;\n",
    "- $H_{0}$, $p=0.26$ | $H_{a}$, $p > 0.26$;\n",
    "- Let's calculate z-statistic: $Z = \\cfrac{0.33-0.26}{\\sqrt{\\cfrac{0.26(1-0.26)}{120}}} = 1.83$\n",
    "- Now let's find a probability value (p-value) for this z-statistic:\n",
    "- $\\text{P-value} = P(Z \\ge 1.83) \\approx 0.036$ ( we just take the value from the z-table, as this is one-tail test)\n",
    "- $p < \\alpha$, therefore, we can reject the null hypothesis and conclude that at the $\\alpha = 0.05$ significance level, the percentage changed significantly. \n",
    "\n"
   ]
  },
  {
   "attachments": {},
   "cell_type": "markdown",
   "metadata": {},
   "source": [
    "## Random permutation test\n",
    "\n",
    "By re-randomising the results, you could tell the probability of obtaining the results you got just by random chance.\n",
    "\n",
    "1. Combine the results from different groups into one dataset; \n",
    "2. Randomly draw resamples into groups of the same size as the original ones; \n",
    "3. Calculate statistic for the resamples; \n",
    "4. Repeat step 3 R times; \n",
    "5. Draw a permutation distribution of the test statistic.\n",
    "6. If the observed difference lies within the set of permuted differences, then the observed difference is within the range that is produced by random chance. If it lies outside of the most of permutation distribution, -> conclude that the difference is not by random chance -> statistically significant. \n",
    "\n",
    "> **Example (from Khan academy)**:\n",
    "> \n",
    "> Giovanna usually takes bus B to work, but she thinks but A can be faster. \n",
    "> \n",
    "> She randomized 50 workdays between two groups: treatment (bus A) and control (bus B)\n",
    "> At the end of the 50 days, she recorded $median(A) - median(B) = -8$, meaning that the median travel duration for bus A is 8 minutes less than that for bus B, from this experiment.\n",
    ">  \n",
    "> To test whether the results could be explained by random chance, she performed 1000 re-randomizations of data (where she took the results from those 50 days, redistributed them into the two groups randomly, calculated the difference of medians, and then performed the whole procedure again 1000 times). \n",
    "> Below is the table of re-randomization results (rounded values):\n",
    "> \n",
    "> According to the simulations, what is the probability of the treatment group's median being lower than the control group's median by 8 minutes or more? \n",
    "> \n",
    "> From the table below, we calculate that the frequency as extreme as the obtained result or more is $(8+85)/1000 = 0.093$, meaning that probability of obtaining the same or more extreme result by random is 9.3% - the result is not statistically significant. \n",
    "\n",
    "| $median(A) - median(B)$ | Frequency |\n",
    "| - | - |\n",
    "| -10 | 8 |\n",
    "| -8 | 85 |\n",
    "| -6 | 97 |\n",
    "| -4 | 161 |\n",
    "| -2 | 83 |\n",
    "| 0 | 127 |\n",
    "| 2 | 93 |\n",
    "| 4 | 159 |\n",
    "| 6 | 107 |\n",
    "| 8 | 62 |\n",
    "| 10 | 18 |\n",
    "\n",
    "\n"
   ]
  },
  {
   "cell_type": "code",
   "execution_count": null,
   "metadata": {},
   "outputs": [],
   "source": [
    "# random Permutation test\n",
    "import numpy as np, random\n",
    "import matplotlib.pyplot as plt, seaborn as sns\n",
    "\n",
    "# AB test\n",
    "groupA = [15, 16, 17, 19, 16, 18]\n",
    "groupB = [19, 21, 17, 22, 22, 21]\n",
    "# Original difference\n",
    "difference = np.mean(groupB) - np.mean(groupA); print(difference)\n",
    "\n",
    "# combine results\n",
    "combined_results = groupA + groupB; print(combined_results)\n",
    "# Perform numerous tests\n",
    "permutation_diffs = []\n",
    "for i in range(10000):\n",
    "\t# shuffle\n",
    "\trandom.shuffle(combined_results); \n",
    "\t# Draw two resamples\n",
    "\tresampleA, resampleB = combined_results[:len(groupA)], combined_results[len(groupA):]\n",
    "\t# print(resampleA)\n",
    "\t# print(resampleB)\n",
    "\tpermutation_diffs.append(np.mean(resampleB) - np.mean(resampleA))\n",
    "\n",
    "\n",
    "# print(permutation_diffs)\n",
    "\n",
    "sns.histplot( x=permutation_diffs, bins=30 )\n",
    "plt.title('Distribution of permutation test results')\n",
    "plt.xlabel('Resamples differences')\n",
    "plt.ylabel('Frequency')\n",
    "\n",
    "plt.axvline(difference, color='red', linewidth=2, ls='--')\n",
    "plt.text(difference, 8, \"observed\\ndifference\", bbox={'facecolor':'white'})\n",
    "\n",
    "# How many times (what percentage of cases) do we observe the observed difference by chance?\n",
    "difference_chance = np.mean( permutation_diffs >= (difference) )\n",
    "print(f\"Observed difference between group A and group B: {difference}\")\n",
    "print(f\"We find the difference that is the same or better, but by random chance, in {difference_chance * 100}% cases\")\n",
    "p_value = difference_chance\n",
    "print(f\"Statistically significantly group B is higher than group A: {p_value < 0.05} (p = {p_value})\") \n",
    "# If true, then the observed difference btw groups is outside range of variation by random chance and is statistically significant\n"
   ]
  },
  {
   "attachments": {},
   "cell_type": "markdown",
   "metadata": {},
   "source": [
    "## Student's t-test\n",
    "\n",
    "> E.g. to determine if means of two sets of data are significantly different from each other. \n",
    "\n",
    "| Test | Description | Formula | Example |\n",
    "| - | - | - | - |\n",
    "| $\\text{One-sample t-test}$ | **Compare sample mean to population mean**. $H_{0}$ - there is no difference between the sample mean and population mean, and the observed difference is likely due to random chance; $H_{a}$ - there is a significant difference between the sample mean and population mean.  | $$t = \\cfrac{\\overline{x}-\\mu}{S_{\\overline{x}}} = \\frac{\\overline{x}-\\mu}{\\frac{S}{\\sqrt{n}}}$$, where $\\mu$ - a population mean, $\\overline{x}$ - sample mean to test, $S$ - standard deviation of the sample, $S_{\\overline{x}}$ - standard error. | P-value >=0.05, we cannot conclude that the population mean differs from the sample mean. P-value < 0.05, then it is unlikely that the discrepancy you observed between sample mean and hypothetical mean is due to a coincidence arising from random sampling. You can reject the idea that the difference is a coincidence, and conclude instead that the population has a mean different than the hypothetical value you entered. |\n",
    "| $\\text{Independent two-sample t-test}$ | Compare means of two independent groups. | $$ t = \\cfrac{ (\\overline{x}_{1} - \\overline{x}_{2}) }{ \\sqrt{\\cfrac{S_{1}^{2}}{n_{1}}+\\cfrac{S_{2}^{2}}{n_{2}}} } $$, $S_{1}^{2}$ and $S_{2}^{2}$ - sample variance, $\\overline{x}_{1}$ and $\\overline{x}_{2}$ - means of samples. | $df = n_{1} + n_{2} -2$|\n",
    "| $\\text{Paired samples t-test}$ | Compare mean of a group before and after a treatment. | | |\n",
    "\n",
    "<u>Assumptions of a t-test</u>:\n",
    "- Data are continuous;\n",
    "- Independent - sampling with replacement OR sample size is less than 10% of total population size. \n",
    "- Data are approximately normally distributed: either $n \\ge 30$ (sample size) or, if $n < 30$, data is approximately normally-distributed. \n",
    "- Data is randomly sampled;\n",
    "- Have a similar amount of variance within each group of comparison (variance in both sample groups is similar); \n",
    "\n",
    "\n",
    "\n",
    "\n",
    "\n",
    "---\n",
    "\n",
    "\n",
    "\n",
    "_**Example of one sample t-test**_:\n",
    "> Mean to test: 65000, 95% confidence\n",
    "> \n",
    "> Sample: $\\overline{x} = 62456.2$, $S = SD = 2418.4$, $n=30$, $\\alpha = 0.05$\n",
    "\n",
    "- First, let's write our hypotheses: $H_{0}$ - there is no difference between population and sample means; $H_{a}$ - sample mean is smaller than the population mean (left-tailed test);\n",
    "- Let's calculate t-statistic: $t = \\cfrac{\\overline{x} - \\mu}{\\cfrac{SD}{\\sqrt{n}}} = \\cfrac{62456.2 - 65000}{\\cfrac{2418.4}{\\sqrt{30}}} = -5.761$ (it's negative because sample mean lies to the left of the population mean);\n",
    "- For $\\alpha = 0.05$, $df=29$, and right-tailed test, $t_{crit}=1.699$. $t > t_{crit}$, therefore, we can reject the null hypothesis. \n"
   ]
  },
  {
   "attachments": {},
   "cell_type": "markdown",
   "metadata": {},
   "source": [
    "### Examples\n"
   ]
  },
  {
   "cell_type": "code",
   "execution_count": 31,
   "metadata": {},
   "outputs": [
    {
     "name": "stdout",
     "output_type": "stream",
     "text": [
      "x_hat = 130.05 | n = 20 | SD = 9.96\n",
      "Normality test ( can we reject null hypothesis of normal distribution?): 0.989623686078989\n",
      "t-statistic (manual) = 4.512\n",
      "T-statistic (scipy) =  4.512403659336718\n",
      "P-Value:  0.00023838063630967753\n"
     ]
    },
    {
     "data": {
      "image/png": "[encoded data removed]",
      "text/plain": [
       "<Figure size 432x288 with 1 Axes>"
      ]
     },
     "metadata": {
      "needs_background": "light"
     },
     "output_type": "display_data"
    }
   ],
   "source": [
    "\"\"\" \n",
    "One-sample t-test\n",
    "\n",
    "> scipy.stats.ttest_1samp\n",
    "\n",
    "H_0: mu = 120\n",
    "H_A: mu != 120\n",
    "\"\"\"\n",
    "import numpy as np\n",
    "import scipy as sp\n",
    "import matplotlib.pyplot as plt, seaborn as sns\n",
    "\n",
    "mu = 120\n",
    "sample = [128,118,144,133,132,111,149,139,136,126,127,115,142,140,131,132,122,119,129,128]\n",
    "x_hat = np.mean(sample)\n",
    "sample_n = len(sample)\n",
    "SD = np.std(sample, ddof=1)\n",
    "print(f\"x_hat = {x_hat} | n = {sample_n} | SD = {SD:.2f}\")\n",
    "sns.histplot(sample)\n",
    "plt.axvline(x_hat, color='grey')\n",
    "plt.axvline(mu, color='red')\n",
    "\n",
    "# first, normality test, to check that the distribution is normal\n",
    "# Kolmogorov-Smirnov\n",
    "sample_standardized = [ (i-x_hat)/SD for i in sample ]\n",
    "ks_statistic, p_value = sp.stats.kstest(sample_standardized, 'norm')\n",
    "print(f\"Normality test ( can we reject null hypothesis of normal distribution?): {p_value}\")\n",
    "\n",
    "\n",
    "# check critical t-value in the table\n",
    "# for alpha=0.05, two-tail test, df=19, t_critical = 2.093\n",
    "\n",
    "# calculate t-statistic\n",
    "t = (x_hat - mu)/( SD/np.sqrt(sample_n) )\n",
    "print(f\"t-statistic (manual) = {t:.3f}\")\n",
    "\n",
    "# t-stat > t_crit for alpha=0.05, therefore it's in rejection region\n",
    "# we can reject H_0 -> sample mean is different from population mean\n",
    "\n",
    "# Let's use library\n",
    "t_stat, p_value = sp.stats.ttest_1samp(sample, popmean=mu)\n",
    "print(\"T-statistic (scipy) = \", t_stat)  \n",
    "print(\"P-Value: \", p_value)\n"
   ]
  },
  {
   "cell_type": "code",
   "execution_count": 5,
   "metadata": {},
   "outputs": [
    {
     "name": "stdout",
     "output_type": "stream",
     "text": [
      "Sample 1: n = 16 mean = 15.381 | SD = 0.312\n",
      "Sample 2: n = 16 mean = 15.681 | SD = 0.407\n",
      "T-statistic: -2.339\n",
      "-2.338821384818735 0.026198051170501974\n"
     ]
    },
    {
     "data": {
      "image/png": "[encoded data removed]",
      "text/plain": [
       "<Figure size 432x288 with 1 Axes>"
      ]
     },
     "metadata": {
      "needs_background": "light"
     },
     "output_type": "display_data"
    }
   ],
   "source": [
    "\"\"\"\n",
    "Independent sample t-test\n",
    "\n",
    "> scipy.stats.ttest_ind\n",
    "\n",
    "H_0: no statistically significant difference between groups\n",
    "H_a: there is a difference between the two groups\n",
    "\"\"\"\n",
    "import numpy as np\n",
    "import scipy as sp\n",
    "import matplotlib.pyplot as plt, seaborn as sns\n",
    "\n",
    "sample1 = [15.2,15.3,16.0,15.8,15.6,14.9,15.0,15.4,15.6,15.7,15.5,15.2,15.5,15.1,15.3,15]\n",
    "sample2 = [15.9,15.9,15.2,16.6,15.2,15.8,15.8,16.2,15.6,15.6,15.8,15.5,15.5,15.5,14.9,15.9]\n",
    "n1, n2 = len(sample1), len(sample2)\n",
    "sample1_mean, sample2_mean = np.mean(sample1), np.mean(sample2)\n",
    "SD_1, SD_2 = np.std(sample1, ddof=1), np.std(sample2, ddof=1)\n",
    "print(f\"Sample 1: n = {n1} mean = {sample1_mean:.3f} | SD = {SD_1:.3f}\")\n",
    "print(f\"Sample 2: n = {n2} mean = {sample2_mean:.3f} | SD = {SD_2:.3f}\")\n",
    "sns.histplot(sample1, color='red')\n",
    "sns.histplot(sample2, color='blue')\n",
    "\n",
    "# Calculate t-statistic\n",
    "t = (sample1_mean - sample2_mean)/(np.sqrt( (SD_1**2)/n1 + (SD_2**2)/n2 ))\n",
    "print(f\"T-statistic: {t:.3f}\")\n",
    "# check critical t-value\n",
    "# df = n1+n2-2 = 16+16-2 = 30\n",
    "# t-crit = 2.042\n",
    "# our t-statistic is greater than crit value, therefore, reject H0\n",
    "\n",
    "# Let's use a library\n",
    "t_stat, p_value = sp.stats.ttest_ind(\n",
    "\tsample1, sample2,\n",
    "\tequal_var = True # are variance values the same? True by default\n",
    "\t)\n",
    "print(t_stat, p_value)"
   ]
  },
  {
   "cell_type": "code",
   "execution_count": null,
   "metadata": {},
   "outputs": [],
   "source": [
    "\"\"\"\n",
    "Paired t-test\n",
    "\"\"\"\n",
    "# t_stat, p_value = ttest_rel(sample1, sample2)\n",
    "# print(\"T-statistic value: \", t_stat)  \n",
    "# print(\"P-Value: \", p_value)"
   ]
  },
  {
   "attachments": {},
   "cell_type": "markdown",
   "metadata": {},
   "source": [
    "## A/B testing\n",
    "\n",
    "Check which of the two treatments (control or treatment) is better.\n",
    "\n",
    "Test statistic (metric) - such as conversion / no conversion. "
   ]
  },
  {
   "attachments": {},
   "cell_type": "markdown",
   "metadata": {},
   "source": [
    "## Chi-Square test\n",
    "\n",
    "There are three different types of Chi-Square test:\n",
    "| Type | Definition | Example |\n",
    "| - | - | - |\n",
    "| Goodness-of-Fit | Determines whether a categorical data came from a theoretical distribution, or whether a population distribution fits a theoretical distribution. | There is a distribution of scores on AP test from 2017, do the scores from this year follow a different distribution to that of 2017? |\n",
    "| Homogeneity | The \"test of homogeneity\" is a way of determining whether two or more sub-groups of a population share the same distribution of a single categorical variable. Data is collected by randomly sampling <u>from each sub-group separately</u>. | Do people of different races have the same proportion of smokers to non-smokers? Do people in Canada and the US respond differently to the product (we sampled people from Canada and the US)? |\n",
    "| Independence / Association | The \"test of independence\" is a way of determining whether two categorical variables are associated with one another in the population. In the test of independence, observational units are collected at random <u>from the same population and two categorical variables are observed for each unit</u> of that population. $H_0$: no association between variables X and Y (independent), $H_1$: there is an association. | E.g. is there an association between the lengths of foot and hand (variables = which hand is longer, which foot is longer? Is there a relationship between a student's gender and the superpower they'd like to have (from the random sample of students from the same population)? |\n",
    "\n",
    "Homogeneity and Independence tests are calculated in the same way. In fact, the difference between them is very subtle and only lies in the data collection and hypothesis wording.\n",
    "\n",
    "Limitations:\n",
    "- Chi-square test CANNOT be used with percentages, only with numbers; \n",
    "- For chi-square test, the number of each expected observation needs to be at least 5. \n",
    "\n"
   ]
  },
  {
   "attachments": {},
   "cell_type": "markdown",
   "metadata": {},
   "source": [
    "### Goodness of fit \n",
    "\n",
    "Goodness of fit assumptions / requirements:\n",
    "1. You want to test a hypothesis about the distribution of one categorical variable;\n",
    "2. The sample was randomly selected from the population; \n",
    "3. Large Counts: there are a minimum of 5 observations in each **expected** group. In the **observed** group, the numbers can be any, even less than 5.\n",
    "4. The sample size should be less than 10% of the population size; \n",
    "\n",
    "Example goodness of fit:\n",
    "- One categorical variable - dog food flavours and their sales; compare observed distribution with the theoretical one. \n",
    "- We have an advertised (expected) frequency of different types of chocolate in a box; we have measured (observed) a distribution in a randomly-chosen box; need to check if the observed distribution is the same as the theoretical (advertised, expected) one; \n",
    "\n",
    "---\n",
    "\n",
    "**Example 1**  - Goodness of Fit:\n",
    "\n",
    "E.g. the number of customers on each day of the week. We have a total of 200 customers measured, and a theoretical % distribution.\n",
    "\n",
    "| Day observation | M | T | W | T | F | S | *Total* |\n",
    "| - | - | - | - | - | - | - | - |\n",
    "| Expected (%) | 10 | 10 | 15 | 20 | 30 | 15 | *100%* |\n",
    "| Observed | 30 | 14 | 34 | 45 | 57 | 20 | *200* |\n",
    "\n",
    "Are these two conditional distributions different?\n",
    "- $H_0$: expected/theoretical distribution is correct;\n",
    "- $H_1$: expected/theoreitcal distribution is not correct, based on the measured data.\n",
    "\n",
    "Here, the smallest sample size is so that each expected value is at least 5. Therefore, $n_{min} = 50$.\n",
    "\n",
    "$\\alpha$ = 0.05\n",
    "\n",
    "Steps:\n",
    "1. Convert percentages (from expected) to numbers:\n",
    "\n",
    "| Day observation | M | T | W | T | F | S | *Total* |\n",
    "| - | - | - | - | - | - | - | - |\n",
    "| Expected (numbers, from 200) | 20 | 20 | 30 | 40 | 60 | 30 | *200* |\n",
    "| Observed | 30 | 14 | 34 | 45 | 57 | 20 | *200* |\n",
    "\n",
    "2. Calculate the Chi-square statistic:\n",
    "\n",
    "$ \\chi^2 = \\frac{(30-20)^2}{20} + \\frac{(14-20)^2}{20} + \\frac{(34-30)^2}{30} + \\frac{(45-40)^2}{40} + \\frac{(57-60)^2}{60} + \\frac{(20-30)^2}{30} = 11.44 $\n",
    "\n",
    "3. Look up the Chi-square statistic in the Chi-square table:\n",
    "\n",
    "$df=5$, for $alpha=0.05$, the critical chi-square value (threshold) is $ \\chi^2_c = 11.070$. Because $11.44 > 11.070$, our result getting by chance is less than 0.05, so we can reject the null hypothesis (distribution) - it's not a good fit.\n",
    "\n",
    "---\n",
    "\n",
    "**Example 2**\n",
    "\n",
    "We want to check if the distribution of answers on a test - A, B, C and D - is equal. \n",
    "\n",
    "$H_0$: equal distribution of correct choices - 25% A, 25% B, 25% C, and 25% D;\n",
    "$H_1$: not equal distribution. \n",
    "\n",
    "We first take a sample of n=100; \n",
    "\n",
    "| Correct choice | Expected # | Observed # |\n",
    "| - | - | - |\n",
    "| A | 25 | 20 |\n",
    "| B | 25 | 20 |\n",
    "| C | 25 | 25 |\n",
    "| D | 25 | 35 |\n",
    "\n",
    "Now, what's the probability of getting our observed result by random chance? I.e. how likely that what we observed is simply due to random fluctuations?\n",
    "\n",
    "Smallest sample size = 20.\n",
    "\n",
    "Assuming $\\alpha = 0.05$, let's calculate the chi-square statistic:\n",
    "\n",
    "$ \\chi^2 = \\frac{(20-25)^2}{25} + \\frac{(20-25)^2}{25} + \\frac{(25-25)^2}{25} + \\frac{(35-25)^2}{25} = 6 $\n",
    "\n",
    "For $df=3$, the threshold chi-square statistic is $7.81$. Our statistic is smaller, therefore, fail to reject the null hypothesis.\n",
    "\n",
    "---\n",
    "\n",
    "**Example 3**\n",
    "\n",
    "In the game rock-paper-scissors, you can expect to win, lose, and tie with equal frequency. Here is a sample of outcomes of n=24 games:\n",
    "\n",
    "| Outcome | Win | Loss | Tie |\n",
    "| - | - | - | - |\n",
    "| Games | 4 | 13 | 7 |\n",
    "\n",
    "We can carry out a chi-square goodness-of-fit test to check whether the observed distribution disagrees with the theoretical (equal frequency) distribution.\n",
    "\n",
    "Smallest sample size = 15; this is because the minimum value for each expected column is 5, therefore, 15/3 = 5.\n",
    "\n",
    "First, let's fill in the expected values:\n",
    "\n",
    "| Outcome | Win | Loss | Tie |\n",
    "| - | - | - | - |\n",
    "| Observed | 4 | 13 | 7 |\n",
    "| Expected (for n=24) | 8 | 8 | 8 |\n",
    "\n",
    "$ \\chi^2 = \\frac{(4-8)^2}{8} + \\frac{(13-8)^2}{8} + \\frac{(7-8)^2}{8} = 5.25 $\n",
    "\n",
    "According to the chi-square table, for $df=2$ and $\\alpha=0.05$, the critical value is $\\chi^2_c = 5.991$. $\\chi^2 < \\chi^2_c$, therefore we cannot reject the $H_0$, $0.05 < p <0.1$."
   ]
  },
  {
   "attachments": {},
   "cell_type": "markdown",
   "metadata": {},
   "source": [
    "### Independence and Homogeneity\n",
    "\n",
    "The test to check if two categorical variables are independent; Independent events: $ P(A|B) = P(A) $.\n",
    "\n",
    "The test of independence presumes that you have 2 random variables and you want to test their independence given the sample at hand. The goodness of fit test, on the other hand, works on 1 random variable at a time. In the case of goodness of fit, the expected counts are calculated under the assumption that the sample came from the hypothesized distribution. In the case of the test of independence, the expected counts are calculated under the assumption that the 2 random variables are independent, as follows.\n",
    "\n",
    "---\n",
    "\n",
    "**Example** - homogeneity test\n",
    "\n",
    "Is there an association between hand and foot length? \n",
    "- $H_0$, no association between foot and hand length; \n",
    "- $H_1$, there is an association.\n",
    "\n",
    "| | Right foot longer | Left foot longer | Both feet same | **Total** |\n",
    "| - | - | - | - | - |\n",
    "| Right hand longer | 11 | 3 | 8 | **22** |\n",
    "| Left hand longer | 2 | 9 | 14 | **25** |\n",
    "| Both hands same | 12 | 13 | 28 | **53** |\n",
    "| **Total** | **25** | **25** | **50** | **100** |\n",
    "\n",
    "Fill in the expected table:\n",
    "| | Right foot longer | Left foot longer | Both feet same |\n",
    "| - | - | - | - |\n",
    "| Right hand longer | 5.5 | 5.5 | 11 |\n",
    "| Left hand longer | 6.25 | 6.25 | 12.5 |\n",
    "| Both hands same | 13.25 | 13.25 | 26.5 |\n",
    "\n",
    "Check conditions:\n",
    "- Took a random sample;\n",
    "- Expected value for any data point at least equals to 5;\n",
    "- \n",
    "\n",
    "Calculate the chi-square statistic:\n",
    "\n",
    "$ \\chi^2 = \\frac{(11-5.5)^2}{5.5} + \\frac{(3-5.5)^2}{5.5} + \\frac{(8-11)^2}{11} + \\frac{(2-6.25)^2}{6.25} + \\frac{(9-6.25)^2}{6.25} + \\frac{(14-12.5)^2}{12.5} + \\frac{(12-13.25)^2}{13.25} + \\frac{(13-13.25)^2}{13.25} + \\frac{(28-26.5)^2}{26.5} = 11.942 $\n",
    "\n",
    "For $df=4$ and $\\alpha=0.05$, critical statistic is $9.488$; therefore, we can reject the null hypothesis.  \n",
    "\n",
    "---\n",
    "\n",
    "**Example**\n",
    "\n",
    "Three treatments - treatment1, treatment2, and placebo. \n",
    "\n",
    "Contingency table:\n",
    "\n",
    "| | Treatment 1 | Treatment 2 | Placebo | **Total** |\n",
    "| - | - | - | - | - |\n",
    "| Sick | 20 | 30 | 30 | **80** |\n",
    "| Not sick | 100 | 110 | 90 | **300** |\n",
    "| **Total** | **120** | **140** | **120** | **380** |\n",
    "\n",
    "$H_0$: treatments do not have any effect on the sickness outcome; \n",
    "$H_1$: treatments do have some kind of effect on the sickness outcome; \n",
    "\n",
    "Significance level $\\alpha=0.10$\n",
    "\n",
    "First, let's calculate the expected values for each cell. For example, treatment1-sick expected value is calculated as $\\frac{80*120}{380}=25.3$:\n",
    "\n",
    "| | Treatment 1 (expected) | Treatment 2 (expected) | Placebo (expected) | **Total** |\n",
    "| - | - | - | - | - |\n",
    "| Sick (expected) | 25.3 | 29.4 | 25.3 | **80** |\n",
    "| Not sick (expected) | 94.7 | 110.6 | 94.7 | **300** |\n",
    "| **Total** | **120** | **140** | **120** | **380** |\n",
    "\n",
    "Now we can calculate the chi-squared statistic:\n",
    "\n",
    "$ \\chi^2 = \\frac{(20-25.3)^2}{25.3} + \\frac{(30-29.4)^2}{29.4} + \\frac{(30-25.3)^2}{25.3} + \\frac{(100-94.7)^2}{94.7} + \\frac{(110-110.6)^2}{110.6} + \\frac{(90-94.7)^2}{94.7} = 2.53 $\n",
    "\n",
    "We have $df = (r-1)(c-1) = 2$ degrees of freedom; let's check the critical chi-square statistic value in the chi-square table:\n",
    "\n",
    "For 2 df and at alpha of 0.1, the critical value is $\\chi^2_c = 4.605$. \n",
    "\n",
    "$\\chi^2 < \\chi^2_c$, therefore, we cannot reject the null hypothesis. \n",
    "\n",
    "---\n",
    "\n",
    "**Example 1** - relationship (independence) test:\n",
    "\n",
    "Experimental data:\n",
    "| Action | Headline A | Headline B | Headline C | Total (row) |\n",
    "| - | - | - | - | - |\n",
    "| Click | 14 | 8 | 12 | **34** |\n",
    "| No-click | 986 | 992 | 988 | **2966** |\n",
    "| Total (column) | **1000** | **1000** | **1000** | **3000** |\n",
    "\n",
    "Step 1. Rewrite contingency table with expected values for each group:\n",
    "\n",
    "*The expected value for each cell is calculated by multiplying the row total to the column total and dividing by the total number of observations for a cell to get the expected count*\n",
    "\n",
    "E.g., click-headlineA: $expected = \\frac{34*1000}{3000} = 11.333$. In this particular case, because in each division of the variable we have the same counts, expected values for each variable category will also be the same.\n",
    "\n",
    "| Action | Headline A | Headline B | Headline C | \n",
    "| - | - | - | - |\n",
    "| Click | 11.33 | 11.33 | 11.33 |\n",
    "| No-click | 988.67 | 988.67 | 988.67 |\n",
    "\n",
    "Step 2. Calculate Pearson residual and the chi-square statistic: \n",
    "\n",
    "$r = \\frac{observed-expected}{\\sqrt{expected}}$\n",
    "\n",
    "Pearson residuals:\n",
    "\n",
    "| Action | Headline A | Headline B | Headline C | \n",
    "| - | - | - | - |\n",
    "| Click | 0.792 | -0.990 | 0.198 |\n",
    "| No-click | -0.085 | 0.106 | -0.021 |\n",
    "\n",
    "Formula for Chi square:\n",
    "\n",
    "$$ X^2 = \\sum_{i}^{rows} \\sum_{j}^{col-s} r^{2} = \\sum (\\frac{(observed-expected)^{2}}{expected}) $$ \n",
    ", r and c - numbers of rows and columns. \n",
    "\n",
    "$X^2 = 0.792^2 + (-0.990)^2 + 0.198^2 + (-0.085)^2 + 0.106^2 + (-0.021)^2 = 1.666$ \n",
    "\n",
    "Subsequently, the p-value can be generated by several methods:\n",
    "\n",
    "**Using random permutation test**\n",
    "\n",
    "Steps 1 and 2 we did once for our experimental data. Now for resampling: \n",
    "\n",
    "Step 3. Repeat steps 1 and 2 1000x times, each time record the X statistic. \n",
    "\n",
    "Step 4. Calculate p-value and check where the observed X statistic is on the sampling distribution of X resamplings; \n",
    "\n",
    "**Using the chi-square table**\n",
    "\n",
    "$df = (r-1)(c-1)$ where r is the number of rows and c is the number of columns. If the observed chi-square test statistic is greater than the critical value, the null hypothesis can be rejected"
   ]
  },
  {
   "cell_type": "code",
   "execution_count": 1,
   "metadata": {},
   "outputs": [
    {
     "name": "stdout",
     "output_type": "stream",
     "text": [
      "X^2 observed: 1.6659\n",
      "resampled p-value: 0.4845\n"
     ]
    }
   ],
   "source": [
    "# Implementation from some book\n",
    "\n",
    "import random, numpy as np\n",
    "\n",
    "box = [1] * 34\n",
    "box.extend([0] * 2966)\n",
    "\n",
    "random.shuffle(box)\n",
    "\n",
    "def chi2(observed, expected):\n",
    "\t\"\"\" Returns X^2 for a given column \"\"\"\n",
    "\tpearson_residuals = []\n",
    "\tfor row, expect in zip(observed, expected):\n",
    "\t\tpearson_residuals.append([(observe - expect)**2 / expect for observe in row])\n",
    "\t# Return the sum of squares\n",
    "\treturn np.sum( pearson_residuals )\n",
    "\n",
    "# First, calculate X^2 for observed data\n",
    "expected_clicks = 34/3\n",
    "expected_noclicks = 1000 - expected_clicks\n",
    "\n",
    "expected = [ 34/3, 1000 - 34/3 ]\n",
    "chi2observed = chi2( [[14,8,12], [986,992,988]], expected )\n",
    "print(f\"X^2 observed: {chi2observed:.4f}\")\n",
    "\n",
    "def perm_fun(box):\n",
    "\tsample_clicks = [sum(random.sample(box,1000)), sum(random.sample(box,1000)), sum(random.sample(box,1000))]\n",
    "\tsample_noclicks = [1000-n for n in sample_clicks]\n",
    "\treturn chi2([sample_clicks, sample_noclicks], expected)\n",
    "\n",
    "perm_chi2 = [perm_fun(box) for i in range(2000)]\n",
    "\n",
    "resampled_p_value = sum(perm_chi2 > chi2observed) / len(perm_chi2)\n",
    "print(f\"resampled p-value: {resampled_p_value:.4f}\")"
   ]
  },
  {
   "cell_type": "code",
   "execution_count": 2,
   "metadata": {},
   "outputs": [
    {
     "name": "stdout",
     "output_type": "stream",
     "text": [
      "Chi-square value of our sample: 1.666\n",
      "----- Permutation test -----\n",
      "Initialised an answer pool of size 3000 with 34 positive and 2966 negative values.\n",
      "------------------------------\n",
      "resampled p-value: 0.4810\n"
     ]
    },
    {
     "data": {
      "image/png": "[encoded data removed]",
      "text/plain": [
       "<Figure size 504x360 with 1 Axes>"
      ]
     },
     "metadata": {
      "needs_background": "light"
     },
     "output_type": "display_data"
    }
   ],
   "source": [
    "# My implementation of the chi-square test\n",
    "\n",
    "import random\n",
    "import numpy as np\n",
    "import matplotlib.pyplot as plt, seaborn as sns\n",
    "\n",
    "def chi2(observed:list) -> float:\n",
    "\t\"\"\" \n",
    "\tReturn X^2 for a given column.\n",
    "\t\n",
    "\tobserved: [ event1[var1, var2, ... varn], event2[var1, var2, ... varn] ]\n",
    "\texpected: [ expected for event1, expected for event2 ]\n",
    "\t\"\"\"\n",
    "\texpected = [ np.mean(i) for i in observed ]\n",
    "\tpearson_residuals_squared = []\n",
    "\tfor o_list, e in zip(observed, expected):\n",
    "\t\tpearson_residuals_squared.append( [ ((o-e)**2)/e for o in o_list] )\n",
    "\t# At this point, pearson_residuals_squared is a list of sublists, \n",
    "\t# where each sublist contains squared pearson residual for each observation\n",
    "\treturn np.sum(pearson_residuals_squared)\n",
    "\n",
    "\n",
    "observed = [[14,8,12],[986,992,988]]\n",
    "chiSquared_sample = chi2( observed )\n",
    "\n",
    "print(f\"Chi-square value of our sample: {chiSquared_sample:.3f}\")\n",
    "\n",
    "# Now let's perform random permutation test\n",
    "def random_permutation_test( observed:list, N:int ):\n",
    "\t\"\"\" N - number of iterations \"\"\"\n",
    "\tanswer_pool = [1]*sum(observed[0]) + [0]*sum(observed[1])\n",
    "\tpermutation_results = []\n",
    "\tprint(f\"----- Permutation test -----\")\n",
    "\tprint(f\"Initialised an answer pool of size {len(answer_pool)} with {answer_pool.count(1)} positive and {answer_pool.count(0)} negative values.\")\n",
    "\tfor i in range(N):\n",
    "\t\trandom.shuffle(answer_pool)\n",
    "\t\tn = len(observed[0])\n",
    "\t\tpermute_positive = [ sum(answer_pool[j*1000:j*1000+1000]) for j in range(n) ]\n",
    "\t\tpermute_negative = [ 1000-j for j in permute_positive ]\n",
    "\t\t# print(permute_positive)\n",
    "\t\t# print(permute_negative)\n",
    "\t\tpermutation_results.append( chi2([permute_positive, permute_negative]) )\n",
    "\tprint(\"-\"*30)\n",
    "\treturn permutation_results\n",
    "\n",
    "\n",
    "chiSquared_permutationTest = random_permutation_test( observed, 2000 )\n",
    "chiSquared_permutationTest\n",
    "\n",
    "resampled_p_value = sum(chiSquared_permutationTest > chiSquared_sample) / len(chiSquared_permutationTest)\n",
    "print(f\"resampled p-value: {resampled_p_value:.4f}\")\n",
    "\n",
    "plt.figure(figsize=(7,5));\n",
    "sns.histplot(chiSquared_permutationTest);\n",
    "plt.axvline(chiSquared_sample, color='red', linestyle='dashed');"
   ]
  },
  {
   "cell_type": "code",
   "execution_count": 1,
   "metadata": {},
   "outputs": [
    {
     "data": {
      "text/plain": [
       "0.9515835243632651"
      ]
     },
     "execution_count": 1,
     "metadata": {},
     "output_type": "execute_result"
    }
   ],
   "source": [
    "# Goodness of fit test in python\n",
    "\n",
    "import scipy\n",
    "import numpy as np\n",
    "\n",
    "chi_square_test_statistic, p_value = scipy.stats.chisquare(\n",
    "\t[53.85, 27.78, 12.39, 5.98], [54.12, 26.27, 14.12, 5.49]\n",
    ")\n",
    "\n",
    "p_value"
   ]
  },
  {
   "attachments": {},
   "cell_type": "markdown",
   "metadata": {},
   "source": [
    "## Fisher's exact test\n",
    "\n",
    "While chi-square applies an approximation, Fisher's exact test enumerates all possible permutations and gives an exact p-value. "
   ]
  },
  {
   "attachments": {},
   "cell_type": "markdown",
   "metadata": {},
   "source": [
    "# Famous statistical blunders\n",
    "\n",
    "**Albert Kinsey's *Sexual Behavior in the Human Male***\n",
    "\n",
    "Albert Kinsey's scientific report, *Sexual Behavior in the Human Male*, aimed at providing some novel facts about sex. One of the claims was that \"10% of adult men were homosexuals, and an additional 11% were bisexual. 37% had had at least one homosexual experience\" (statistics.com). \n",
    "\n",
    "However, these results were challenged by reputable statisticians at the time (such as John Tukey, W.G. Cochran, and others); they stated that the results were not representative of the general population. The reasons for this were lack of random sampling (convenienve sampling), where most data was collected from easily-accessible yet unrepresentative groups such as students and prisoners, leading to **sampling bias**. Additionally, the study was prone to **volunteer bias**, where people who volunteer to provide their data are biased towards a unrepresentative proportion of the population.\n",
    "\n",
    "Sources:\n",
    "- https://www.statistics.com/famous-errors-in-statistics/\n",
    "- https://en.wikipedia.org/wiki/Kinsey_Reports#Criticism\n",
    "\n",
    "**The Landon vs Roosevelt \"Literary Digest\" poll disaster**\n",
    "\n",
    "In 1936, *Literary Digest* set out to make a poll on who would win in the upcoming presidential election - \tAlfred Landon or Franklin Roosevelt. They mailed over 10 million postcards to their subscribers, people on automobile registration lists, and names in the telephone directories. The results showed that 57% of the people would be in favour of Landon, thus predicting his victory. In reality, Franklin Roosevelt won with a 61% vote. \n",
    "\n",
    "The problem arose in the bias of sampling methodology. Although sample size was an impressive 10 million people with 2.4 million responses, the sample was biased towards people who could afford to pay a subscription, own a car, and afford a telephone service; these people, at the time, tended to be well-off Republicans, which biased the poll results towards Landon. \n",
    "\n",
    "Sources:\n",
    "- https://www.historyofinformation.com/detail.php?entryid=1652\n",
    "- https://open.ocolearnok.org/reach-higher-data-analysis/chapter/sample-surveys/\n",
    "\n",
    "**Benford's Law of Number Frequency**\n",
    "\n",
    "https://en.wikipedia.org/wiki/Benford%27s_law\n",
    "\n",
    "**Regression to the mean**\n",
    "\n",
    "https://en.wikipedia.org/wiki/Regression_toward_the_mean\n",
    "\n",
    "**Abraham Wald and the missing bullet holes**\n",
    "\n",
    "War planes holes. \n",
    "\n",
    "https://medium.com/@penguinpress/an-excerpt-from-how-not-to-be-wrong-by-jordan-ellenberg-664e708cfc3d\n",
    "\n",
    "\n",
    "\n",
    "\n",
    "The failure to show the association between launch temperature, and the effect of launch temperature, on the space shuttle o-rings, leading to the catastrophic failure of the Columbia soon after launch\n",
    "\n",
    "https://en.wikipedia.org/wiki/Space_Shuttle_Challenger_disaster#O-ring_concerns\n",
    "\n",
    "https://www.datavis.ca/gallery/missed.php\n",
    "\n",
    "\n",
    "\n"
   ]
  },
  {
   "attachments": {},
   "cell_type": "markdown",
   "metadata": {},
   "source": [
    "## The Anscombe quartet\n",
    "\n",
    "This example shows why it's so important to graph the data before analysis. \n",
    "\n",
    "The data below has the same mean, variance, correlation, linear regression line, yet are completely different data. \n",
    "\n",
    "**Anscombe's quartet comprises four data sets that have nearly identical simple descriptive statistics, yet have very different distributions and appear very different when graphed.**\n"
   ]
  },
  {
   "cell_type": "code",
   "execution_count": 31,
   "metadata": {},
   "outputs": [
    {
     "name": "stdout",
     "output_type": "stream",
     "text": [
      "Dataset 1:\n",
      " > Mean of x = 9.0, y = 7.500909090909093\n",
      " > Variance of x = 11.0, y = 4.127269090909091\n",
      " > Correlation = 0.816\n",
      " > Linear regression line: y = 3.000 + 0.500*x\n"
     ]
    },
    {
     "data": {
      "image/png": "[encoded data removed]",
      "text/plain": [
       "<Figure size 400x200 with 1 Axes>"
      ]
     },
     "metadata": {},
     "output_type": "display_data"
    },
    {
     "name": "stdout",
     "output_type": "stream",
     "text": [
      "Dataset 2:\n",
      " > Mean of x = 9.0, y = 7.50090909090909\n",
      " > Variance of x = 11.0, y = 4.127629090909091\n",
      " > Correlation = 0.816\n",
      " > Linear regression line: y = 3.001 + 0.500*x\n"
     ]
    },
    {
     "data": {
      "image/png": "[encoded data removed]",
      "text/plain": [
       "<Figure size 400x200 with 1 Axes>"
      ]
     },
     "metadata": {},
     "output_type": "display_data"
    },
    {
     "name": "stdout",
     "output_type": "stream",
     "text": [
      "Dataset 3:\n",
      " > Mean of x = 9.0, y = 7.5\n",
      " > Variance of x = 11.0, y = 4.12262\n",
      " > Correlation = 0.816\n",
      " > Linear regression line: y = 3.002 + 0.500*x\n"
     ]
    },
    {
     "data": {
      "image/png": "[encoded data removed]",
      "text/plain": [
       "<Figure size 400x200 with 1 Axes>"
      ]
     },
     "metadata": {},
     "output_type": "display_data"
    },
    {
     "name": "stdout",
     "output_type": "stream",
     "text": [
      "Dataset 4:\n",
      " > Mean of x = 9.0, y = 7.500909090909091\n",
      " > Variance of x = 11.0, y = 4.123249090909091\n",
      " > Correlation = 0.816\n",
      " > Linear regression line: y = 3.002 + 0.500*x\n"
     ]
    },
    {
     "data": {
      "image/png": "[encoded data removed]",
      "text/plain": [
       "<Figure size 400x200 with 1 Axes>"
      ]
     },
     "metadata": {},
     "output_type": "display_data"
    }
   ],
   "source": [
    "import matplotlib.pyplot as plt\n",
    "import seaborn as sns\n",
    "import scipy\n",
    "import numpy as np\n",
    "\n",
    "x1 = x2 = x3 = [10,8,13,9,11,14,6,4,12,7,5]\n",
    "y1 = [8.04, 6.95, 7.58, 8.81, 8.33, 9.96, 7.24, 4.26, 10.84, 4.82, 5.68]\n",
    "y2 = [9.14, 8.14, 8.74, 8.77, 9.26, 8.10, 6.13, 3.10, 9.13, 7.26, 4.74]\n",
    "y3 = [7.46, 6.77, 12.74, 7.11, 7.81, 8.84, 6.08, 5.39, 8.15, 6.42, 5.73]\n",
    "x4 = [8,8,8,8,8,8,8,19,8,8,8]\n",
    "y4 = [6.58, 5.76, 7.71, 8.84, 8.47, 7.04, 5.25, 12.50, 5.56, 7.91, 6.89]\n",
    "\n",
    "def makePlot(x, y,k):\n",
    "    plt.figure(figsize=(4,2))\n",
    "    plt.title(f'Dataset {k}')\n",
    "    plt.scatter(x, y)\n",
    "    print(f'Dataset {k}:')\n",
    "    print(f\" > Mean of x = {np.mean(x)}, y = {np.mean(y)}\")\n",
    "    print(f\" > Variance of x = {np.var(x, ddof=1)}, y = {np.var(y, ddof=1)}\")\n",
    "    print(f\" > Correlation = {str(scipy.stats.pearsonr(x,y)[0])[:5]}\")\n",
    "    slope, intercept, r_value, p_value, std_err = scipy.stats.linregress(x,y)\n",
    "    print(f\" > Linear regression line: y = {intercept:.3f} + {slope:.3f}*x\")\n",
    "    plt.xticks([4,8,12,16,20])\n",
    "    plt.show()\n",
    "\n",
    "for i,j,k in [[x1,y1,1], [x2,y2,2], [x3,y3,3], [x4,y4,4]]:\n",
    "    makePlot(i,j,k)"
   ]
  }
 ],
 "metadata": {
  "kernelspec": {
   "display_name": "Python 3.10.6 64-bit",
   "language": "python",
   "name": "python3"
  },
  "language_info": {
   "codemirror_mode": {
    "name": "ipython",
    "version": 3
   },
   "file_extension": ".py",
   "mimetype": "text/x-python",
   "name": "python",
   "nbconvert_exporter": "python",
   "pygments_lexer": "ipython3",
   "version": "3.9.12"
  },
  "orig_nbformat": 4,
  "vscode": {
   "interpreter": {
    "hash": "ddfef2dff3b289ad6149ca203ea5c3e5eaf5f756391d68f0c5d6060d3fe964ec"
   }
  }
 },
 "nbformat": 4,
 "nbformat_minor": 2
}
